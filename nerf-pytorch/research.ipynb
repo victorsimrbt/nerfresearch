{
  "cells": [
    {
      "attachments": {},
      "cell_type": "markdown",
      "metadata": {},
      "source": [
        "# What does this project do?\n",
        "\n",
        "- point cloud of object generated using depth and segmentation model\n",
        "- applications in robotics\n",
        "- better than alternatives, as runtime is significantly decreased\n"
      ]
    },
    {
      "attachments": {},
      "cell_type": "markdown",
      "metadata": {},
      "source": [
        "- Maybe view consistent editable nerfs?\n",
        "- Split into parts and then use diffusion models to edit it"
      ]
    },
    {
      "attachments": {},
      "cell_type": "markdown",
      "metadata": {},
      "source": [
        " - Remove points that are far away from other points\n",
        " - Fill in areas with high concentration of points"
      ]
    },
    {
      "attachments": {},
      "cell_type": "markdown",
      "metadata": {},
      "source": [
        "- put the point cloud in nerf\n",
        "- train the nerf\n",
        "- use the point cloud and a diffusion model to supervise on new poses"
      ]
    },
    {
      "attachments": {},
      "cell_type": "markdown",
      "metadata": {},
      "source": [
        "- text supervised nerf\n",
        "- use the text to make the nerf better"
      ]
    },
    {
      "attachments": {},
      "cell_type": "markdown",
      "metadata": {},
      "source": [
        "- add depth estimation model"
      ]
    },
    {
      "attachments": {},
      "cell_type": "markdown",
      "metadata": {},
      "source": [
        "# Prereqs"
      ]
    },
    {
      "cell_type": "code",
      "execution_count": 1,
      "metadata": {
        "id": "ptTYjWao3VsM"
      },
      "outputs": [],
      "source": [
        "import numpy as np\n",
        "import torch\n",
        "import matplotlib.pyplot as plt\n",
        "from typing import Optional"
      ]
    },
    {
      "cell_type": "code",
      "execution_count": 2,
      "metadata": {},
      "outputs": [],
      "source": [
        "device = \"cuda\" if torch.cuda.is_available() else \"cpu\""
      ]
    },
    {
      "cell_type": "code",
      "execution_count": 3,
      "metadata": {},
      "outputs": [
        {
          "data": {
            "text/plain": [
              "'cuda'"
            ]
          },
          "execution_count": 3,
          "metadata": {},
          "output_type": "execute_result"
        }
      ],
      "source": [
        "device"
      ]
    },
    {
      "attachments": {},
      "cell_type": "markdown",
      "metadata": {},
      "source": [
        "# CLIP Setup"
      ]
    },
    {
      "cell_type": "code",
      "execution_count": 50,
      "metadata": {},
      "outputs": [
        {
          "ename": "ModuleNotFoundError",
          "evalue": "No module named 'clip'",
          "output_type": "error",
          "traceback": [
            "\u001b[1;31m---------------------------------------------------------------------------\u001b[0m",
            "\u001b[1;31mModuleNotFoundError\u001b[0m                       Traceback (most recent call last)",
            "Cell \u001b[1;32mIn[50], line 2\u001b[0m\n\u001b[0;32m      1\u001b[0m \u001b[39mimport\u001b[39;00m \u001b[39mos\u001b[39;00m\n\u001b[1;32m----> 2\u001b[0m \u001b[39mimport\u001b[39;00m \u001b[39mclip\u001b[39;00m\n\u001b[0;32m      3\u001b[0m \u001b[39mimport\u001b[39;00m \u001b[39mtorch\u001b[39;00m\n\u001b[0;32m      4\u001b[0m \u001b[39mfrom\u001b[39;00m \u001b[39mtorchvision\u001b[39;00m\u001b[39m.\u001b[39;00m\u001b[39mdatasets\u001b[39;00m \u001b[39mimport\u001b[39;00m CIFAR100\n",
            "\u001b[1;31mModuleNotFoundError\u001b[0m: No module named 'clip'"
          ]
        }
      ],
      "source": [
        "import os\n",
        "import clip\n",
        "import torch\n",
        "from torchvision.datasets import CIFAR100\n",
        "\n",
        "# Load the model\n",
        "device = \"cuda\" if torch.cuda.is_available() else \"cpu\"\n",
        "clip_model, preprocess = clip.load('ViT-B/32', device)\n",
        "\n",
        "# Download the dataset\n",
        "cifar100 = CIFAR100(root=os.path.expanduser(\"~/.cache\"), download=True, train=False)\n",
        "classes = cifar100.classes"
      ]
    },
    {
      "cell_type": "code",
      "execution_count": null,
      "metadata": {},
      "outputs": [],
      "source": [
        "preprocess\n",
        "from torchvision import transforms\n",
        "resize = transforms.Resize(size=224, interpolation=transforms.InterpolationMode.BICUBIC, max_size=None, antialias=None)\n",
        "crop = transforms.CenterCrop(size=(224, 224))\n",
        "normalize = transforms.Normalize(mean=(0.48145466, 0.4578275, 0.40821073), std=(0.26862954, 0.26130258, 0.27577711))"
      ]
    },
    {
      "attachments": {},
      "cell_type": "markdown",
      "metadata": {},
      "source": [
        "# Data Setup"
      ]
    },
    {
      "attachments": {},
      "cell_type": "markdown",
      "metadata": {},
      "source": [
        "## Load LLFF"
      ]
    },
    {
      "cell_type": "code",
      "execution_count": 4,
      "metadata": {},
      "outputs": [
        {
          "ename": "FileNotFoundError",
          "evalue": "[Errno 2] No such file or directory: 'C:\\\\Users\\\\victo\\\\Desktop\\\\Files\\\\Tech\\\\Data\\\\horns\\\\poses_bounds.npy'",
          "output_type": "error",
          "traceback": [
            "\u001b[1;31m---------------------------------------------------------------------------\u001b[0m",
            "\u001b[1;31mFileNotFoundError\u001b[0m                         Traceback (most recent call last)",
            "Cell \u001b[1;32mIn[4], line 2\u001b[0m\n\u001b[0;32m      1\u001b[0m \u001b[39mfrom\u001b[39;00m \u001b[39mnerf\u001b[39;00m \u001b[39mimport\u001b[39;00m load_llff_data\n\u001b[1;32m----> 2\u001b[0m images, poses, bds, render_poses, i_test \u001b[39m=\u001b[39m load_llff_data(\u001b[39m\"\u001b[39;49m\u001b[39mC:\u001b[39;49m\u001b[39m\\\\\u001b[39;49;00m\u001b[39mUsers\u001b[39;49m\u001b[39m\\\\\u001b[39;49;00m\u001b[39mvicto\u001b[39;49m\u001b[39m\\\\\u001b[39;49;00m\u001b[39mDesktop\u001b[39;49m\u001b[39m\\\\\u001b[39;49;00m\u001b[39mFiles\u001b[39;49m\u001b[39m\\\\\u001b[39;49;00m\u001b[39mTech\u001b[39;49m\u001b[39m\\\\\u001b[39;49;00m\u001b[39mData\u001b[39;49m\u001b[39m\\\\\u001b[39;49;00m\u001b[39mhorns\u001b[39;49m\u001b[39m\\\\\u001b[39;49;00m\u001b[39m\"\u001b[39;49m, factor\u001b[39m=\u001b[39;49m\u001b[39m8\u001b[39;49m)\n\u001b[0;32m      3\u001b[0m hwf \u001b[39m=\u001b[39m poses[\u001b[39m0\u001b[39m, :\u001b[39m3\u001b[39m, \u001b[39m-\u001b[39m\u001b[39m1\u001b[39m]\n\u001b[0;32m      4\u001b[0m poses \u001b[39m=\u001b[39m poses[:, :\u001b[39m3\u001b[39m, :\u001b[39m4\u001b[39m]\n",
            "File \u001b[1;32mc:\\Users\\victo\\Desktop\\Files\\Tech\\Code\\Python\\Computer Graphics\\nerf-pytorch\\nerf\\load_llff.py:282\u001b[0m, in \u001b[0;36mload_llff_data\u001b[1;34m(basedir, factor, recenter, bd_factor, spherify, path_zflat)\u001b[0m\n\u001b[0;32m    278\u001b[0m \u001b[39mdef\u001b[39;00m \u001b[39mload_llff_data\u001b[39m(\n\u001b[0;32m    279\u001b[0m     basedir, factor\u001b[39m=\u001b[39m\u001b[39m8\u001b[39m, recenter\u001b[39m=\u001b[39m\u001b[39mTrue\u001b[39;00m, bd_factor\u001b[39m=\u001b[39m\u001b[39m0.75\u001b[39m, spherify\u001b[39m=\u001b[39m\u001b[39mFalse\u001b[39;00m, path_zflat\u001b[39m=\u001b[39m\u001b[39mFalse\u001b[39;00m\n\u001b[0;32m    280\u001b[0m ):\n\u001b[1;32m--> 282\u001b[0m     poses, bds, imgs \u001b[39m=\u001b[39m _load_data(\n\u001b[0;32m    283\u001b[0m         basedir, factor\u001b[39m=\u001b[39;49mfactor\n\u001b[0;32m    284\u001b[0m     )  \u001b[39m# factor=8 downsamples original imgs by 8x\u001b[39;00m\n\u001b[0;32m    285\u001b[0m     \u001b[39mprint\u001b[39m(\u001b[39m\"\u001b[39m\u001b[39mLoaded\u001b[39m\u001b[39m\"\u001b[39m, basedir, bds\u001b[39m.\u001b[39mmin(), bds\u001b[39m.\u001b[39mmax())\n\u001b[0;32m    287\u001b[0m     \u001b[39m# Correct rotation matrix ordering and move variable dim to axis 0\u001b[39;00m\n",
            "File \u001b[1;32mc:\\Users\\victo\\Desktop\\Files\\Tech\\Code\\Python\\Computer Graphics\\nerf-pytorch\\nerf\\load_llff.py:71\u001b[0m, in \u001b[0;36m_load_data\u001b[1;34m(basedir, factor, width, height, load_imgs)\u001b[0m\n\u001b[0;32m     69\u001b[0m \u001b[39mdef\u001b[39;00m \u001b[39m_load_data\u001b[39m(basedir, factor\u001b[39m=\u001b[39m\u001b[39mNone\u001b[39;00m, width\u001b[39m=\u001b[39m\u001b[39mNone\u001b[39;00m, height\u001b[39m=\u001b[39m\u001b[39mNone\u001b[39;00m, load_imgs\u001b[39m=\u001b[39m\u001b[39mTrue\u001b[39;00m):\n\u001b[1;32m---> 71\u001b[0m     poses_arr \u001b[39m=\u001b[39m np\u001b[39m.\u001b[39;49mload(os\u001b[39m.\u001b[39;49mpath\u001b[39m.\u001b[39;49mjoin(basedir, \u001b[39m\"\u001b[39;49m\u001b[39mposes_bounds.npy\u001b[39;49m\u001b[39m\"\u001b[39;49m))\n\u001b[0;32m     72\u001b[0m     poses \u001b[39m=\u001b[39m poses_arr[:, :\u001b[39m-\u001b[39m\u001b[39m2\u001b[39m]\u001b[39m.\u001b[39mreshape([\u001b[39m-\u001b[39m\u001b[39m1\u001b[39m, \u001b[39m3\u001b[39m, \u001b[39m5\u001b[39m])\u001b[39m.\u001b[39mtranspose([\u001b[39m1\u001b[39m, \u001b[39m2\u001b[39m, \u001b[39m0\u001b[39m])\n\u001b[0;32m     73\u001b[0m     bds \u001b[39m=\u001b[39m poses_arr[:, \u001b[39m-\u001b[39m\u001b[39m2\u001b[39m:]\u001b[39m.\u001b[39mtranspose([\u001b[39m1\u001b[39m, \u001b[39m0\u001b[39m])\n",
            "File \u001b[1;32mc:\\ProgramData\\Miniconda3\\envs\\nerfresearch\\lib\\site-packages\\numpy\\lib\\npyio.py:427\u001b[0m, in \u001b[0;36mload\u001b[1;34m(file, mmap_mode, allow_pickle, fix_imports, encoding, max_header_size)\u001b[0m\n\u001b[0;32m    425\u001b[0m     own_fid \u001b[39m=\u001b[39m \u001b[39mFalse\u001b[39;00m\n\u001b[0;32m    426\u001b[0m \u001b[39melse\u001b[39;00m:\n\u001b[1;32m--> 427\u001b[0m     fid \u001b[39m=\u001b[39m stack\u001b[39m.\u001b[39menter_context(\u001b[39mopen\u001b[39;49m(os_fspath(file), \u001b[39m\"\u001b[39;49m\u001b[39mrb\u001b[39;49m\u001b[39m\"\u001b[39;49m))\n\u001b[0;32m    428\u001b[0m     own_fid \u001b[39m=\u001b[39m \u001b[39mTrue\u001b[39;00m\n\u001b[0;32m    430\u001b[0m \u001b[39m# Code to distinguish from NumPy binary files and pickles.\u001b[39;00m\n",
            "\u001b[1;31mFileNotFoundError\u001b[0m: [Errno 2] No such file or directory: 'C:\\\\Users\\\\victo\\\\Desktop\\\\Files\\\\Tech\\\\Data\\\\horns\\\\poses_bounds.npy'"
          ]
        }
      ],
      "source": [
        "from nerf import load_llff_data\n",
        "images, poses, bds, render_poses, i_test = load_llff_data(\"C:\\\\Users\\\\victo\\\\Desktop\\\\Files\\\\Tech\\\\Data\\\\horns\\\\\", factor=8)\n",
        "hwf = poses[0, :3, -1]\n",
        "poses = poses[:, :3, :4]\n",
        "H, W, focal = hwf\n",
        "H, W = int(H), int(W)\n",
        "hwf = [H, W, focal]\n",
        "images = torch.from_numpy(images)\n",
        "poses = torch.from_numpy(poses)\n",
        "tform_cam2world = poses\n",
        "focal_length = focal\n",
        "height,width = H,W"
      ]
    },
    {
      "cell_type": "code",
      "execution_count": null,
      "metadata": {},
      "outputs": [],
      "source": [
        "# poses_arr = np.load(os.path.join(base_dir,\"poses_bounds.npy\"))\n",
        "# poses = poses_arr[:, :-2].reshape([-1, 3, 5]).transpose([1, 2, 0])\n",
        "# sh = images[0].shape\n",
        "# poses[:2, 4, :] = np.array(sh[:2]).reshape([2, 1])\n",
        "# poses[2, 4, :] = poses[2, 4, :] * 1.0 / 8\n",
        "# poses = np.concatenate([poses[:, 1:2, :], -poses[:, 0:1, :], poses[:, 2:, :]], 1)\n",
        "# poses = np.moveaxis(poses, -1, 0).astype(np.float32)\n",
        "\n",
        "tform_cam2world = []\n",
        "for i in range(len(poses)):\n",
        "    empty = np.array([[0,0,0,1]])\n",
        "    new_pose = np.concatenate((poses[i][:,:4],empty),0)\n",
        "    \n",
        "    tform_cam2world.append(torch.Tensor(new_pose))\n",
        "tform_cam2world = torch.stack(tform_cam2world)"
      ]
    },
    {
      "attachments": {},
      "cell_type": "markdown",
      "metadata": {},
      "source": [
        "## Load Blender"
      ]
    },
    {
      "cell_type": "code",
      "execution_count": 4,
      "metadata": {},
      "outputs": [
        {
          "data": {
            "text/plain": [
              "100"
            ]
          },
          "execution_count": 4,
          "metadata": {},
          "output_type": "execute_result"
        }
      ],
      "source": [
        "from nerf.load_blender import load_blender_data\n",
        "base_dir = r\"C:\\Users\\victo\\Desktop\\Files\\Tech\\Data\\nerf_synthetic\\nerf_synthetic\\chair\"\n",
        "images, poses, render_poses, hwf, i_split = load_blender_data(\n",
        "                base_dir,\n",
        "                half_res=True,\n",
        "                testskip=0\n",
        "            )\n",
        "images = images[:,:,:,:3][:100]\n",
        "H, W, focal = hwf\n",
        "height,width,focal_length = H,W,focal\n",
        "len(images)"
      ]
    },
    {
      "cell_type": "code",
      "execution_count": 5,
      "metadata": {},
      "outputs": [],
      "source": [
        "testimg = images[10]\n",
        "testpose = poses[10]\n",
        "near_thresh = 2\n",
        "far_thresh = 6\n",
        "tform_cam2world = poses"
      ]
    },
    {
      "attachments": {},
      "cell_type": "markdown",
      "metadata": {},
      "source": [
        "## Load Lego Bulldozer"
      ]
    },
    {
      "cell_type": "code",
      "execution_count": null,
      "metadata": {
        "id": "1w2QkjCkLc9Z"
      },
      "outputs": [],
      "source": [
        "# Load input images, poses, and intrinsics\n",
        "data = np.load(\"tiny_nerf_data.npz\")\n",
        "\n",
        "# Images\n",
        "images = data[\"images\"]\n",
        "# Camera extrinsics (poses)\n",
        "tform_cam2world = data[\"poses\"]\n",
        "tform_cam2world = torch.from_numpy(tform_cam2world).to(device)\n",
        "# Focal length (intrinsics)\n",
        "focal_length = data[\"focal\"]\n",
        "focal_length = torch.from_numpy(focal_length).to(device)\n",
        "\n",
        "# Height and width of each image\n",
        "height, width = images.shape[1:3]\n",
        "\n",
        "# Near and far clipping thresholds for depth values.\n",
        "near_thresh = 2.\n",
        "far_thresh = 6.\n",
        "\n",
        "# Hold one image out (for test).\n",
        "testimg, testpose = images[101], tform_cam2world[101]\n",
        "testimg = torch.from_numpy(testimg).to(device)\n",
        "\n",
        "# Map images to device\n",
        "images = torch.from_numpy(images[:100, ..., :3]).to(device)"
      ]
    },
    {
      "cell_type": "code",
      "execution_count": null,
      "metadata": {},
      "outputs": [],
      "source": [
        "tform_cam2world.shape"
      ]
    },
    {
      "attachments": {},
      "cell_type": "markdown",
      "metadata": {},
      "source": [
        "# Helper Functions"
      ]
    },
    {
      "cell_type": "code",
      "execution_count": 6,
      "metadata": {
        "id": "Qbdf8GDL4_0Z"
      },
      "outputs": [],
      "source": [
        "def meshgrid_xy(tensor1: torch.Tensor, tensor2: torch.Tensor) -> (torch.Tensor, torch.Tensor):\n",
        "    \"\"\"Mimick np.meshgrid(..., indexing=\"xy\") in pytorch. torch.meshgrid only allows \"ij\" indexing.\n",
        "    (If you're unsure what this means, safely skip trying to understand this, and run a tiny example!)\n",
        "\n",
        "    Args:\n",
        "      tensor1 (torch.Tensor): Tensor whose elements define the first dimension of the returned meshgrid.\n",
        "      tensor2 (torch.Tensor): Tensor whose elements define the second dimension of the returned meshgrid.\n",
        "    \"\"\"\n",
        "    # TESTED\n",
        "    ii, jj = torch.meshgrid(tensor1, tensor2)\n",
        "    return ii.transpose(-1, -2), jj.transpose(-1, -2)\n",
        "\n",
        "\n",
        "def cumprod_exclusive(tensor: torch.Tensor) -> torch.Tensor:\n",
        "  r\"\"\"Mimick functionality of tf.math.cumprod(..., exclusive=True), as it isn't available in PyTorch.\n",
        "\n",
        "  Args:\n",
        "    tensor (torch.Tensor): Tensor whose cumprod (cumulative product, see `torch.cumprod`) along dim=-1\n",
        "      is to be computed.\n",
        "  \n",
        "  Returns:\n",
        "    cumprod (torch.Tensor): cumprod of Tensor along dim=-1, mimiciking the functionality of\n",
        "      tf.math.cumprod(..., exclusive=True) (see `tf.math.cumprod` for details).\n",
        "  \"\"\"\n",
        "  # TESTED\n",
        "  # Only works for the last dimension (dim=-1)\n",
        "  dim = -1\n",
        "  # Compute regular cumprod first (this is equivalent to `tf.math.cumprod(..., exclusive=False)`).\n",
        "  cumprod = torch.cumprod(tensor, dim)\n",
        "  # \"Roll\" the elements along dimension 'dim' by 1 element.\n",
        "  cumprod = torch.roll(cumprod, 1, dim)\n",
        "  # Replace the first element by \"1\" as this is what tf.cumprod(..., exclusive=True) does.\n",
        "  cumprod[..., 0] = 1.\n",
        "  \n",
        "  return cumprod"
      ]
    },
    {
      "cell_type": "code",
      "execution_count": 7,
      "metadata": {
        "id": "EHNwlsOT7NTp"
      },
      "outputs": [],
      "source": [
        "def get_ray_bundle(height: int, width: int, focal_length: float, tform_cam2world: torch.Tensor):\n",
        "  r\"\"\"Compute the bundle of rays passing through all pixels of an image (one ray per pixel).\n",
        "\n",
        "  Args:\n",
        "    height (int): Height of an image (number of pixels).\n",
        "    width (int): Width of an image (number of pixels).\n",
        "    focal_length (float or torch.Tensor): Focal length (number of pixels, i.e., calibrated intrinsics).\n",
        "    tform_cam2world (torch.Tensor): A 6-DoF rigid-body transform (shape: :math:`(4, 4)`) that\n",
        "      transforms a 3D point from the camera frame to the \"world\" frame for the current example.\n",
        "  \n",
        "  Returns:\n",
        "    ray_origins (torch.Tensor): A tensor of shape :math:`(width, height, 3)` denoting the centers of\n",
        "      each ray. `ray_origins[i][j]` denotes the origin of the ray passing through pixel at\n",
        "      row index `j` and column index `i`.\n",
        "      (TODO: double check if explanation of row and col indices convention is right).\n",
        "    ray_directions (torch.Tensor): A tensor of shape :math:`(width, height, 3)` denoting the\n",
        "      direction of each ray (a unit vector). `ray_directions[i][j]` denotes the direction of the ray\n",
        "      passing through the pixel at row index `j` and column index `i`.\n",
        "      (TODO: double check if explanation of row and col indices convention is right).\n",
        "  \"\"\"\n",
        "  # TESTED\n",
        "  ii, jj = meshgrid_xy(\n",
        "      torch.arange(width).to(tform_cam2world),\n",
        "      torch.arange(height).to(tform_cam2world)\n",
        "  )\n",
        "  directions = torch.stack([(ii - width * .5) / focal_length,\n",
        "                            -(jj - height * .5) / focal_length,\n",
        "                            -torch.ones_like(ii)\n",
        "                           ], dim=-1)\n",
        "  ray_directions = torch.sum(directions[..., None, :] * tform_cam2world[:3, :3], dim=-1)\n",
        "  ray_origins = tform_cam2world[:3, -1].expand(ray_directions.shape)\n",
        "  return ray_origins, ray_directions"
      ]
    },
    {
      "cell_type": "code",
      "execution_count": 8,
      "metadata": {
        "id": "wAAfDK2L-faR"
      },
      "outputs": [],
      "source": [
        "def compute_query_points_from_rays(\n",
        "    ray_origins: torch.Tensor,\n",
        "    ray_directions: torch.Tensor,\n",
        "    near_thresh: float,\n",
        "    far_thresh: float,\n",
        "    num_samples: int,\n",
        "    randomize: Optional[bool] = True\n",
        ") -> (torch.Tensor, torch.Tensor):\n",
        "  r\"\"\"Compute query 3D points given the \"bundle\" of rays. The near_thresh and far_thresh\n",
        "  variables indicate the bounds within which 3D points are to be sampled.\n",
        "\n",
        "  Args:\n",
        "    ray_origins (torch.Tensor): Origin of each ray in the \"bundle\" as returned by the\n",
        "      `get_ray_bundle()` method (shape: :math:`(width, height, 3)`).\n",
        "    ray_directions (torch.Tensor): Direction of each ray in the \"bundle\" as returned by the\n",
        "      `get_ray_bundle()` method (shape: :math:`(width, height, 3)`).\n",
        "    near_thresh (float): The 'near' extent of the bounding volume (i.e., the nearest depth\n",
        "      coordinate that is of interest/relevance).\n",
        "    far_thresh (float): The 'far' extent of the bounding volume (i.e., the farthest depth\n",
        "      coordinate that is of interest/relevance).\n",
        "    num_samples (int): Number of samples to be drawn along each ray. Samples are drawn\n",
        "      randomly, whilst trying to ensure \"some form of\" uniform spacing among them.\n",
        "    randomize (optional, bool): Whether or not to randomize the sampling of query points.\n",
        "      By default, this is set to `True`. If disabled (by setting to `False`), we sample\n",
        "      uniformly spaced points along each ray in the \"bundle\".\n",
        "  \n",
        "  Returns:\n",
        "    query_points (torch.Tensor): Query points along each ray\n",
        "      (shape: :math:`(width, height, num_samples, 3)`).\n",
        "    depth_values (torch.Tensor): Sampled depth values along each ray\n",
        "      (shape: :math:`(num_samples)`).\n",
        "  \"\"\"\n",
        "  # TESTED\n",
        "  # shape: (num_samples)\n",
        "  depth_values = torch.linspace(near_thresh, far_thresh, num_samples).to(ray_origins)\n",
        "  if randomize is True:\n",
        "    # ray_origins: (width, height, 3)\n",
        "    # noise_shape = (width, height, num_samples)\n",
        "    noise_shape = list(ray_origins.shape[:-1]) + [num_samples]\n",
        "    # depth_values: (num_samples)\n",
        "    depth_values = depth_values \\\n",
        "        + torch.rand(noise_shape).to(ray_origins) * (far_thresh\n",
        "            - near_thresh) / num_samples\n",
        "  # (width, height, num_samples, 3) = (width, height, 1, 3) + (width, height, 1, 3) * (num_samples, 1)\n",
        "  # query_points:  (width, height, num_samples, 3)\n",
        "  query_points = ray_origins[..., None, :] + ray_directions[..., None, :] * depth_values[..., :, None]\n",
        "  # TODO: Double-check that `depth_values` returned is of shape `(num_samples)`.\n",
        "  return query_points, depth_values"
      ]
    },
    {
      "cell_type": "code",
      "execution_count": 9,
      "metadata": {
        "id": "UuZn7lMFDZXy"
      },
      "outputs": [],
      "source": [
        "def render_volume_density(\n",
        "    radiance_field: torch.Tensor,\n",
        "    ray_origins: torch.Tensor,\n",
        "    depth_values: torch.Tensor\n",
        ") -> (torch.Tensor, torch.Tensor, torch.Tensor):\n",
        "  r\"\"\"Differentiably renders a radiance field, given the origin of each ray in the\n",
        "  \"bundle\", and the sampled depth values along them.\n",
        "\n",
        "  Args:\n",
        "    radiance_field (torch.Tensor): A \"field\" where, at each query location (X, Y, Z),\n",
        "      we have an emitted (RGB) color and a volume density (denoted :math:`\\sigma` in\n",
        "      the paper) (shape: :math:`(width, height, num_samples, 4)`).\n",
        "    ray_origins (torch.Tensor): Origin of each ray in the \"bundle\" as returned by the\n",
        "      `get_ray_bundle()` method (shape: :math:`(width, height, 3)`).\n",
        "    depth_values (torch.Tensor): Sampled depth values along each ray\n",
        "      (shape: :math:`(num_samples)`).\n",
        "  \n",
        "  Returns:\n",
        "    rgb_map (torch.Tensor): Rendered RGB image (shape: :math:`(width, height, 3)`).\n",
        "    depth_map (torch.Tensor): Rendered depth image (shape: :math:`(width, height)`).\n",
        "    acc_map (torch.Tensor): # TODO: Double-check (I think this is the accumulated\n",
        "      transmittance map).\n",
        "  \"\"\"\n",
        "  # TESTED\n",
        "  sigma_a = torch.nn.functional.relu(radiance_field[..., 3])\n",
        "  rgb = torch.sigmoid(radiance_field[..., :3])\n",
        "  one_e_10 = torch.tensor([1e10], dtype=ray_origins.dtype, device=ray_origins.device)\n",
        "  dists = torch.cat((depth_values[..., 1:] - depth_values[..., :-1],\n",
        "                  one_e_10.expand(depth_values[..., :1].shape)), dim=-1)\n",
        "  alpha = 1. - torch.exp(-sigma_a * dists)\n",
        "  weights = alpha * cumprod_exclusive(1. - alpha + 1e-10)\n",
        "\n",
        "  rgb_map = (weights[..., None] * rgb).sum(dim=-2)\n",
        "  depth_map = (weights * depth_values).sum(dim=-1)\n",
        "  acc_map = weights.sum(-1)\n",
        "\n",
        "  return rgb_map, depth_map, acc_map"
      ]
    },
    {
      "cell_type": "code",
      "execution_count": 10,
      "metadata": {
        "id": "rrbs7YoMHAbF"
      },
      "outputs": [],
      "source": [
        "def positional_encoding(\n",
        "    tensor, num_encoding_functions=6, include_input=True, log_sampling=True\n",
        ") -> torch.Tensor:\n",
        "  r\"\"\"Apply positional encoding to the input.\n",
        "\n",
        "  Args:\n",
        "    tensor (torch.Tensor): Input tensor to be positionally encoded.\n",
        "    num_encoding_functions (optional, int): Number of encoding functions used to\n",
        "        compute a positional encoding (default: 6).\n",
        "    include_input (optional, bool): Whether or not to include the input in the\n",
        "        computed positional encoding (default: True).\n",
        "    log_sampling (optional, bool): Sample logarithmically in frequency space, as\n",
        "        opposed to linearly (default: True).\n",
        "  \n",
        "  Returns:\n",
        "    (torch.Tensor): Positional encoding of the input tensor.\n",
        "  \"\"\"\n",
        "  # TESTED\n",
        "  # Trivially, the input tensor is added to the positional encoding.\n",
        "  encoding = [tensor] if include_input else []\n",
        "  # Now, encode the input using a set of high-frequency functions and append the\n",
        "  # resulting values to the encoding.\n",
        "  frequency_bands = None\n",
        "  if log_sampling:\n",
        "      frequency_bands = 2.0 ** torch.linspace(\n",
        "            0.0,\n",
        "            num_encoding_functions - 1,\n",
        "            num_encoding_functions,\n",
        "            dtype=tensor.dtype,\n",
        "            device=tensor.device,\n",
        "        )\n",
        "  else:\n",
        "      frequency_bands = torch.linspace(\n",
        "          2.0 ** 0.0,\n",
        "          2.0 ** (num_encoding_functions - 1),\n",
        "          num_encoding_functions,\n",
        "          dtype=tensor.dtype,\n",
        "          device=tensor.device,\n",
        "      )\n",
        "\n",
        "  for freq in frequency_bands:\n",
        "      for func in [torch.sin, torch.cos]:\n",
        "          encoding.append(func(tensor * freq))\n",
        "\n",
        "  # Special case, for no positional encoding\n",
        "  if len(encoding) == 1:\n",
        "      return encoding[0]\n",
        "  else:\n",
        "      return torch.cat(encoding, dim=-1)"
      ]
    },
    {
      "cell_type": "code",
      "execution_count": 11,
      "metadata": {
        "id": "v9SbAqC6Ki9H"
      },
      "outputs": [],
      "source": [
        "def get_minibatches(inputs: torch.Tensor, chunksize: Optional[int] = 1024 * 8):\n",
        "  r\"\"\"Takes a huge tensor (ray \"bundle\") and splits it into a list of minibatches.\n",
        "  Each element of the list (except possibly the last) has dimension `0` of length\n",
        "  `chunksize`.\n",
        "  \"\"\"\n",
        "  return [inputs[i:i + chunksize] for i in range(0, inputs.shape[0], chunksize)]"
      ]
    },
    {
      "cell_type": "code",
      "execution_count": 12,
      "metadata": {
        "colab": {
          "base_uri": "https://localhost:8080/",
          "height": 268
        },
        "id": "_04FamFHM7l8",
        "outputId": "c7588314-61ef-4ee6-d721-397939ce161d"
      },
      "outputs": [
        {
          "data": {
            "image/png": "[encoded data removed]",
            "text/plain": [
              "<Figure size 640x480 with 1 Axes>"
            ]
          },
          "metadata": {},
          "output_type": "display_data"
        }
      ],
      "source": [
        "plt.imshow(testimg.detach().cpu().numpy())\n",
        "plt.show()"
      ]
    },
    {
      "attachments": {},
      "cell_type": "markdown",
      "metadata": {},
      "source": [
        "# CLIP Functions"
      ]
    },
    {
      "cell_type": "code",
      "execution_count": null,
      "metadata": {},
      "outputs": [],
      "source": [
        "import torchvision.transforms as transforms\n",
        "    \n",
        "perspective = transforms.RandomPerspective()\n",
        "flip = transforms.RandomHorizontalFlip()\n",
        "affine = transforms.RandomAffine(10)\n",
        "jitter = transforms.ColorJitter()\n",
        "def augment_img(img):\n",
        "    augmented_img = img\n",
        "    augmented_img = perspective.forward(augmented_img)\n",
        "    augmented_img = flip.forward(augmented_img)\n",
        "    augmented_img = affine.forward(augmented_img)\n",
        "    augmented_img = jitter.forward(augmented_img)\n",
        "    return augmented_img"
      ]
    },
    {
      "cell_type": "code",
      "execution_count": null,
      "metadata": {},
      "outputs": [],
      "source": [
        "suitable_class = \"lawn_mower\"\n",
        "target_logits = torch.zeros(len(classes)).to(device)\n",
        "target_logits[classes.index(suitable_class)] = 1\n",
        "class_target_logits = torch.reshape(target_logits,(1,100)).to(device)\n",
        "\n",
        "text_inputs = torch.cat([clip.tokenize(f\"a photo of a {c}\") for c in cifar100.classes]).to(device)\n",
        "\n",
        "# Complex text input\n",
        "descriptive_text = clip.tokenize(\"a lego excavator\").to(device)\n",
        "\n",
        "def class_clip(rgb_predicted,target_img,rgb_weightage = 1, clip_weightage = 0.5):\n",
        "    image = torch.Tensor(rgb_predicted)\n",
        "    rgb = torch.dsplit(image,3)\n",
        "    transformed = torch.stack(rgb).reshape(3,100,100)\n",
        "    resized = resize(transformed)\n",
        "    normalized = normalize(resized.unsqueeze(0).to(device))\n",
        "    cosine_similarities = clip_model(normalized,text_inputs)[0]\n",
        "    softmax = torch.nn.Softmax(dim=1)\n",
        "    logits  = softmax(cosine_similarities)\n",
        "    crossentropy = torch.nn.CrossEntropyLoss()\n",
        "    loss = torch.nn.functional.mse_loss(rgb_predicted, target_img)*rgb_weightage + crossentropy(target_logits,logits)*clip_weightage\n",
        "    return loss\n",
        "\n",
        "def descriptive_clip(rgb_predicted,target_img,rgb_weightage = 1, clip_weightage = 0):\n",
        "    image = torch.Tensor(rgb_predicted)\n",
        "    rgb = torch.dsplit(image,3)\n",
        "    transformed = torch.stack(rgb).reshape(3,100,100)\n",
        "    resized = resize(transformed)\n",
        "    normalized = normalize(resized).unsqueeze(0).to(device)\n",
        "    cosine_similarity = clip_model(normalized,descriptive_text)[0].to(device)\n",
        "    loss = torch.nn.functional.mse_loss(rgb_predicted, target_img)*rgb_weightage + -torch.log(cosine_similarity)*clip_weightage\n",
        "    return loss"
      ]
    },
    {
      "cell_type": "code",
      "execution_count": null,
      "metadata": {},
      "outputs": [],
      "source": [
        "plt.imshow(testimg.cpu())"
      ]
    },
    {
      "cell_type": "code",
      "execution_count": null,
      "metadata": {},
      "outputs": [],
      "source": [
        "import torch\n",
        "from PIL import Image\n",
        "def truncate(val):\n",
        "    if val > 0:\n",
        "        return 1\n",
        "    else:\n",
        "        return 0\n",
        "# descriptive_text = clip.tokenize(\"yellow excavator\").to(device)\n",
        "sigmoid = torch.nn.Sigmoid()\n",
        "relu = torch.nn.ReLU()\n",
        "# image = torch.clone(testimg)\n",
        "\n",
        "def split_img(im,M,N):\n",
        "    return [[im[x:x+M,y:y+N],(x,M),(y,N)] for x in range(0,im.shape[0],M) for y in range(0,im.shape[1],N)]\n",
        "\n",
        "def similarity(img,text_input):\n",
        "    descriptive_text = clip.tokenize(text_input).to(device)\n",
        "    shape = img.shape\n",
        "    rgb = torch.dsplit(img,3)\n",
        "    transformed = torch.stack(rgb).reshape(shape[-1],shape[0],shape[1])\n",
        "    resized = resize(transformed)\n",
        "    normalized = normalize(resized).unsqueeze(0).to(device)\n",
        "    cosine_similarity = clip_model(normalized,descriptive_text)[0].to(device)\n",
        "    return cosine_similarity\n",
        "\n",
        "def clear_tile(img,x_vals,y_vals,size = 5):\n",
        "    x,M = x_vals\n",
        "    y,N = y_vals\n",
        "    #print(img.shape)\n",
        "    #print(x,y+20)\n",
        "    for a in range(x,x+size):\n",
        "        for b in range(y,y+size):\n",
        "            img[a][b] = torch.Tensor([0,0,0])\n",
        "            \n",
        "    return img\n",
        "\n",
        "def find_grads(text_input,image,augments = 0):\n",
        "    shape = image.shape\n",
        "    descriptive_text = clip.tokenize(text_input).to(device)\n",
        "    image = torch.clone(image)\n",
        "    image.requires_grad = True\n",
        "\n",
        "    loss = 0\n",
        "    if augments:\n",
        "        for i in range(augments):\n",
        "            augmented = augment_img(image)\n",
        "            rgb = torch.dsplit(augmented,3)\n",
        "            transformed = torch.stack(rgb).reshape(shape[-1],shape[0],shape[1])\n",
        "            resized = resize(transformed)\n",
        "            normalized = normalize(resized).unsqueeze(0).to(device)\n",
        "            cosine_similarity = clip_model(normalized,descriptive_text)[0].to(device)\n",
        "            loss += -cosine_similarity\n",
        "    else:\n",
        "        image.requires_grad = True\n",
        "        rgb = torch.dsplit(image,3)\n",
        "        transformed = torch.stack(rgb).reshape(shape[-1],shape[0],shape[1])\n",
        "        resized = resize(transformed)\n",
        "        normalized = normalize(resized).unsqueeze(0).to(device)\n",
        "        cosine_similarity = clip_model(normalized,descriptive_text)[0].to(device)\n",
        "        loss = -cosine_similarity\n",
        "    loss.backward()\n",
        "    grads = relu(image.grad.cpu())\n",
        "    return grads\n",
        "\n",
        "def generate_mask(img,size = 5,scale = 1.1):\n",
        "    tiles = split_img(img,size,size)\n",
        "    min_score = similarity(torch.zeros(tiles[0][0].shape),\"yellow lego bulldozer\")\n",
        "    mask = torch.ones(img.shape)\n",
        "    for i in range(len(tiles)):\n",
        "        score = similarity(tiles[i][0],\"yellow lego bulldozer\")\n",
        "        #print(tiles[i][1:])\n",
        "        #print(score)\n",
        "        if score < min_score*scale:\n",
        "            mask = clear_tile(mask,tiles[i][1],tiles[i][2],size=size)\n",
        "    return mask\n",
        "\n",
        "#monkey = Image.open(\"monkey.jpg\")\n",
        "#monkey = monkey.resize((100,100))\n",
        "#monkey_ = torch.Tensor(np.array(monkey)/255)\n",
        "\n",
        "#monkey = torch.clone(monkey_)\n",
        "\n",
        "\n",
        "empty = find_grads(\"\",testimg,augments = 0)\n",
        "extra = find_grads(\"yellow lego bulldozer\",testimg,augments = 0)\n",
        "mask = generate_mask(testimg,size = 10)\n",
        "plt.imshow((extra-empty)*mask)"
      ]
    },
    {
      "attachments": {},
      "cell_type": "markdown",
      "metadata": {},
      "source": [
        "# Model Initialisation"
      ]
    },
    {
      "cell_type": "code",
      "execution_count": null,
      "metadata": {},
      "outputs": [],
      "source": [
        "class VeryTinyNerfModel(torch.nn.Module):\n",
        "  r\"\"\"Define a \"very tiny\" NeRF model comprising three fully connected layers.\n",
        "  \"\"\"\n",
        "  def __init__(self, filter_size=128, num_encoding_functions=6):\n",
        "    super(VeryTinyNerfModel, self).__init__()\n",
        "    # Input layer (default: 39 -> 128)\n",
        "    self.layer1 = torch.nn.Linear(3 + 3 * 2 * num_encoding_functions, filter_size)\n",
        "    # Layer 2 (default: 128 -> 128)\n",
        "    self.layer2 = torch.nn.Linear(filter_size, filter_size)\n",
        "    # Layer 3 (default: 128 -> 4)\n",
        "    self.layer3 = torch.nn.Linear(filter_size, 4)\n",
        "    # Short hand for torch.nn.functional.relu\n",
        "    self.relu = torch.nn.functional.relu\n",
        "  \n",
        "  def forward(self, x):\n",
        "    x = self.relu(self.layer1(x))\n",
        "    x = self.relu(self.layer2(x))\n",
        "    x = self.layer3(x)\n",
        "    return x"
      ]
    },
    {
      "cell_type": "code",
      "execution_count": null,
      "metadata": {},
      "outputs": [],
      "source": [
        "# One iteration of TinyNeRF (forward pass).\n",
        "def run_one_iter_of_tinynerf(height, width, focal_length, tform_cam2world,\n",
        "                             near_thresh, far_thresh, depth_samples_per_ray,\n",
        "                             encoding_function, get_minibatches_function):\n",
        "  \n",
        "  # Get the \"bundle\" of rays through all image pixels.\n",
        "  ray_origins, ray_directions = get_ray_bundle(height, width, focal_length,\n",
        "                                               tform_cam2world)\n",
        "  \n",
        "  # Sample query points along each ray\n",
        "  query_points, depth_values = compute_query_points_from_rays(\n",
        "      ray_origins, ray_directions, near_thresh, far_thresh, depth_samples_per_ray\n",
        "  )\n",
        "\n",
        "  # \"Flatten\" the query points.\n",
        "  flattened_query_points = query_points.reshape((-1, 3))\n",
        "\n",
        "  # Encode the query points (default: positional encoding).\n",
        "  encoded_points = encoding_function(flattened_query_points)\n",
        "\n",
        "  # Split the encoded points into \"chunks\", run the model on all chunks, and\n",
        "  # concatenate the results (to avoid out-of-memory issues).\n",
        "  batches = get_minibatches_function(encoded_points, chunksize=chunksize)\n",
        "  predictions = []\n",
        "  for batch in batches:\n",
        "    predictions.append(model(batch))\n",
        "  radiance_field_flattened = torch.cat(predictions, dim=0)\n",
        "\n",
        "  # \"Unflatten\" to obtain the radiance field.\n",
        "  unflattened_shape = list(query_points.shape[:-1]) + [4]\n",
        "  radiance_field = torch.reshape(radiance_field_flattened, unflattened_shape)\n",
        "\n",
        "  # Perform differentiable volume rendering to re-synthesize the RGB image.\n",
        "  rgb_predicted, _, _ = render_volume_density(radiance_field, ray_origins, depth_values)\n",
        "\n",
        "  return rgb_predicted"
      ]
    },
    {
      "cell_type": "code",
      "execution_count": null,
      "metadata": {},
      "outputs": [],
      "source": [
        "\"\"\"\n",
        "Parameters for TinyNeRF training\n",
        "\"\"\"\n",
        "\n",
        "# Number of functions used in the positional encoding (Be sure to update the \n",
        "# model if this number changes).\n",
        "num_encoding_functions = 4\n",
        "# Specify encoding function.\n",
        "encode = lambda x: positional_encoding(x, num_encoding_functions=num_encoding_functions)\n",
        "# Number of depth samples along each ray.\n",
        "depth_samples_per_ray = 32\n",
        "\n",
        "# Chunksize (Note: this isn't batchsize in the conventional sense. This only\n",
        "# specifies the number of rays to be queried in one go. Backprop still happens\n",
        "# only after all rays from the current \"bundle\" are queried and rendered).\n",
        "chunksize = 16384  # Use chunksize of about 4096 to fit in ~1.4 GB of GPU memory.\n",
        "\n",
        "# Optimizer parameters\n",
        "lr = 5e-3\n",
        "num_iters = 1000\n",
        "\n",
        "# Misc parameters\n",
        "display_every = 100  # Number of iters after which stats are displayed\n",
        "\n",
        "\"\"\"\n",
        "Model\n",
        "\"\"\"\n",
        "model = VeryTinyNerfModel(num_encoding_functions=num_encoding_functions)\n",
        "model.to(device)\n",
        "\n",
        "\"\"\"\n",
        "Optimizer\n",
        "\"\"\"\n",
        "optimizer = torch.optim.Adam(model.parameters(), lr=lr)\n",
        "\n",
        "\"\"\"\n",
        "Train-Eval-Repeat!\n",
        "\"\"\"\n",
        "\n",
        "# Seed RNG, for repeatability\n",
        "seed = 9458\n",
        "torch.manual_seed(seed)\n",
        "np.random.seed(seed)"
      ]
    },
    {
      "attachments": {},
      "cell_type": "markdown",
      "metadata": {},
      "source": [
        "# Training"
      ]
    },
    {
      "cell_type": "code",
      "execution_count": null,
      "metadata": {},
      "outputs": [],
      "source": [
        "\"\"\"\n",
        "Parameters for TinyNeRF training\n",
        "\"\"\"\n",
        "\n",
        "# Number of functions used in the positional encoding (Be sure to update the \n",
        "# model if this number changes).\n",
        "num_encoding_functions = 6\n",
        "# Specify encoding function.\n",
        "encode = lambda x: positional_encoding(x, num_encoding_functions=num_encoding_functions)\n",
        "# Number of depth samples along each ray.\n",
        "depth_samples_per_ray = 32\n",
        "\n",
        "# Chunksize (Note: this isn't batchsize in the conventional sense. This only\n",
        "# specifies the number of rays to be queried in one go. Backprop still happens\n",
        "# only after all rays from the current \"bundle\" are queried and rendered).\n",
        "chunksize = 16384  # Use chunksize of about 4096 to fit in ~1.4 GB of GPU memory.\n",
        "\n",
        "# Optimizer parameters\n",
        "lr = 5e-3\n",
        "num_iters = 1000\n",
        "\n",
        "# Misc parameters\n",
        "display_every = 100  # Number of iters after which stats are displayed\n",
        "\n",
        "\"\"\"\n",
        "Model\n",
        "\"\"\"\n",
        "model = VeryTinyNerfModel(num_encoding_functions=num_encoding_functions)\n",
        "model.to(device)\n",
        "\n",
        "\"\"\"\n",
        "Optimizer\n",
        "\"\"\"\n",
        "optimizer = torch.optim.Adam(model.parameters(), lr=lr)\n",
        "\n",
        "\"\"\"\n",
        "Train-Eval-Repeat!\n",
        "\"\"\"\n",
        "\n",
        "# Seed RNG, for repeatability\n",
        "seed = 9458\n",
        "torch.manual_seed(seed)\n",
        "np.random.seed(seed)\n",
        "\n",
        "# Lists to log metrics etc.\n",
        "psnrs = []\n",
        "iternums = []\n",
        "\n",
        "for i in range(num_iters):\n",
        "\n",
        "  # Randomly pick an image as the target.\n",
        "  target_img_idx = np.random.randint(images.shape[0])\n",
        "  target_img = images[target_img_idx].to(device)\n",
        "  target_tform_cam2world = tform_cam2world[target_img_idx].to(device)\n",
        "\n",
        "  # Run one iteration of TinyNeRF and get the rendered RGB image.\n",
        "  rgb_predicted = run_one_iter_of_tinynerf(height, width, focal_length,\n",
        "                                           target_tform_cam2world, near_thresh,\n",
        "                                           far_thresh, depth_samples_per_ray,\n",
        "                                           encode, get_minibatches)\n",
        "\n",
        "  # Compute mean-squared error between the predicted and target images. Backprop!\n",
        "  loss = torch.nn.functional.mse_loss(rgb_predicted, target_img)\n",
        "  loss.backward()\n",
        "  optimizer.step()\n",
        "  optimizer.zero_grad()\n",
        "\n",
        "  # Display images/plots/stats\n",
        "  if i % display_every == 0:\n",
        "    # Render the held-out view\n",
        "    rgb_predicted = run_one_iter_of_tinynerf(height, width, focal_length,\n",
        "                                             testpose, near_thresh,\n",
        "                                             far_thresh, depth_samples_per_ray,\n",
        "                                             encode, get_minibatches)\n",
        "    loss = torch.nn.functional.mse_loss(rgb_predicted, target_img)\n",
        "    print(\"Loss:\", loss.item())\n",
        "    psnr = -10. * torch.log10(loss)\n",
        "    \n",
        "    psnrs.append(psnr.item())\n",
        "    iternums.append(i)\n",
        "\n",
        "    plt.figure(figsize=(10, 4))\n",
        "    plt.subplot(121)\n",
        "    plt.imshow(rgb_predicted.detach().cpu().numpy())\n",
        "    plt.title(f\"Iteration {i}\")\n",
        "    plt.subplot(122)\n",
        "    plt.plot(iternums, psnrs)\n",
        "    plt.title(\"PSNR\")\n",
        "    plt.show()\n",
        "\n",
        "print('Done!')"
      ]
    },
    {
      "cell_type": "code",
      "execution_count": null,
      "metadata": {},
      "outputs": [],
      "source": [
        "print(tform_cam2world.shape)"
      ]
    },
    {
      "attachments": {},
      "cell_type": "markdown",
      "metadata": {},
      "source": [
        "# Discern \"True\" Points"
      ]
    },
    {
      "attachments": {},
      "cell_type": "markdown",
      "metadata": {},
      "source": [
        "- Find points that are important to CLIP\n",
        "- Real point must exist along intersection between two important points\n",
        "- Record all rays that pass through \"important points\"\n",
        "- real points exist on the intersection of these rays\n",
        "\n",
        "Revised:\n",
        "- As the creation is not perfect, create heatmap of points that exists close to the vectors as important\n",
        "- Precondition points close to it to be higher density\n",
        "- Set certainties by proximity to line intersections"
      ]
    },
    {
      "attachments": {},
      "cell_type": "markdown",
      "metadata": {},
      "source": [
        "Todo:\n",
        "- Write function to find points and weightages that are close to the intersection of lines\n",
        "- Write function to condition network to the high density values (rgb of point), assign uncertanity of points to average importance of two rays\n",
        "- When rendering, can only render those with higher certainties\n",
        "- visualise with importance as density, and save radiance"
      ]
    },
    {
      "attachments": {},
      "cell_type": "markdown",
      "metadata": {},
      "source": [
        "Prototype 1:\n",
        "- strange points are found, try simplifying and observing what happens\n",
        "- maybe assign close points to the same."
      ]
    },
    {
      "cell_type": "code",
      "execution_count": 14,
      "metadata": {},
      "outputs": [
        {
          "name": "stderr",
          "output_type": "stream",
          "text": [
            "c:\\ProgramData\\Miniconda3\\envs\\nerfresearch\\lib\\site-packages\\torch\\functional.py:504: UserWarning: torch.meshgrid: in an upcoming release, it will be required to pass the indexing argument. (Triggered internally at C:\\cb\\pytorch_1000000000000\\work\\aten\\src\\ATen\\native\\TensorShape.cpp:3527.)\n",
            "  return _VF.meshgrid(tensors, **kwargs)  # type: ignore[attr-defined]\n"
          ]
        },
        {
          "data": {
            "text/plain": [
              "tensor([[[[ 1.4318e+00,  6.4625e-01,  1.6008e+00],\n",
              "          [ 1.3767e+00,  4.8500e-01,  1.5754e+00],\n",
              "          [ 1.3399e+00,  3.7716e-01,  1.5585e+00],\n",
              "          ...,\n",
              "          [ 6.2727e-02, -3.3660e+00,  9.6924e-01],\n",
              "          [ 2.1079e-02, -3.4881e+00,  9.5002e-01],\n",
              "          [ 1.6465e-03, -3.5450e+00,  9.4106e-01]],\n",
              "\n",
              "         [[ 1.4191e+00,  6.2014e-01,  1.5963e+00],\n",
              "          [ 1.3553e+00,  4.3397e-01,  1.5670e+00],\n",
              "          [ 1.3365e+00,  3.7911e-01,  1.5584e+00],\n",
              "          ...,\n",
              "          [ 6.5512e-02, -3.3271e+00,  9.7435e-01],\n",
              "          [ 4.1736e-02, -3.3964e+00,  9.6343e-01],\n",
              "          [-2.8656e-02, -3.6017e+00,  9.3108e-01]],\n",
              "\n",
              "         [[ 1.4410e+00,  6.9444e-01,  1.6077e+00],\n",
              "          [ 1.3595e+00,  4.5797e-01,  1.5704e+00],\n",
              "          [ 1.3362e+00,  3.9046e-01,  1.5597e+00],\n",
              "          ...,\n",
              "          [ 5.2442e-02, -3.3345e+00,  9.7217e-01],\n",
              "          [ 1.4696e-02, -3.4440e+00,  9.5489e-01],\n",
              "          [-3.3206e-02, -3.5830e+00,  9.3297e-01]],\n",
              "\n",
              "         ...,\n",
              "\n",
              "         [[ 2.6317e-01,  1.5320e+00,  1.5984e+00],\n",
              "          [ 1.2832e-01,  1.4425e+00,  1.5742e+00],\n",
              "          [ 7.4774e-02,  1.4070e+00,  1.5646e+00],\n",
              "          ...,\n",
              "          [-3.1584e+00, -7.3878e-01,  9.8563e-01],\n",
              "          [-3.2711e+00, -8.1357e-01,  9.6545e-01],\n",
              "          [-3.4195e+00, -9.1207e-01,  9.3887e-01]],\n",
              "\n",
              "         [[ 2.2241e-01,  1.5092e+00,  1.5916e+00],\n",
              "          [ 1.9343e-01,  1.4901e+00,  1.5864e+00],\n",
              "          [ 2.1959e-02,  1.3766e+00,  1.5558e+00],\n",
              "          ...,\n",
              "          [-3.2237e+00, -7.7018e-01,  9.7543e-01],\n",
              "          [-3.2896e+00, -8.1378e-01,  9.6364e-01],\n",
              "          [-3.3968e+00, -8.8469e-01,  9.4447e-01]],\n",
              "\n",
              "         [[ 2.6109e-01,  1.5390e+00,  1.5990e+00],\n",
              "          [ 1.0440e-01,  1.4357e+00,  1.5711e+00],\n",
              "          [-2.1690e-02,  1.3526e+00,  1.5486e+00],\n",
              "          ...,\n",
              "          [-3.1957e+00, -7.3983e-01,  9.8191e-01],\n",
              "          [-3.3380e+00, -8.3367e-01,  9.5649e-01],\n",
              "          [-3.4987e+00, -9.3958e-01,  9.2781e-01]]],\n",
              "\n",
              "\n",
              "        [[[ 1.4334e+00,  6.4920e-01,  1.5978e+00],\n",
              "          [ 1.3852e+00,  5.0787e-01,  1.5754e+00],\n",
              "          [ 1.3342e+00,  3.5821e-01,  1.5516e+00],\n",
              "          ...,\n",
              "          [ 6.7773e-02, -3.3563e+00,  9.6089e-01],\n",
              "          [ 3.6646e-02, -3.4476e+00,  9.4637e-01],\n",
              "          [-2.2642e-02, -3.6215e+00,  9.1872e-01]],\n",
              "\n",
              "         [[ 1.4343e+00,  6.6254e-01,  1.5996e+00],\n",
              "          [ 1.3914e+00,  5.3739e-01,  1.5797e+00],\n",
              "          [ 1.3105e+00,  3.0131e-01,  1.5421e+00],\n",
              "          ...,\n",
              "          [ 8.4749e-02, -3.2760e+00,  9.7265e-01],\n",
              "          [ 1.7361e-02, -3.4727e+00,  9.4134e-01],\n",
              "          [-2.0971e-03, -3.5294e+00,  9.3230e-01]],\n",
              "\n",
              "         [[ 1.4299e+00,  6.6043e-01,  1.5989e+00],\n",
              "          [ 1.3677e+00,  4.7982e-01,  1.5701e+00],\n",
              "          [ 1.3261e+00,  3.5897e-01,  1.5509e+00],\n",
              "          ...,\n",
              "          [ 4.9516e-02, -3.3480e+00,  9.6015e-01],\n",
              "          [ 3.5275e-02, -3.3894e+00,  9.5356e-01],\n",
              "          [-3.0733e-02, -3.5810e+00,  9.2302e-01]],\n",
              "\n",
              "         ...,\n",
              "\n",
              "         [[ 2.6687e-01,  1.5351e+00,  1.5956e+00],\n",
              "          [ 1.2981e-01,  1.4442e+00,  1.5708e+00],\n",
              "          [ 4.1635e-02,  1.3857e+00,  1.5548e+00],\n",
              "          ...,\n",
              "          [-3.2060e+00, -7.6848e-01,  9.6736e-01],\n",
              "          [-3.3122e+00, -8.3892e-01,  9.4815e-01],\n",
              "          [-3.4583e+00, -9.3579e-01,  9.2173e-01]],\n",
              "\n",
              "         [[ 3.0409e-01,  1.5639e+00,  1.6028e+00],\n",
              "          [ 1.0299e-01,  1.4310e+00,  1.5665e+00],\n",
              "          [ 6.1236e-02,  1.4034e+00,  1.5590e+00],\n",
              "          ...,\n",
              "          [-3.1864e+00, -7.4360e-01,  9.7240e-01],\n",
              "          [-3.3200e+00, -8.3189e-01,  9.4828e-01],\n",
              "          [-3.4158e+00, -8.9528e-01,  9.3096e-01]],\n",
              "\n",
              "         [[ 2.7590e-01,  1.5495e+00,  1.5983e+00],\n",
              "          [ 1.3375e-01,  1.4558e+00,  1.5726e+00],\n",
              "          [ 1.9189e-02,  1.3803e+00,  1.5520e+00],\n",
              "          ...,\n",
              "          [-3.2169e+00, -7.5188e-01,  9.6839e-01],\n",
              "          [-3.3418e+00, -8.3420e-01,  9.4586e-01],\n",
              "          [-3.4569e+00, -9.1001e-01,  9.2511e-01]]],\n",
              "\n",
              "\n",
              "        [[[ 1.4302e+00,  6.3807e-01,  1.5926e+00],\n",
              "          [ 1.3593e+00,  4.3009e-01,  1.5592e+00],\n",
              "          [ 1.3344e+00,  3.5700e-01,  1.5474e+00],\n",
              "          ...,\n",
              "          [ 9.6031e-02, -3.2785e+00,  9.6350e-01],\n",
              "          [ 6.1548e-02, -3.3797e+00,  9.4724e-01],\n",
              "          [ 1.7123e-02, -3.5101e+00,  9.2629e-01]],\n",
              "\n",
              "         [[ 1.4036e+00,  5.7136e-01,  1.5815e+00],\n",
              "          [ 1.3867e+00,  5.2202e-01,  1.5736e+00],\n",
              "          [ 1.3459e+00,  4.0283e-01,  1.5544e+00],\n",
              "          ...,\n",
              "          [ 8.6807e-02, -3.2750e+00,  9.6304e-01],\n",
              "          [ 5.6670e-02, -3.3630e+00,  9.4888e-01],\n",
              "          [-9.9082e-03, -3.5575e+00,  9.1761e-01]],\n",
              "\n",
              "         [[ 1.4029e+00,  5.8018e-01,  1.5825e+00],\n",
              "          [ 1.3823e+00,  5.2058e-01,  1.5730e+00],\n",
              "          [ 1.3225e+00,  3.4660e-01,  1.5449e+00],\n",
              "          ...,\n",
              "          [ 9.1682e-02, -3.2305e+00,  9.6917e-01],\n",
              "          [ 4.6348e-02, -3.3622e+00,  9.4797e-01],\n",
              "          [-1.9083e-02, -3.5524e+00,  9.1736e-01]],\n",
              "\n",
              "         ...,\n",
              "\n",
              "         [[ 2.8663e-01,  1.5489e+00,  1.5958e+00],\n",
              "          [ 1.0614e-01,  1.4293e+00,  1.5628e+00],\n",
              "          [ 5.5141e-02,  1.3954e+00,  1.5535e+00],\n",
              "          ...,\n",
              "          [-3.1667e+00, -7.4044e-01,  9.6480e-01],\n",
              "          [-3.2711e+00, -8.0965e-01,  9.4573e-01],\n",
              "          [-3.3733e+00, -8.7743e-01,  9.2705e-01]],\n",
              "\n",
              "         [[ 2.1289e-01,  1.5043e+00,  1.5828e+00],\n",
              "          [ 1.2189e-01,  1.4442e+00,  1.5662e+00],\n",
              "          [ 4.7567e-02,  1.3951e+00,  1.5527e+00],\n",
              "          ...,\n",
              "          [-3.1623e+00, -7.2571e-01,  9.6711e-01],\n",
              "          [-3.3227e+00, -8.3171e-01,  9.3784e-01],\n",
              "          [-3.4473e+00, -9.1403e-01,  9.1512e-01]],\n",
              "\n",
              "         [[ 2.1085e-01,  1.5073e+00,  1.5830e+00],\n",
              "          [ 1.4532e-01,  1.4642e+00,  1.5711e+00],\n",
              "          [ 7.1380e-02,  1.4155e+00,  1.5576e+00],\n",
              "          ...,\n",
              "          [-3.1790e+00, -7.2497e-01,  9.6556e-01],\n",
              "          [-3.3208e+00, -8.1833e-01,  9.3974e-01],\n",
              "          [-3.4433e+00, -8.9900e-01,  9.1742e-01]]],\n",
              "\n",
              "\n",
              "        ...,\n",
              "\n",
              "\n",
              "        [[[ 1.8668e+00,  1.2263e+00,  3.4488e-01],\n",
              "          [ 1.8333e+00,  1.0501e+00,  1.6565e-01],\n",
              "          [ 1.8232e+00,  9.9661e-01,  1.1130e-01],\n",
              "          ...,\n",
              "          [ 1.3034e+00, -1.7398e+00, -2.6713e+00],\n",
              "          [ 1.2867e+00, -1.8278e+00, -2.7607e+00],\n",
              "          [ 1.2693e+00, -1.9194e+00, -2.8539e+00]],\n",
              "\n",
              "         [[ 1.8476e+00,  1.1437e+00,  2.5848e-01],\n",
              "          [ 1.8317e+00,  1.0609e+00,  1.7418e-01],\n",
              "          [ 1.8236e+00,  1.0183e+00,  1.3085e-01],\n",
              "          ...,\n",
              "          [ 1.3005e+00, -1.7051e+00, -2.6424e+00],\n",
              "          [ 1.2819e+00, -1.8023e+00, -2.7414e+00],\n",
              "          [ 1.2601e+00, -1.9157e+00, -2.8569e+00]],\n",
              "\n",
              "         [[ 1.8526e+00,  1.1872e+00,  3.0050e-01],\n",
              "          [ 1.8328e+00,  1.0854e+00,  1.9668e-01],\n",
              "          [ 1.8150e+00,  9.9337e-01,  1.0281e-01],\n",
              "          ...,\n",
              "          [ 1.2840e+00, -1.7416e+00, -2.6862e+00],\n",
              "          [ 1.2747e+00, -1.7896e+00, -2.7351e+00],\n",
              "          [ 1.2518e+00, -1.9075e+00, -2.8554e+00]],\n",
              "\n",
              "         ...,\n",
              "\n",
              "         [[ 7.0360e-01,  2.0948e+00,  3.1592e-01],\n",
              "          [ 6.0385e-01,  2.0471e+00,  2.0511e-01],\n",
              "          [ 5.3170e-01,  2.0126e+00,  1.2495e-01],\n",
              "          ...,\n",
              "          [-2.0142e+00,  7.9440e-01, -2.7032e+00],\n",
              "          [-2.0990e+00,  7.5379e-01, -2.7975e+00],\n",
              "          [-2.1781e+00,  7.1596e-01, -2.8854e+00]],\n",
              "\n",
              "         [[ 6.5216e-01,  2.0740e+00,  2.6212e-01],\n",
              "          [ 5.7671e-01,  2.0381e+00,  1.7848e-01],\n",
              "          [ 5.3295e-01,  2.0172e+00,  1.2996e-01],\n",
              "          ...,\n",
              "          [-1.9783e+00,  8.2190e-01, -2.6543e+00],\n",
              "          [-2.0762e+00,  7.7530e-01, -2.7628e+00],\n",
              "          [-2.2021e+00,  7.1537e-01, -2.9024e+00]],\n",
              "\n",
              "         [[ 7.2116e-01,  2.1104e+00,  3.4180e-01],\n",
              "          [ 6.4041e-01,  2.0722e+00,  2.5246e-01],\n",
              "          [ 4.7894e-01,  1.9957e+00,  7.3795e-02],\n",
              "          ...,\n",
              "          [-1.9790e+00,  8.3190e-01, -2.6458e+00],\n",
              "          [-2.1179e+00,  7.6612e-01, -2.7995e+00],\n",
              "          [-2.2116e+00,  7.2175e-01, -2.9032e+00]]],\n",
              "\n",
              "\n",
              "        [[[ 1.8574e+00,  1.1724e+00,  2.8535e-01],\n",
              "          [ 1.8376e+00,  1.0682e+00,  1.7910e-01],\n",
              "          [ 1.8281e+00,  1.0177e+00,  1.2758e-01],\n",
              "          ...,\n",
              "          [ 1.3068e+00, -1.7342e+00, -2.6788e+00],\n",
              "          [ 1.2922e+00, -1.8113e+00, -2.7574e+00],\n",
              "          [ 1.2623e+00, -1.9689e+00, -2.9182e+00]],\n",
              "\n",
              "         [[ 1.8639e+00,  1.2243e+00,  3.3601e-01],\n",
              "          [ 1.8476e+00,  1.1390e+00,  2.4891e-01],\n",
              "          [ 1.8250e+00,  1.0211e+00,  1.2849e-01],\n",
              "          ...,\n",
              "          [ 1.2924e+00, -1.7599e+00, -2.7116e+00],\n",
              "          [ 1.2803e+00, -1.8229e+00, -2.7760e+00],\n",
              "          [ 1.2679e+00, -1.8873e+00, -2.8417e+00]],\n",
              "\n",
              "         [[ 1.8615e+00,  1.2287e+00,  3.3820e-01],\n",
              "          [ 1.8374e+00,  1.1042e+00,  2.1091e-01],\n",
              "          [ 1.8070e+00,  9.4734e-01,  5.0449e-02],\n",
              "          ...,\n",
              "          [ 1.2848e+00, -1.7494e+00, -2.7075e+00],\n",
              "          [ 1.2749e+00, -1.8005e+00, -2.7597e+00],\n",
              "          [ 1.2544e+00, -1.9061e+00, -2.8677e+00]],\n",
              "\n",
              "         ...,\n",
              "\n",
              "         [[ 6.6940e-01,  2.0794e+00,  2.7337e-01],\n",
              "          [ 6.0972e-01,  2.0508e+00,  2.0690e-01],\n",
              "          [ 4.7872e-01,  1.9882e+00,  6.0976e-02],\n",
              "          ...,\n",
              "          [-1.9806e+00,  8.1299e-01, -2.6785e+00],\n",
              "          [-2.0311e+00,  7.8885e-01, -2.7348e+00],\n",
              "          [-2.1576e+00,  7.2838e-01, -2.8757e+00]],\n",
              "\n",
              "         [[ 6.9075e-01,  2.0932e+00,  3.0043e-01],\n",
              "          [ 5.8110e-01,  2.0411e+00,  1.7853e-01],\n",
              "          [ 5.2259e-01,  2.0133e+00,  1.1348e-01],\n",
              "          ...,\n",
              "          [-2.0029e+00,  8.1271e-01, -2.6942e+00],\n",
              "          [-2.0715e+00,  7.8011e-01, -2.7704e+00],\n",
              "          [-2.1832e+00,  7.2700e-01, -2.8946e+00]],\n",
              "\n",
              "         [[ 7.2724e-01,  2.1142e+00,  3.4418e-01],\n",
              "          [ 5.9926e-01,  2.0536e+00,  2.0218e-01],\n",
              "          [ 4.7063e-01,  1.9928e+00,  5.9469e-02],\n",
              "          ...,\n",
              "          [-1.9548e+00,  8.4585e-01, -2.6315e+00],\n",
              "          [-2.0513e+00,  8.0022e-01, -2.7386e+00],\n",
              "          [-2.1454e+00,  7.5572e-01, -2.8430e+00]]],\n",
              "\n",
              "\n",
              "        [[[ 1.8532e+00,  1.1456e+00,  2.5318e-01],\n",
              "          [ 1.8495e+00,  1.1263e+00,  2.3342e-01],\n",
              "          [ 1.8174e+00,  9.5620e-01,  5.9458e-02],\n",
              "          ...,\n",
              "          [ 1.3110e+00, -1.7242e+00, -2.6818e+00],\n",
              "          [ 1.2900e+00, -1.8356e+00, -2.7957e+00],\n",
              "          [ 1.2821e+00, -1.8769e+00, -2.8380e+00]],\n",
              "\n",
              "         [[ 1.8578e+00,  1.1882e+00,  2.9442e-01],\n",
              "          [ 1.8402e+00,  1.0958e+00,  1.9976e-01],\n",
              "          [ 1.8145e+00,  9.6128e-01,  6.1997e-02],\n",
              "          ...,\n",
              "          [ 1.3054e+00, -1.7041e+00, -2.6678e+00],\n",
              "          [ 1.2859e+00, -1.8060e+00, -2.7722e+00],\n",
              "          [ 1.2612e+00, -1.9352e+00, -2.9045e+00]],\n",
              "\n",
              "         [[ 1.8502e+00,  1.1662e+00,  2.6945e-01],\n",
              "          [ 1.8426e+00,  1.1270e+00,  2.2927e-01],\n",
              "          [ 1.8094e+00,  9.5503e-01,  5.2916e-02],\n",
              "          ...,\n",
              "          [ 1.2874e+00, -1.7477e+00, -2.7191e+00],\n",
              "          [ 1.2825e+00, -1.7732e+00, -2.7452e+00],\n",
              "          [ 1.2577e+00, -1.9016e+00, -2.8769e+00]],\n",
              "\n",
              "         ...,\n",
              "\n",
              "         [[ 7.2098e-01,  2.1049e+00,  3.2643e-01],\n",
              "          [ 5.6871e-01,  2.0322e+00,  1.5635e-01],\n",
              "          [ 5.1404e-01,  2.0061e+00,  9.5291e-02],\n",
              "          ...,\n",
              "          [-1.9792e+00,  8.1616e-01, -2.6896e+00],\n",
              "          [-2.0246e+00,  7.9449e-01, -2.7403e+00],\n",
              "          [-2.1345e+00,  7.4203e-01, -2.8631e+00]],\n",
              "\n",
              "         [[ 7.0693e-01,  2.1018e+00,  3.1399e-01],\n",
              "          [ 5.5962e-01,  2.0319e+00,  1.4978e-01],\n",
              "          [ 5.1905e-01,  2.0126e+00,  1.0454e-01],\n",
              "          ...,\n",
              "          [-1.9780e+00,  8.2706e-01, -2.6791e+00],\n",
              "          [-2.0449e+00,  7.9530e-01, -2.7537e+00],\n",
              "          [-2.1544e+00,  7.4335e-01, -2.8756e+00]],\n",
              "\n",
              "         [[ 6.9303e-01,  2.0989e+00,  3.0176e-01],\n",
              "          [ 6.3260e-01,  2.0703e+00,  2.3454e-01],\n",
              "          [ 5.4817e-01,  2.0305e+00,  1.4060e-01],\n",
              "          ...,\n",
              "          [-2.0047e+00,  8.2475e-01, -2.6996e+00],\n",
              "          [-2.0491e+00,  8.0380e-01, -2.7490e+00],\n",
              "          [-2.1535e+00,  7.5449e-01, -2.8651e+00]]]], device='cuda:0')"
            ]
          },
          "execution_count": 14,
          "metadata": {},
          "output_type": "execute_result"
        }
      ],
      "source": [
        "depth_samples_per_ray = 32\n",
        "target_img_idx = np.random.randint(images.shape[0])\n",
        "target_img = images[target_img_idx].to(device)\n",
        "target_tform_cam2world = tform_cam2world[target_img_idx].to(device)\n",
        "\n",
        "ray_origins, ray_directions = get_ray_bundle(height, width, focal_length,\n",
        "                                               target_tform_cam2world)\n",
        "  \n",
        "query_points, depth_values = compute_query_points_from_rays(\n",
        "    ray_origins, ray_directions, near_thresh, far_thresh, depth_samples_per_ray\n",
        ")\n",
        "\n",
        "# query points are width, height by samples for each pixel\n",
        "# depth values are the depth of the point from the source\n",
        "query_points"
      ]
    },
    {
      "attachments": {},
      "cell_type": "markdown",
      "metadata": {},
      "source": [
        "# Ray Intersection Point (redundant)"
      ]
    },
    {
      "cell_type": "code",
      "execution_count": null,
      "metadata": {},
      "outputs": [],
      "source": [
        "# ! a ray can be expressed as the ray direction and ray origin\n",
        "from IPython.display import clear_output\n",
        "grads = []\n",
        "tform_cam2world = data[\"poses\"]\n",
        "tform_cam2world = torch.from_numpy(tform_cam2world).to(device)\n",
        "threshold = 0.4\n",
        "\n",
        "# ray origin, ray  direction, importance\n",
        "important_rays = []\n",
        "point_colors = []\n",
        "\n",
        "dec = 3\n",
        "for i in range(len(images)):\n",
        "    image = images[i].to(device)\n",
        "    transform = tform_cam2world[i].to(device)\n",
        "    ray_origins, ray_directions = get_ray_bundle(height, width, focal_length,\n",
        "                                               transform)\n",
        "    query_points, depth_values = compute_query_points_from_rays(\n",
        "    ray_origins, ray_directions, near_thresh, far_thresh, depth_samples_per_ray)\n",
        "    empty = find_grads(\"\",image,augments = 0)\n",
        "    extra = find_grads(\"yellow lego bulldozer\",image,augments = 0)\n",
        "    mask = generate_mask(image,size = 10)\n",
        "    \n",
        "    cleaned_grads = (extra-empty)*mask\n",
        "    \n",
        "    mask_overlay = np.zeros((100,100,1))\n",
        "    img_rays = []\n",
        "    img_clrs = []\n",
        "    for x in range(cleaned_grads.shape[0]):\n",
        "        for y in range(cleaned_grads.shape[1]):\n",
        "            if sum(cleaned_grads[x][y]) > threshold:\n",
        "                # pixel x,y is semantically important\n",
        "                ray_origin = ray_origins[x][y]\n",
        "                ray_direction = ray_directions[x][y]\n",
        "                importance = cleaned_grads[x][y]\n",
        "                \n",
        "                record = [list(np.round(ray_origin.cpu().numpy(),decimals = dec)),\n",
        "                          list(np.round(ray_direction.cpu().numpy(),decimals = dec)),\n",
        "                          sum(importance)]\n",
        "                if not(record in important_rays):\n",
        "                    img_rays.append(record)\n",
        "                    img_clrs.append(image[x][y])\n",
        "                    #print(record[-1])\n",
        "                    mask_overlay[x][y] = torch.sigmoid(record[-1])\n",
        "                    #print(torch.sigmoid(record[-1]))\n",
        "    important_rays.append(img_rays)\n",
        "    point_colors.append(img_clrs)\n",
        "    plt.imshow(image.cpu().numpy())\n",
        "    plt.imshow(mask_overlay, alpha = 0.6, cmap = \"magma\")\n",
        "    plt.show()\n",
        "    print(i,len(img_rays))\n",
        "    \n",
        "    if i % 10 == 0:\n",
        "        clear_output()\n",
        "    grads.append(cleaned_grads)"
      ]
    },
    {
      "cell_type": "code",
      "execution_count": null,
      "metadata": {},
      "outputs": [],
      "source": [
        "# find closest point for two given rays.\n",
        "# most likely to be the point of intersection (i.e point of reality)\n",
        "# increase density of that point and points around it,\n",
        "from numpy import array, cross\n",
        "from numpy.linalg import solve, norm\n",
        "\n",
        "def closest_point(ray_1,ray_2,clampAll=False,clampA0=False,clampA1=False,clampB0=False,clampB1=False):\n",
        "\n",
        "    ''' Given two lines defined by numpy.array pairs (a0,a1,b0,b1)\n",
        "        Return the closest points on each segment and their distance\n",
        "    '''\n",
        "\n",
        "    o_1,d_1,i_1 = ray_1\n",
        "    o_2,d_2,i_2 = ray_2\n",
        "    \n",
        "    o_1,d_1 = np.array(o_1),np.array(d_1)\n",
        "    o_2,d_2 = np.array(o_2),np.array(d_2)\n",
        "    \n",
        "    a0 = o_1\n",
        "    a1 = o_1+d_1\n",
        "    \n",
        "    b0 = o_2\n",
        "    b1 = o_2+d_2\n",
        "    # If clampAll=True, set all clamps to True\n",
        "    if clampAll:\n",
        "        clampA0=True\n",
        "        clampA1=True\n",
        "        clampB0=True\n",
        "        clampB1=True\n",
        "\n",
        "\n",
        "    # Calculate denomitator\n",
        "    A = a1 - a0\n",
        "    B = b1 - b0\n",
        "    magA = np.linalg.norm(A)\n",
        "    magB = np.linalg.norm(B)\n",
        "    \n",
        "    _A = A / magA\n",
        "    _B = B / magB\n",
        "    \n",
        "    cross = np.cross(_A, _B);\n",
        "    denom = np.linalg.norm(cross)**2\n",
        "    \n",
        "    \n",
        "    # If lines are parallel (denom=0) test if lines overlap.\n",
        "    # If they don't overlap then there is a closest point solution.\n",
        "    # If they do overlap, there are infinite closest positions, but there is a closest distance\n",
        "    if not denom:\n",
        "        d0 = np.dot(_A,(b0-a0))\n",
        "        \n",
        "        # Overlap only possible with clamping\n",
        "        if clampA0 or clampA1 or clampB0 or clampB1:\n",
        "            d1 = np.dot(_A,(b1-a0))\n",
        "            \n",
        "            # Is segment B before A?\n",
        "            if d0 <= 0 >= d1:\n",
        "                if clampA0 and clampB1:\n",
        "                    if np.absolute(d0) < np.absolute(d1):\n",
        "                        return (a0+b0)/2,((i_1+i_2)/2)/np.linalg.norm(a0-b0)\n",
        "                    return (a0+b1)/2,((i_1+i_2)/2)/np.linalg.norm(a0-b1)\n",
        "                \n",
        "                \n",
        "            # Is segment B after A?\n",
        "            elif d0 >= magA <= d1:\n",
        "                if clampA1 and clampB0:\n",
        "                    if np.absolute(d0) < np.absolute(d1):\n",
        "                        return (a1+b0)/2,((i_1+i_2)/2)/np.linalg.norm(a1-b0)\n",
        "                    return (a1+b1)/2,((i_1+i_2)/2)/np.linalg.norm(a1-b1)\n",
        "                \n",
        "                \n",
        "        # Segments overlap, return distance between parallel segments\n",
        "        return None,((i_1+i_2)/2)/np.linalg.norm(((d0*_A)+a0)-b0)\n",
        "        \n",
        "    \n",
        "    \n",
        "    # Lines criss-cross: Calculate the projected closest points\n",
        "    t = (b0 - a0);\n",
        "    detA = np.linalg.det([t, _B, cross])\n",
        "    detB = np.linalg.det([t, _A, cross])\n",
        "\n",
        "    t0 = detA/denom;\n",
        "    t1 = detB/denom;\n",
        "\n",
        "    pA = a0 + (_A * t0) # Projected closest point on segment A\n",
        "    pB = b0 + (_B * t1) # Projected closest point on segment B\n",
        "\n",
        "\n",
        "    # Clamp projections\n",
        "    if clampA0 or clampA1 or clampB0 or clampB1:\n",
        "        if clampA0 and t0 < 0:\n",
        "            pA = a0\n",
        "        elif clampA1 and t0 > magA:\n",
        "            pA = a1\n",
        "        \n",
        "        if clampB0 and t1 < 0:\n",
        "            pB = b0\n",
        "        elif clampB1 and t1 > magB:\n",
        "            pB = b1\n",
        "            \n",
        "        # Clamp projection A\n",
        "        if (clampA0 and t0 < 0) or (clampA1 and t0 > magA):\n",
        "            dot = np.dot(_B,(pA-b0))\n",
        "            if clampB0 and dot < 0:\n",
        "                dot = 0\n",
        "            elif clampB1 and dot > magB:\n",
        "                dot = magB\n",
        "            pB = b0 + (_B * dot)\n",
        "    \n",
        "        # Clamp projection B\n",
        "        if (clampB0 and t1 < 0) or (clampB1 and t1 > magB):\n",
        "            dot = np.dot(_A,(pB-a0))\n",
        "            if clampA0 and dot < 0:\n",
        "                dot = 0\n",
        "            elif clampA1 and dot > magA:\n",
        "                dot = magA\n",
        "            pA = a0 + (_A * dot)\n",
        "\n",
        "    midpoint = (pA+pB)/2\n",
        "    return midpoint,((i_1+i_2)/2)/(np.linalg.norm(pA-pB)+1)\n",
        "\n",
        "def get_ray(origin,direction,num_pts=10):\n",
        "    origin = np.array(origin)\n",
        "    direction = np.array(direction)\n",
        "    pts = ray_origins[x]\n",
        "    # Data for a three-dimensional line\n",
        "    pts = [origin+direction*i for i in range(num_pts)]\n",
        "    xdata = [pt[0] for pt in pts]\n",
        "    ydata =  [pt[1] for pt in pts]\n",
        "    zdata = [pt[2] for pt in pts]\n",
        "    return xdata,ydata,zdata"
      ]
    },
    {
      "cell_type": "code",
      "execution_count": null,
      "metadata": {},
      "outputs": [],
      "source": [
        "import plotly.graph_objects as go\n",
        "import random\n",
        "\n",
        "idx_1 = random.randint(1,len(important_rays))\n",
        "idx_2 = random.randint(1,len(important_rays))\n",
        "\n",
        "ray_1 = important_rays[idx_1][idx_2]\n",
        "ray_2 = important_rays[idx_2][idx_1]\n",
        "\n",
        "#ray_1 = [torch.Tensor([1,0,0]),torch.Tensor([0,1,1]),1]\n",
        "#ray_2 = [torch.Tensor([0,0,0]),torch.Tensor([0,0,1]),2]\n",
        "o_1,d_1,_ = ray_1\n",
        "o_1,d_1 = o_1,d_1\n",
        "\n",
        "origin,direction,importance = ray_1\n",
        "xs,ys,zs = get_ray(origin,direction)\n",
        "colors = [\"a\" for i in range(len(xs))]\n",
        "\n",
        "o_2,d_2,_ = ray_2\n",
        "o_2,d_2 = o_2,d_2\n",
        "\n",
        "origin,direction,importance = ray_2\n",
        "new_xs,new_ys,new_zs = get_ray(origin,direction)\n",
        "colors += [\"b\" for i in range(len(new_xs))]\n",
        "\n",
        "point,avg_importance = closest_point(ray_1,ray_2)\n",
        "\n",
        "#print(point_colors[idx_1],point_colors[idx_2])\n",
        "\n",
        "ray_1 = go.Scatter3d(\n",
        "        x=xs,\n",
        "        y=ys,\n",
        "        z=zs,\n",
        "\n",
        "        mode='lines',\n",
        "\n",
        "        marker=dict(\n",
        "            color= 'rgb{}'.format(tuple(torch.round(point_colors[idx_1][idx_2]*255).tolist())),\n",
        "            # color=[f'rgb({np.random.randint(0,256)}, {np.random.randint(0,256)}, {np.random.randint(0,256)})' for i in range(len(pt_data))],\n",
        "            opacity=1.0,\n",
        "        ))\n",
        "\n",
        "ray_2 = go.Scatter3d(\n",
        "        x=new_xs,\n",
        "        y=new_ys,\n",
        "        z=new_zs,\n",
        "\n",
        "        mode='lines',\n",
        "\n",
        "        marker=dict(\n",
        "            color='rgb{}'.format(tuple(torch.round(point_colors[idx_2][idx_1]*255).tolist())),\n",
        "            # color=[f'rgb({np.random.randint(0,256)}, {np.random.randint(0,256)}, {np.random.randint(0,256)})' for i in range(len(pt_data))],\n",
        "            opacity=1.0,\n",
        "        ))\n",
        "\n",
        "print(avg_importance)\n",
        "point_graph = go.Scatter3d(\n",
        "        x=[point[0]],\n",
        "        y=[point[1]],\n",
        "        z=[point[2]],\n",
        "\n",
        "        mode='markers',\n",
        "\n",
        "        marker=dict(\n",
        "            color='rgb{}'.format(tuple(torch.round(((point_colors[idx_1][idx_2]+point_colors[idx_2][idx_1])/2*255)).tolist())),\n",
        "            size = avg_importance.item()*10,\n",
        "            opacity=1.0,\n",
        "        ))\n",
        "\n",
        "layout = go.Layout(\n",
        "    scene = {\n",
        "    'xaxis': {'range': [-5, 5], 'rangemode': 'tozero', 'tickmode': \"linear\", 'tick0': -5, 'dtick': 1},\n",
        "    'yaxis': {'range': [-5, 5], 'rangemode': 'tozero', 'tickmode': \"linear\", 'tick0': -5, 'dtick': 1},\n",
        "    'zaxis': {'range': [-5, 5], 'rangemode': 'tozero', 'tickmode': \"linear\", 'tick0': -5, 'dtick': 1},\n",
        "    'aspectmode': 'cube'\n",
        "    }\n",
        ")\n",
        "fig = go.Figure(data=[ray_1, ray_2,point_graph],layout = layout)\n",
        "fig.show()"
      ]
    },
    {
      "cell_type": "code",
      "execution_count": null,
      "metadata": {},
      "outputs": [],
      "source": [
        "diff = 0.3\n",
        "importance_threshold = 0.6\n",
        "num_stochastic = 10\n",
        "record_pts = []\n",
        "importances = []\n",
        "real_clrs = []\n",
        "\n",
        "xs = []\n",
        "ys = []\n",
        "zs = []\n",
        "\n",
        "for img_1 in range(len(important_rays)):\n",
        "    for idx_1 in range(len(important_rays[img_1])):\n",
        "        ray_1 = important_rays[img_1][idx_1]\n",
        "        for img_2 in range(len(important_rays)):\n",
        "            best_importance = importance_threshold\n",
        "            x = None\n",
        "            y= None\n",
        "            z= None\n",
        "            final_importance = None\n",
        "            colours = None\n",
        "            for idx_2 in range(num_stochastic):\n",
        "                idx_2 = random.randint(1,len(important_rays[img_2])-1)\n",
        "                ray_2 = important_rays[img_2][idx_2]\n",
        "                importance = (ray_1[-1]+ray_2[-1])/2\n",
        "                color_diff = abs(sum(point_colors[img_1][idx_1]-point_colors[img_2][idx_2]))\n",
        "                if color_diff > diff or importance < 0.6 or 0 in point_colors[img_2][idx_2] or 0 in point_colors[img_1][idx_1]:\n",
        "                    pass\n",
        "                else:\n",
        "                    intersection_point,importance = closest_point(ray_1,ray_2)\n",
        "                    importance = importance\n",
        "                    print(importance)\n",
        "                    if type(intersection_point) != type(None) and not intersection_point.tolist() in record_pts and importance > 0.6:\n",
        "                        if importance > best_importance:\n",
        "                            best_importance = importance.item()\n",
        "                            x = intersection_point[0]\n",
        "                            y = intersection_point[1]\n",
        "                            z = intersection_point[2]\n",
        "                            final_importance = importance\n",
        "                            colours = [point_colors[img_1][idx_1],point_colors[img_2][idx_2]]\n",
        "                            break\n",
        "            if x:\n",
        "                print(x)\n",
        "                xs.append(x)\n",
        "                ys.append(y)\n",
        "                zs.append(z)\n",
        "                importances.append(final_importance)\n",
        "                real_clrs.append(colours)\n",
        "                break\n",
        "            print(point_colors[img_1][idx_1],img_1,idx_1,img_2,idx_2,len(real_clrs),final_importance,colours)"
      ]
    },
    {
      "cell_type": "code",
      "execution_count": null,
      "metadata": {},
      "outputs": [],
      "source": [
        "diff = 0.2\n",
        "importance_threshold = 0.9\n",
        "record_pts = []\n",
        "importances = []\n",
        "real_clrs = []\n",
        "\n",
        "xs = []\n",
        "ys = []\n",
        "zs = []\n",
        "for idx_1 in range(len(important_rays)):\n",
        "    for idx_2 in range(idx_1,len(important_rays)):\n",
        "        importance = (important_rays[idx_1][-1]+important_rays[idx_2][-1])/2\n",
        "        color_diff = abs(sum(point_colors[idx_1]-point_colors[idx_2]))\n",
        "        if important_rays[idx_1][0] == important_rays[idx_2][0] or color_diff > diff or importance < importance_threshold:\n",
        "            pass\n",
        "        else:\n",
        "            intersection_point,importance = closest_point(important_rays[idx_1],important_rays[idx_2])\n",
        "            if type(intersection_point) != type(None) and not intersection_point.tolist() in record_pts:\n",
        "                record_pts.append(intersection_point.tolist())\n",
        "                xs.append(intersection_point[0])\n",
        "                ys.append(intersection_point[1])\n",
        "                zs.append(intersection_point[2])\n",
        "                importances.append(importance)\n",
        "                real_clrs.append([point_colors[idx_1],point_colors[idx_2]])\n",
        "        #print(\" \",idx_2)\n",
        "    print(idx_1,len(record_pts))"
      ]
    },
    {
      "cell_type": "code",
      "execution_count": null,
      "metadata": {},
      "outputs": [],
      "source": [
        "import plotly.express as px\n",
        "import pandas as pd\n",
        "\n",
        "df = pd.DataFrame()\n",
        "\n",
        "df[\"x\"] = np.array(xs)\n",
        "df[\"y\"] = np.array(ys)\n",
        "df[\"z\"] = np.array(zs)\n",
        "\n",
        "fig = px.scatter_3d(df, x='x', y='y', z='z')\n",
        "fig.show()"
      ]
    },
    {
      "cell_type": "code",
      "execution_count": null,
      "metadata": {},
      "outputs": [],
      "source": []
    },
    {
      "cell_type": "code",
      "execution_count": null,
      "metadata": {},
      "outputs": [],
      "source": [
        "import plotly.graph_objects as go\n",
        "import random\n",
        "\n",
        "point_graph = go.Scatter3d(\n",
        "        x=xs,\n",
        "        y=ys,\n",
        "        z=zs,\n",
        "\n",
        "        mode='markers',\n",
        "\n",
        "        marker=dict(\n",
        "            # color=['rgb{}'.format(tuple(clr*255)) for clr in real_clrs],\n",
        "            color=['rgb{}'.format(tuple(torch.round(((clr[0]+clr[1])/2*255)).tolist())) for clr in real_clrs],\n",
        "            size = avg_importance.item()*10,\n",
        "            opacity=0.3,\n",
        "        ))\n",
        "\n",
        "layout = go.Layout(\n",
        "    scene = {\n",
        "    'xaxis': {'range': [-5, 5], 'rangemode': 'tozero', 'tickmode': \"linear\", 'tick0': -5, 'dtick': 1},\n",
        "    'yaxis': {'range': [-5, 5], 'rangemode': 'tozero', 'tickmode': \"linear\", 'tick0': -5, 'dtick': 1},\n",
        "    'zaxis': {'range': [-5, 5], 'rangemode': 'tozero', 'tickmode': \"linear\", 'tick0': -5, 'dtick': 1},\n",
        "    'aspectmode': 'cube'\n",
        "    }\n",
        ")\n",
        "fig = go.Figure(data=point_graph,layout = layout)\n",
        "fig.show()"
      ]
    },
    {
      "cell_type": "code",
      "execution_count": null,
      "metadata": {},
      "outputs": [],
      "source": [
        "torch.round(real_clrs[0]*255).tolist()"
      ]
    },
    {
      "cell_type": "code",
      "execution_count": null,
      "metadata": {},
      "outputs": [],
      "source": [
        "real_clrs[0]"
      ]
    },
    {
      "cell_type": "code",
      "execution_count": null,
      "metadata": {},
      "outputs": [],
      "source": []
    },
    {
      "attachments": {},
      "cell_type": "markdown",
      "metadata": {},
      "source": [
        "# Record all Points "
      ]
    },
    {
      "attachments": {},
      "cell_type": "markdown",
      "metadata": {},
      "source": [
        "With Clip-seg, can identify individual parts of images.\n",
        "Now what to do with segmentation?\n",
        "- Some merit in decomposing into components but i forgot\n",
        "- The alpha composite works but its so computationally expensive"
      ]
    },
    {
      "attachments": {},
      "cell_type": "markdown",
      "metadata": {},
      "source": [
        "Two strategies to improve/make model quicker\n",
        "- track points and then count how many a similar point has been hit\n",
        "- cheaper and can be run when making profile\n",
        "\n",
        "To check if such points exist try running the NeRF and then running the point cloud\n",
        "\n"
      ]
    },
    {
      "attachments": {},
      "cell_type": "markdown",
      "metadata": {},
      "source": [
        "Point cloud generated:\n",
        "    Given point cloud, write network to map image generated from point cloud to actual image\n",
        "    "
      ]
    },
    {
      "attachments": {},
      "cell_type": "markdown",
      "metadata": {},
      "source": [
        "## Setup"
      ]
    },
    {
      "cell_type": "code",
      "execution_count": 13,
      "metadata": {},
      "outputs": [],
      "source": [
        "from transformers import CLIPSegProcessor, CLIPSegForImageSegmentation\n",
        "\n",
        "processor = CLIPSegProcessor.from_pretrained(\"CIDAS/clipseg-rd64-refined\",device_map = torch.device(device))\n",
        "clipseg = CLIPSegForImageSegmentation.from_pretrained(\"CIDAS/clipseg-rd64-refined\", device_map = torch.device(device))"
      ]
    },
    {
      "cell_type": "code",
      "execution_count": 14,
      "metadata": {},
      "outputs": [
        {
          "name": "stdout",
          "output_type": "stream",
          "text": [
            "done\n"
          ]
        }
      ],
      "source": [
        "# ! a ray can be expressed as the ray direction and ray origin\n",
        "from IPython.display import clear_output\n",
        "# ray origin, ray  direction, importance\n",
        "important_rays = []\n",
        "point_colors = []\n",
        "try:\n",
        "  imgs = (images).astype(np.uint8)\n",
        "except:\n",
        "  imgs = (images.cpu().numpy()*255).astype(np.uint8)\n",
        "prompts = [\"green chair\" for i in range(len(imgs))]\n",
        "inputs = processor(text=prompts, images=imgs, return_tensors=\"pt\").to(device)\n",
        "print(\"done\")\n",
        "with torch.no_grad():\n",
        "  outputs = clipseg(**inputs)\n",
        "\n",
        "segmented = outputs.logits.unsqueeze(1)"
      ]
    },
    {
      "cell_type": "code",
      "execution_count": 15,
      "metadata": {},
      "outputs": [
        {
          "data": {
            "text/plain": [
              "<matplotlib.image.AxesImage at 0x20bdb936850>"
            ]
          },
          "execution_count": 15,
          "metadata": {},
          "output_type": "execute_result"
        },
        {
          "data": {
            "image/png": "[encoded data removed]",
            "text/plain": [
              "<Figure size 640x480 with 1 Axes>"
            ]
          },
          "metadata": {},
          "output_type": "display_data"
        }
      ],
      "source": [
        "plt.imshow(segmented[4].cpu().reshape(352,352,1))"
      ]
    },
    {
      "cell_type": "code",
      "execution_count": 16,
      "metadata": {},
      "outputs": [
        {
          "name": "stderr",
          "output_type": "stream",
          "text": [
            "c:\\ProgramData\\Miniconda3\\envs\\nerfresearch\\lib\\site-packages\\torch\\functional.py:504: UserWarning: torch.meshgrid: in an upcoming release, it will be required to pass the indexing argument. (Triggered internally at C:\\cb\\pytorch_1000000000000\\work\\aten\\src\\ATen\\native\\TensorShape.cpp:3527.)\n",
            "  return _VF.meshgrid(tensors, **kwargs)  # type: ignore[attr-defined]\n"
          ]
        }
      ],
      "source": [
        "# ! a ray can be expressed as the ray direction and ray origin\n",
        "from IPython.display import clear_output\n",
        "# from skimage.transform import resize\n",
        "depth_samples_per_ray = 10\n",
        "\n",
        "# focal_length = focal\n",
        "# record_pts = {}\n",
        "# grads = []\n",
        "# threshold = 0.1\n",
        "# # ! for some reason the \n",
        "# # ray origin, ray  direction, importance\n",
        "# important_rays = []\n",
        "# point_colors = []\n",
        "\n",
        "cams = []\n",
        "\n",
        "dec = 2\n",
        "for i in range(len(images)):\n",
        "    image = images[i]\n",
        "    transform = tform_cam2world[i]\n",
        "    ray_origins, ray_directions = get_ray_bundle(height, width, focal_length,\n",
        "                                               transform)\n",
        "    # print(ray_origins[0][0])\n",
        "    cams.append(ray_origins[0][0])\n",
        "cams = torch.stack(cams).cpu()"
      ]
    },
    {
      "cell_type": "code",
      "execution_count": 17,
      "metadata": {},
      "outputs": [
        {
          "data": {
            "application/vnd.plotly.v1+json": {
              "config": {
                "plotlyServerURL": "https://plot.ly"
              },
              "data": [
                {
                  "marker": {
                    "size": 3
                  },
                  "mode": "markers",
                  "type": "scatter3d",
                  "x": [
                    -1.0572376251220703,
                    0.26043257117271423,
                    -3.7684571743011475,
                    1.5814510583877563,
                    0.953244149684906,
                    2.996474266052246,
                    3.878704309463501,
                    0.2762119472026825,
                    -1.5864359140396118,
                    -1.9485280513763428,
                    -0.31725549697875977,
                    -2.9394853115081787,
                    2.698713779449463,
                    3.3618061542510986,
                    2.2681069374084473,
                    -0.16553816199302673,
                    -2.8498432636260986,
                    1.2037813663482666,
                    3.5829269886016846,
                    1.0547538995742798,
                    -1.023576259613037,
                    2.1688425540924072,
                    0.2905930280685425,
                    -2.402055263519287,
                    -2.7697572708129883,
                    -3.3011233806610107,
                    -0.7171050906181335,
                    1.2067512273788452,
                    -3.8272666931152344,
                    -0.8448512554168701,
                    -1.6039599180221558,
                    -0.3324478268623352,
                    0.48486438393592834,
                    0.6642939448356628,
                    -2.082963705062866,
                    -0.024806614965200424,
                    0.04861889034509659,
                    2.2349517345428467,
                    -2.2083640098571777,
                    0.5575024485588074,
                    -1.7538683414459229,
                    0.37662360072135925,
                    -2.165015459060669,
                    2.813234329223633,
                    1.1312848329544067,
                    -2.9475231170654297,
                    2.164533853530884,
                    -1.7031598091125488,
                    -0.7585498094558716,
                    2.0437042713165283,
                    3.779249906539917,
                    1.1387540102005005,
                    -1.5111949443817139,
                    -0.9610900282859802,
                    0.7441612482070923,
                    -2.985076427459717,
                    -2.25905179977417,
                    0.0890231728553772,
                    -1.0136170387268066,
                    -3.5419156551361084,
                    2.2165169715881348,
                    0.4524025321006775,
                    -0.9217212200164795,
                    -1.5163878202438354,
                    0.027143210172653198,
                    -0.5305445194244385,
                    1.5590094327926636,
                    -2.566371202468872,
                    -0.21690058708190918,
                    0.34644603729248047,
                    3.4092817306518555,
                    -0.04859909042716026,
                    -3.86561918258667,
                    1.4215798377990723,
                    -1.885766625404358,
                    0.7732176780700684,
                    2.847681999206543,
                    -2.110156297683716,
                    -0.23976944386959076,
                    0.929959774017334,
                    2.730020523071289,
                    -1.7542601823806763,
                    -0.8435224294662476,
                    1.7864909172058105,
                    0.05056745931506157,
                    0.007534991018474102,
                    -0.02806352637708187,
                    0.1762462705373764,
                    2.76861834526062,
                    1.3159064054489136,
                    1.838240385055542,
                    3.183091640472412,
                    -2.6794662475585938,
                    -3.2481272220611572,
                    0.3221540153026581,
                    -3.8540802001953125,
                    1.8542081117630005,
                    0.41861703991889954,
                    -3.948305606842041,
                    0.9941955208778381
                  ],
                  "y": [
                    2.5740303993225098,
                    -0.24541696906089783,
                    -1.2999367713928223,
                    3.3921992778778076,
                    -1.6001232862472534,
                    -1.5636255741119385,
                    0.2504621148109436,
                    3.0198514461517334,
                    -3.3005757331848145,
                    3.1547679901123047,
                    3.7670114040374756,
                    2.2392940521240234,
                    1.6057422161102295,
                    1.4793193340301514,
                    -2.5366995334625244,
                    0.31037843227386475,
                    0.7856489419937134,
                    3.7300796508789062,
                    -1.2717387676239014,
                    -0.40797561407089233,
                    3.3498425483703613,
                    2.2312440872192383,
                    -0.46053656935691833,
                    3.0840983390808105,
                    -2.6981143951416016,
                    -0.7994424104690552,
                    -3.8398122787475586,
                    2.580453872680664,
                    -0.262031614780426,
                    3.245000123977661,
                    2.639116048812866,
                    -3.8303699493408203,
                    -3.9595448970794678,
                    2.8893392086029053,
                    3.353541851043701,
                    1.4379626512527466,
                    0.3681953251361847,
                    2.3679757118225098,
                    -0.1581260710954666,
                    -1.2482784986495972,
                    1.7731775045394897,
                    -2.310002088546753,
                    2.6725552082061768,
                    -0.9801510572433472,
                    3.7681522369384766,
                    0.010678468272089958,
                    2.793851137161255,
                    -1.24319326877594,
                    1.043086051940918,
                    2.0489706993103027,
                    -1.2586270570755005,
                    3.260150909423828,
                    -0.6735633611679077,
                    1.670431137084961,
                    1.2342848777770996,
                    -1.0781183242797852,
                    -3.1820080280303955,
                    0.037445008754730225,
                    -0.7413702011108398,
                    1.6495444774627686,
                    3.070564031600952,
                    -2.1379783153533936,
                    -3.172271490097046,
                    -2.1115779876708984,
                    -0.020994991064071655,
                    -0.5053104162216187,
                    -2.8493714332580566,
                    -2.4293041229248047,
                    2.4488039016723633,
                    3.560560464859009,
                    -2.055145740509033,
                    1.8959612846374512,
                    -0.7006182670593262,
                    2.9828877449035645,
                    3.441655397415161,
                    -1.0656020641326904,
                    -2.3287906646728516,
                    -1.957023024559021,
                    -1.472224473953247,
                    0.9684368371963501,
                    -2.3233888149261475,
                    3.1409051418304443,
                    -2.0132369995117188,
                    -0.7627068758010864,
                    2.425722360610962,
                    -2.8953652381896973,
                    3.477814197540283,
                    3.2071726322174072,
                    0.16298195719718933,
                    3.398852825164795,
                    3.4639475345611572,
                    2.0171475410461426,
                    -2.836977958679199,
                    0.6737400889396667,
                    -0.6086594462394714,
                    -0.5521584749221802,
                    3.412431240081787,
                    0.20415061712265015,
                    0.21051950752735138,
                    -2.597781181335449
                  ],
                  "z": [
                    2.9166102409362793,
                    4.015214443206787,
                    0.5990785360336304,
                    1.4973301887512207,
                    3.575042724609375,
                    2.1968653202056885,
                    1.069075107574463,
                    2.655975341796875,
                    1.6850581169128418,
                    1.581352949142456,
                    1.3996332883834839,
                    1.6108965873718262,
                    2.527555465698242,
                    1.6612865924835205,
                    2.1612141132354736,
                    4.015751838684082,
                    2.740647554397583,
                    0.9420276880264282,
                    1.3398932218551636,
                    3.869244337081909,
                    1.9952058792114258,
                    2.562747001647949,
                    3.994178533554077,
                    0.984107255935669,
                    1.1395715475082397,
                    2.1710543632507324,
                    0.9957927465438843,
                    2.852193832397461,
                    1.2382930517196655,
                    2.2374539375305176,
                    2.5908260345458984,
                    1.2115048170089722,
                    0.5804411768913269,
                    2.7313790321350098,
                    0.8154876232147217,
                    3.765852928161621,
                    4.013984203338623,
                    2.3764853477478027,
                    3.3686978816986084,
                    3.7922277450561523,
                    3.1669838428497314,
                    3.2820792198181152,
                    2.1024169921875,
                    2.715698003768921,
                    0.8781932592391968,
                    2.749907970428467,
                    1.938862681388855,
                    3.4356539249420166,
                    3.819237232208252,
                    2.806241750717163,
                    0.6189729571342468,
                    2.079580783843994,
                    3.6759490966796875,
                    3.540616512298584,
                    3.7646732330322266,
                    2.4853532314300537,
                    1.0106977224349976,
                    4.029971599578857,
                    3.830528736114502,
                    0.9918855428695679,
                    1.381553292274475,
                    3.387385368347168,
                    2.3102214336395264,
                    3.0808775424957275,
                    4.030982494354248,
                    3.9639856815338135,
                    2.387587070465088,
                    1.9396443367004395,
                    3.194732189178467,
                    1.858059287071228,
                    0.6349608302116394,
                    3.557101011276245,
                    0.9033951163291931,
                    2.309002161026001,
                    0.9213535189628601,
                    3.8100690841674805,
                    1.6484664678573608,
                    2.822640895843506,
                    3.7450056076049805,
                    3.8009610176086426,
                    1.8435978889465332,
                    1.8185944557189941,
                    3.3890037536621094,
                    3.532241106033325,
                    3.219210147857666,
                    2.8047823905944824,
                    2.0381414890289307,
                    2.4357709884643555,
                    2.925438404083252,
                    1.7222626209259033,
                    0.9337774515151978,
                    1.4314478635787964,
                    1.010948657989502,
                    2.290358781814575,
                    3.971869945526123,
                    1.0445988178253174,
                    1.0803816318511963,
                    4.004133224487305,
                    0.7852164506912231,
                    2.9177231788635254
                  ]
                }
              ],
              "layout": {
                "template": {
                  "data": {
                    "bar": [
                      {
                        "error_x": {
                          "color": "#2a3f5f"
                        },
                        "error_y": {
                          "color": "#2a3f5f"
                        },
                        "marker": {
                          "line": {
                            "color": "#E5ECF6",
                            "width": 0.5
                          },
                          "pattern": {
                            "fillmode": "overlay",
                            "size": 10,
                            "solidity": 0.2
                          }
                        },
                        "type": "bar"
                      }
                    ],
                    "barpolar": [
                      {
                        "marker": {
                          "line": {
                            "color": "#E5ECF6",
                            "width": 0.5
                          },
                          "pattern": {
                            "fillmode": "overlay",
                            "size": 10,
                            "solidity": 0.2
                          }
                        },
                        "type": "barpolar"
                      }
                    ],
                    "carpet": [
                      {
                        "aaxis": {
                          "endlinecolor": "#2a3f5f",
                          "gridcolor": "white",
                          "linecolor": "white",
                          "minorgridcolor": "white",
                          "startlinecolor": "#2a3f5f"
                        },
                        "baxis": {
                          "endlinecolor": "#2a3f5f",
                          "gridcolor": "white",
                          "linecolor": "white",
                          "minorgridcolor": "white",
                          "startlinecolor": "#2a3f5f"
                        },
                        "type": "carpet"
                      }
                    ],
                    "choropleth": [
                      {
                        "colorbar": {
                          "outlinewidth": 0,
                          "ticks": ""
                        },
                        "type": "choropleth"
                      }
                    ],
                    "contour": [
                      {
                        "colorbar": {
                          "outlinewidth": 0,
                          "ticks": ""
                        },
                        "colorscale": [
                          [
                            0,
                            "#0d0887"
                          ],
                          [
                            0.1111111111111111,
                            "#46039f"
                          ],
                          [
                            0.2222222222222222,
                            "#7201a8"
                          ],
                          [
                            0.3333333333333333,
                            "#9c179e"
                          ],
                          [
                            0.4444444444444444,
                            "#bd3786"
                          ],
                          [
                            0.5555555555555556,
                            "#d8576b"
                          ],
                          [
                            0.6666666666666666,
                            "#ed7953"
                          ],
                          [
                            0.7777777777777778,
                            "#fb9f3a"
                          ],
                          [
                            0.8888888888888888,
                            "#fdca26"
                          ],
                          [
                            1,
                            "#f0f921"
                          ]
                        ],
                        "type": "contour"
                      }
                    ],
                    "contourcarpet": [
                      {
                        "colorbar": {
                          "outlinewidth": 0,
                          "ticks": ""
                        },
                        "type": "contourcarpet"
                      }
                    ],
                    "heatmap": [
                      {
                        "colorbar": {
                          "outlinewidth": 0,
                          "ticks": ""
                        },
                        "colorscale": [
                          [
                            0,
                            "#0d0887"
                          ],
                          [
                            0.1111111111111111,
                            "#46039f"
                          ],
                          [
                            0.2222222222222222,
                            "#7201a8"
                          ],
                          [
                            0.3333333333333333,
                            "#9c179e"
                          ],
                          [
                            0.4444444444444444,
                            "#bd3786"
                          ],
                          [
                            0.5555555555555556,
                            "#d8576b"
                          ],
                          [
                            0.6666666666666666,
                            "#ed7953"
                          ],
                          [
                            0.7777777777777778,
                            "#fb9f3a"
                          ],
                          [
                            0.8888888888888888,
                            "#fdca26"
                          ],
                          [
                            1,
                            "#f0f921"
                          ]
                        ],
                        "type": "heatmap"
                      }
                    ],
                    "heatmapgl": [
                      {
                        "colorbar": {
                          "outlinewidth": 0,
                          "ticks": ""
                        },
                        "colorscale": [
                          [
                            0,
                            "#0d0887"
                          ],
                          [
                            0.1111111111111111,
                            "#46039f"
                          ],
                          [
                            0.2222222222222222,
                            "#7201a8"
                          ],
                          [
                            0.3333333333333333,
                            "#9c179e"
                          ],
                          [
                            0.4444444444444444,
                            "#bd3786"
                          ],
                          [
                            0.5555555555555556,
                            "#d8576b"
                          ],
                          [
                            0.6666666666666666,
                            "#ed7953"
                          ],
                          [
                            0.7777777777777778,
                            "#fb9f3a"
                          ],
                          [
                            0.8888888888888888,
                            "#fdca26"
                          ],
                          [
                            1,
                            "#f0f921"
                          ]
                        ],
                        "type": "heatmapgl"
                      }
                    ],
                    "histogram": [
                      {
                        "marker": {
                          "pattern": {
                            "fillmode": "overlay",
                            "size": 10,
                            "solidity": 0.2
                          }
                        },
                        "type": "histogram"
                      }
                    ],
                    "histogram2d": [
                      {
                        "colorbar": {
                          "outlinewidth": 0,
                          "ticks": ""
                        },
                        "colorscale": [
                          [
                            0,
                            "#0d0887"
                          ],
                          [
                            0.1111111111111111,
                            "#46039f"
                          ],
                          [
                            0.2222222222222222,
                            "#7201a8"
                          ],
                          [
                            0.3333333333333333,
                            "#9c179e"
                          ],
                          [
                            0.4444444444444444,
                            "#bd3786"
                          ],
                          [
                            0.5555555555555556,
                            "#d8576b"
                          ],
                          [
                            0.6666666666666666,
                            "#ed7953"
                          ],
                          [
                            0.7777777777777778,
                            "#fb9f3a"
                          ],
                          [
                            0.8888888888888888,
                            "#fdca26"
                          ],
                          [
                            1,
                            "#f0f921"
                          ]
                        ],
                        "type": "histogram2d"
                      }
                    ],
                    "histogram2dcontour": [
                      {
                        "colorbar": {
                          "outlinewidth": 0,
                          "ticks": ""
                        },
                        "colorscale": [
                          [
                            0,
                            "#0d0887"
                          ],
                          [
                            0.1111111111111111,
                            "#46039f"
                          ],
                          [
                            0.2222222222222222,
                            "#7201a8"
                          ],
                          [
                            0.3333333333333333,
                            "#9c179e"
                          ],
                          [
                            0.4444444444444444,
                            "#bd3786"
                          ],
                          [
                            0.5555555555555556,
                            "#d8576b"
                          ],
                          [
                            0.6666666666666666,
                            "#ed7953"
                          ],
                          [
                            0.7777777777777778,
                            "#fb9f3a"
                          ],
                          [
                            0.8888888888888888,
                            "#fdca26"
                          ],
                          [
                            1,
                            "#f0f921"
                          ]
                        ],
                        "type": "histogram2dcontour"
                      }
                    ],
                    "mesh3d": [
                      {
                        "colorbar": {
                          "outlinewidth": 0,
                          "ticks": ""
                        },
                        "type": "mesh3d"
                      }
                    ],
                    "parcoords": [
                      {
                        "line": {
                          "colorbar": {
                            "outlinewidth": 0,
                            "ticks": ""
                          }
                        },
                        "type": "parcoords"
                      }
                    ],
                    "pie": [
                      {
                        "automargin": true,
                        "type": "pie"
                      }
                    ],
                    "scatter": [
                      {
                        "fillpattern": {
                          "fillmode": "overlay",
                          "size": 10,
                          "solidity": 0.2
                        },
                        "type": "scatter"
                      }
                    ],
                    "scatter3d": [
                      {
                        "line": {
                          "colorbar": {
                            "outlinewidth": 0,
                            "ticks": ""
                          }
                        },
                        "marker": {
                          "colorbar": {
                            "outlinewidth": 0,
                            "ticks": ""
                          }
                        },
                        "type": "scatter3d"
                      }
                    ],
                    "scattercarpet": [
                      {
                        "marker": {
                          "colorbar": {
                            "outlinewidth": 0,
                            "ticks": ""
                          }
                        },
                        "type": "scattercarpet"
                      }
                    ],
                    "scattergeo": [
                      {
                        "marker": {
                          "colorbar": {
                            "outlinewidth": 0,
                            "ticks": ""
                          }
                        },
                        "type": "scattergeo"
                      }
                    ],
                    "scattergl": [
                      {
                        "marker": {
                          "colorbar": {
                            "outlinewidth": 0,
                            "ticks": ""
                          }
                        },
                        "type": "scattergl"
                      }
                    ],
                    "scattermapbox": [
                      {
                        "marker": {
                          "colorbar": {
                            "outlinewidth": 0,
                            "ticks": ""
                          }
                        },
                        "type": "scattermapbox"
                      }
                    ],
                    "scatterpolar": [
                      {
                        "marker": {
                          "colorbar": {
                            "outlinewidth": 0,
                            "ticks": ""
                          }
                        },
                        "type": "scatterpolar"
                      }
                    ],
                    "scatterpolargl": [
                      {
                        "marker": {
                          "colorbar": {
                            "outlinewidth": 0,
                            "ticks": ""
                          }
                        },
                        "type": "scatterpolargl"
                      }
                    ],
                    "scatterternary": [
                      {
                        "marker": {
                          "colorbar": {
                            "outlinewidth": 0,
                            "ticks": ""
                          }
                        },
                        "type": "scatterternary"
                      }
                    ],
                    "surface": [
                      {
                        "colorbar": {
                          "outlinewidth": 0,
                          "ticks": ""
                        },
                        "colorscale": [
                          [
                            0,
                            "#0d0887"
                          ],
                          [
                            0.1111111111111111,
                            "#46039f"
                          ],
                          [
                            0.2222222222222222,
                            "#7201a8"
                          ],
                          [
                            0.3333333333333333,
                            "#9c179e"
                          ],
                          [
                            0.4444444444444444,
                            "#bd3786"
                          ],
                          [
                            0.5555555555555556,
                            "#d8576b"
                          ],
                          [
                            0.6666666666666666,
                            "#ed7953"
                          ],
                          [
                            0.7777777777777778,
                            "#fb9f3a"
                          ],
                          [
                            0.8888888888888888,
                            "#fdca26"
                          ],
                          [
                            1,
                            "#f0f921"
                          ]
                        ],
                        "type": "surface"
                      }
                    ],
                    "table": [
                      {
                        "cells": {
                          "fill": {
                            "color": "#EBF0F8"
                          },
                          "line": {
                            "color": "white"
                          }
                        },
                        "header": {
                          "fill": {
                            "color": "#C8D4E3"
                          },
                          "line": {
                            "color": "white"
                          }
                        },
                        "type": "table"
                      }
                    ]
                  },
                  "layout": {
                    "annotationdefaults": {
                      "arrowcolor": "#2a3f5f",
                      "arrowhead": 0,
                      "arrowwidth": 1
                    },
                    "autotypenumbers": "strict",
                    "coloraxis": {
                      "colorbar": {
                        "outlinewidth": 0,
                        "ticks": ""
                      }
                    },
                    "colorscale": {
                      "diverging": [
                        [
                          0,
                          "#8e0152"
                        ],
                        [
                          0.1,
                          "#c51b7d"
                        ],
                        [
                          0.2,
                          "#de77ae"
                        ],
                        [
                          0.3,
                          "#f1b6da"
                        ],
                        [
                          0.4,
                          "#fde0ef"
                        ],
                        [
                          0.5,
                          "#f7f7f7"
                        ],
                        [
                          0.6,
                          "#e6f5d0"
                        ],
                        [
                          0.7,
                          "#b8e186"
                        ],
                        [
                          0.8,
                          "#7fbc41"
                        ],
                        [
                          0.9,
                          "#4d9221"
                        ],
                        [
                          1,
                          "#276419"
                        ]
                      ],
                      "sequential": [
                        [
                          0,
                          "#0d0887"
                        ],
                        [
                          0.1111111111111111,
                          "#46039f"
                        ],
                        [
                          0.2222222222222222,
                          "#7201a8"
                        ],
                        [
                          0.3333333333333333,
                          "#9c179e"
                        ],
                        [
                          0.4444444444444444,
                          "#bd3786"
                        ],
                        [
                          0.5555555555555556,
                          "#d8576b"
                        ],
                        [
                          0.6666666666666666,
                          "#ed7953"
                        ],
                        [
                          0.7777777777777778,
                          "#fb9f3a"
                        ],
                        [
                          0.8888888888888888,
                          "#fdca26"
                        ],
                        [
                          1,
                          "#f0f921"
                        ]
                      ],
                      "sequentialminus": [
                        [
                          0,
                          "#0d0887"
                        ],
                        [
                          0.1111111111111111,
                          "#46039f"
                        ],
                        [
                          0.2222222222222222,
                          "#7201a8"
                        ],
                        [
                          0.3333333333333333,
                          "#9c179e"
                        ],
                        [
                          0.4444444444444444,
                          "#bd3786"
                        ],
                        [
                          0.5555555555555556,
                          "#d8576b"
                        ],
                        [
                          0.6666666666666666,
                          "#ed7953"
                        ],
                        [
                          0.7777777777777778,
                          "#fb9f3a"
                        ],
                        [
                          0.8888888888888888,
                          "#fdca26"
                        ],
                        [
                          1,
                          "#f0f921"
                        ]
                      ]
                    },
                    "colorway": [
                      "#636efa",
                      "#EF553B",
                      "#00cc96",
                      "#ab63fa",
                      "#FFA15A",
                      "#19d3f3",
                      "#FF6692",
                      "#B6E880",
                      "#FF97FF",
                      "#FECB52"
                    ],
                    "font": {
                      "color": "#2a3f5f"
                    },
                    "geo": {
                      "bgcolor": "white",
                      "lakecolor": "white",
                      "landcolor": "#E5ECF6",
                      "showlakes": true,
                      "showland": true,
                      "subunitcolor": "white"
                    },
                    "hoverlabel": {
                      "align": "left"
                    },
                    "hovermode": "closest",
                    "mapbox": {
                      "style": "light"
                    },
                    "paper_bgcolor": "white",
                    "plot_bgcolor": "#E5ECF6",
                    "polar": {
                      "angularaxis": {
                        "gridcolor": "white",
                        "linecolor": "white",
                        "ticks": ""
                      },
                      "bgcolor": "#E5ECF6",
                      "radialaxis": {
                        "gridcolor": "white",
                        "linecolor": "white",
                        "ticks": ""
                      }
                    },
                    "scene": {
                      "xaxis": {
                        "backgroundcolor": "#E5ECF6",
                        "gridcolor": "white",
                        "gridwidth": 2,
                        "linecolor": "white",
                        "showbackground": true,
                        "ticks": "",
                        "zerolinecolor": "white"
                      },
                      "yaxis": {
                        "backgroundcolor": "#E5ECF6",
                        "gridcolor": "white",
                        "gridwidth": 2,
                        "linecolor": "white",
                        "showbackground": true,
                        "ticks": "",
                        "zerolinecolor": "white"
                      },
                      "zaxis": {
                        "backgroundcolor": "#E5ECF6",
                        "gridcolor": "white",
                        "gridwidth": 2,
                        "linecolor": "white",
                        "showbackground": true,
                        "ticks": "",
                        "zerolinecolor": "white"
                      }
                    },
                    "shapedefaults": {
                      "line": {
                        "color": "#2a3f5f"
                      }
                    },
                    "ternary": {
                      "aaxis": {
                        "gridcolor": "white",
                        "linecolor": "white",
                        "ticks": ""
                      },
                      "baxis": {
                        "gridcolor": "white",
                        "linecolor": "white",
                        "ticks": ""
                      },
                      "bgcolor": "#E5ECF6",
                      "caxis": {
                        "gridcolor": "white",
                        "linecolor": "white",
                        "ticks": ""
                      }
                    },
                    "title": {
                      "x": 0.05
                    },
                    "xaxis": {
                      "automargin": true,
                      "gridcolor": "white",
                      "linecolor": "white",
                      "ticks": "",
                      "title": {
                        "standoff": 15
                      },
                      "zerolinecolor": "white",
                      "zerolinewidth": 2
                    },
                    "yaxis": {
                      "automargin": true,
                      "gridcolor": "white",
                      "linecolor": "white",
                      "ticks": "",
                      "title": {
                        "standoff": 15
                      },
                      "zerolinecolor": "white",
                      "zerolinewidth": 2
                    }
                  }
                }
              }
            }
          },
          "metadata": {},
          "output_type": "display_data"
        }
      ],
      "source": [
        "import plotly.graph_objects as go\n",
        "import random\n",
        "\n",
        "def thresh(x,threshold=0.6):\n",
        "    if x > threshold:\n",
        "        return 1\n",
        "    else:\n",
        "        return 0\n",
        "    \n",
        "\n",
        "point_graph = go.Scatter3d(\n",
        "        x=cams[:,0],\n",
        "        y=cams[:,1],\n",
        "        z=cams[:,2],\n",
        "\n",
        "        mode='markers',\n",
        "\n",
        "        marker=dict(\n",
        "            size = 3,\n",
        "        \n",
        "        ))\n",
        "\n",
        "# layout = go.Layout(\n",
        "#     scene = {\n",
        "#     'xaxis': {'range': [-2, 2], 'rangemode': 'tozero', 'tickmode': \"linear\", 'tick0': -5, 'dtick': 1},\n",
        "#     'yaxis': {'range': [-2, 2], 'rangemode': 'tozero', 'tickmode': \"linear\", 'tick0': -5, 'dtick': 1},\n",
        "#     'zaxis': {'range': [-2, 2], 'rangemode': 'tozero', 'tickmode': \"linear\", 'tick0': -5, 'dtick': 1},\n",
        "#     'aspectmode': 'cube'\n",
        "#     }\n",
        "# )\n",
        "fig = go.Figure(data=point_graph, axis = False)\n",
        "fig.show()"
      ]
    },
    {
      "cell_type": "code",
      "execution_count": 18,
      "metadata": {},
      "outputs": [
        {
          "name": "stdout",
          "output_type": "stream",
          "text": [
            "Recorded Points: 0\n",
            "torch.Size([400, 400, 20, 3])\n",
            "tensor([-1.0572,  2.5740,  2.9166], device='cuda:0') torch.Size([400, 400, 20, 3])\n",
            "[400, 400, 1]\n"
          ]
        },
        {
          "data": {
            "image/png": "[encoded data removed]",
            "text/plain": [
              "<Figure size 640x480 with 1 Axes>"
            ]
          },
          "metadata": {},
          "output_type": "display_data"
        },
        {
          "name": "stdout",
          "output_type": "stream",
          "text": [
            "Image: 1\n",
            "Repeated Points: 0\n",
            "Relevant Pixels: 34181\n",
            "Processing Time: 36.6291286945343\n",
            "Recorded Points: 657280\n",
            "torch.Size([400, 400, 20, 3])\n",
            "tensor([ 0.2604, -0.2454,  4.0152], device='cuda:0') torch.Size([400, 400, 20, 3])\n",
            "[400, 400, 1]\n"
          ]
        }
      ],
      "source": [
        "# ! a ray can be expressed as the ray direction and ray origin\n",
        "from IPython.display import clear_output\n",
        "from skimage.transform import resize\n",
        "import time\n",
        "depth_samples_per_ray = 20\n",
        "\n",
        "near = 2\n",
        "far = 6\n",
        "\n",
        "# focal_length = focal\n",
        "record_pts = {}\n",
        "grads = []\n",
        "threshold = 0.1\n",
        "# ! for some reason the \n",
        "# ray origin, ray  direction, importance\n",
        "important_rays = []\n",
        "point_colors = []\n",
        "\n",
        "dec = 2\n",
        "for i in range(len(images)):\n",
        "    start = time.time()\n",
        "    print(\"Recorded Points:\",len(record_pts.keys()))\n",
        "    image = images[i].to(device)\n",
        "    transform = tform_cam2world[i].to(device)\n",
        "    ray_origins, ray_directions = get_ray_bundle(height, width, focal_length,\n",
        "                                               transform)\n",
        "    query_points, depth_values = compute_query_points_from_rays(\n",
        "    ray_origins, ray_directions, near, far, depth_samples_per_ray, randomize = True)\n",
        "    print(query_points.shape)\n",
        "    print(ray_origins[0][0],query_points.shape)\n",
        "    counter = 0\n",
        "            \n",
        "    img_rays = []\n",
        "    img_clrs = []\n",
        "    \n",
        "    img_shape = list(images[0].shape)\n",
        "    img_shape[-1] = 1\n",
        "    print(img_shape)\n",
        "    repeats = 0\n",
        "    cleaned_grads = resize(torch.sigmoid(segmented[i].cpu()).reshape(352,352,1).numpy(),img_shape)\n",
        "    relevant_pixels = 0\n",
        "    for x in range(cleaned_grads.shape[0]):\n",
        "        for y in range(cleaned_grads.shape[1]):\n",
        "            if sum(cleaned_grads[x][y]) > threshold:\n",
        "                relevant_pixels += 1\n",
        "                # pixel x,y is semantically important\n",
        "                ray = query_points[x][y]\n",
        "                rounded = torch.round(ray,decimals = dec).tolist()\n",
        "                for pt in rounded:\n",
        "                    pt = tuple(pt)\n",
        "                    # print(pt)\n",
        "                    record_pts[pt] = [1,sum(cleaned_grads[x][y]),image[x][y]]\n",
        "                    # if pt in record_pts:\n",
        "                    #     record_pts[pt] = [1,sum(cleaned_grads[x][y]),image[x][y]]\n",
        "                    # else:\n",
        "                    #     original = record_pts[pt][1]\n",
        "                    #     # print(abs(sum(image[x][y] - record_pts[pt][2])))\n",
        "                    #     if abs(sum(image[x][y] - record_pts[pt][2])) < 0.5:\n",
        "                    #         # print(x,y,pt,pt in record_pts)\n",
        "                    #         repeats += 1\n",
        "                    #         record_pts[pt][0] += 1\n",
        "                    #         record_pts[pt][1] = (sum(cleaned_grads[x][y]) + record_pts[pt][1])/record_pts[pt][0]\n",
        "            \n",
        "    plt.imshow(image.cpu().numpy())\n",
        "    plt.imshow(cleaned_grads > threshold,alpha = 0.6,cmap = \"binary\")\n",
        "    plt.show()\n",
        "    print(\"Image:\",i+1)\n",
        "    print(\"Repeated Points:\",repeats)\n",
        "    print(\"Relevant Pixels:\",relevant_pixels)\n",
        "    print(\"Processing Time:\",time.time()-start)\n",
        "    \n",
        "    if i % 10 == 0 and i != 0:\n",
        "        clear_output()\n",
        "    grads.append(cleaned_grads)"
      ]
    },
    {
      "cell_type": "code",
      "execution_count": 26,
      "metadata": {},
      "outputs": [],
      "source": [
        "import math\n",
        "import random\n",
        "real_pts = []\n",
        "xs = []\n",
        "ys = []\n",
        "zs = []\n",
        "sizes = []\n",
        "clrs = []\n",
        "\n",
        "empty = []\n",
        "for key in record_pts.keys():\n",
        "    if (record_pts[key][0] >= 3 and record_pts[key][1] > 0):\n",
        "        real_pts.append(key)\n",
        "        xs.append(key[0])\n",
        "        ys.append(key[1])\n",
        "        zs.append(key[2])\n",
        "        sizes.append(record_pts[key][1])\n",
        "        clrs.append(record_pts[key][2])\n",
        "    # else:\n",
        "    #     empty.append(key)\n",
        "        "
      ]
    },
    {
      "cell_type": "code",
      "execution_count": 25,
      "metadata": {},
      "outputs": [
        {
          "data": {
            "text/plain": [
              "0"
            ]
          },
          "execution_count": 25,
          "metadata": {},
          "output_type": "execute_result"
        }
      ],
      "source": [
        "len(xs)"
      ]
    },
    {
      "cell_type": "code",
      "execution_count": 23,
      "metadata": {},
      "outputs": [
        {
          "data": {
            "application/vnd.plotly.v1+json": {
              "config": {
                "plotlyServerURL": "https://plot.ly"
              },
              "data": [
                {
                  "marker": {
                    "color": [],
                    "size": 0.3
                  },
                  "mode": "markers",
                  "type": "scatter3d",
                  "x": [],
                  "y": [],
                  "z": []
                }
              ],
              "layout": {
                "template": {
                  "data": {
                    "bar": [
                      {
                        "error_x": {
                          "color": "#2a3f5f"
                        },
                        "error_y": {
                          "color": "#2a3f5f"
                        },
                        "marker": {
                          "line": {
                            "color": "#E5ECF6",
                            "width": 0.5
                          },
                          "pattern": {
                            "fillmode": "overlay",
                            "size": 10,
                            "solidity": 0.2
                          }
                        },
                        "type": "bar"
                      }
                    ],
                    "barpolar": [
                      {
                        "marker": {
                          "line": {
                            "color": "#E5ECF6",
                            "width": 0.5
                          },
                          "pattern": {
                            "fillmode": "overlay",
                            "size": 10,
                            "solidity": 0.2
                          }
                        },
                        "type": "barpolar"
                      }
                    ],
                    "carpet": [
                      {
                        "aaxis": {
                          "endlinecolor": "#2a3f5f",
                          "gridcolor": "white",
                          "linecolor": "white",
                          "minorgridcolor": "white",
                          "startlinecolor": "#2a3f5f"
                        },
                        "baxis": {
                          "endlinecolor": "#2a3f5f",
                          "gridcolor": "white",
                          "linecolor": "white",
                          "minorgridcolor": "white",
                          "startlinecolor": "#2a3f5f"
                        },
                        "type": "carpet"
                      }
                    ],
                    "choropleth": [
                      {
                        "colorbar": {
                          "outlinewidth": 0,
                          "ticks": ""
                        },
                        "type": "choropleth"
                      }
                    ],
                    "contour": [
                      {
                        "colorbar": {
                          "outlinewidth": 0,
                          "ticks": ""
                        },
                        "colorscale": [
                          [
                            0,
                            "#0d0887"
                          ],
                          [
                            0.1111111111111111,
                            "#46039f"
                          ],
                          [
                            0.2222222222222222,
                            "#7201a8"
                          ],
                          [
                            0.3333333333333333,
                            "#9c179e"
                          ],
                          [
                            0.4444444444444444,
                            "#bd3786"
                          ],
                          [
                            0.5555555555555556,
                            "#d8576b"
                          ],
                          [
                            0.6666666666666666,
                            "#ed7953"
                          ],
                          [
                            0.7777777777777778,
                            "#fb9f3a"
                          ],
                          [
                            0.8888888888888888,
                            "#fdca26"
                          ],
                          [
                            1,
                            "#f0f921"
                          ]
                        ],
                        "type": "contour"
                      }
                    ],
                    "contourcarpet": [
                      {
                        "colorbar": {
                          "outlinewidth": 0,
                          "ticks": ""
                        },
                        "type": "contourcarpet"
                      }
                    ],
                    "heatmap": [
                      {
                        "colorbar": {
                          "outlinewidth": 0,
                          "ticks": ""
                        },
                        "colorscale": [
                          [
                            0,
                            "#0d0887"
                          ],
                          [
                            0.1111111111111111,
                            "#46039f"
                          ],
                          [
                            0.2222222222222222,
                            "#7201a8"
                          ],
                          [
                            0.3333333333333333,
                            "#9c179e"
                          ],
                          [
                            0.4444444444444444,
                            "#bd3786"
                          ],
                          [
                            0.5555555555555556,
                            "#d8576b"
                          ],
                          [
                            0.6666666666666666,
                            "#ed7953"
                          ],
                          [
                            0.7777777777777778,
                            "#fb9f3a"
                          ],
                          [
                            0.8888888888888888,
                            "#fdca26"
                          ],
                          [
                            1,
                            "#f0f921"
                          ]
                        ],
                        "type": "heatmap"
                      }
                    ],
                    "heatmapgl": [
                      {
                        "colorbar": {
                          "outlinewidth": 0,
                          "ticks": ""
                        },
                        "colorscale": [
                          [
                            0,
                            "#0d0887"
                          ],
                          [
                            0.1111111111111111,
                            "#46039f"
                          ],
                          [
                            0.2222222222222222,
                            "#7201a8"
                          ],
                          [
                            0.3333333333333333,
                            "#9c179e"
                          ],
                          [
                            0.4444444444444444,
                            "#bd3786"
                          ],
                          [
                            0.5555555555555556,
                            "#d8576b"
                          ],
                          [
                            0.6666666666666666,
                            "#ed7953"
                          ],
                          [
                            0.7777777777777778,
                            "#fb9f3a"
                          ],
                          [
                            0.8888888888888888,
                            "#fdca26"
                          ],
                          [
                            1,
                            "#f0f921"
                          ]
                        ],
                        "type": "heatmapgl"
                      }
                    ],
                    "histogram": [
                      {
                        "marker": {
                          "pattern": {
                            "fillmode": "overlay",
                            "size": 10,
                            "solidity": 0.2
                          }
                        },
                        "type": "histogram"
                      }
                    ],
                    "histogram2d": [
                      {
                        "colorbar": {
                          "outlinewidth": 0,
                          "ticks": ""
                        },
                        "colorscale": [
                          [
                            0,
                            "#0d0887"
                          ],
                          [
                            0.1111111111111111,
                            "#46039f"
                          ],
                          [
                            0.2222222222222222,
                            "#7201a8"
                          ],
                          [
                            0.3333333333333333,
                            "#9c179e"
                          ],
                          [
                            0.4444444444444444,
                            "#bd3786"
                          ],
                          [
                            0.5555555555555556,
                            "#d8576b"
                          ],
                          [
                            0.6666666666666666,
                            "#ed7953"
                          ],
                          [
                            0.7777777777777778,
                            "#fb9f3a"
                          ],
                          [
                            0.8888888888888888,
                            "#fdca26"
                          ],
                          [
                            1,
                            "#f0f921"
                          ]
                        ],
                        "type": "histogram2d"
                      }
                    ],
                    "histogram2dcontour": [
                      {
                        "colorbar": {
                          "outlinewidth": 0,
                          "ticks": ""
                        },
                        "colorscale": [
                          [
                            0,
                            "#0d0887"
                          ],
                          [
                            0.1111111111111111,
                            "#46039f"
                          ],
                          [
                            0.2222222222222222,
                            "#7201a8"
                          ],
                          [
                            0.3333333333333333,
                            "#9c179e"
                          ],
                          [
                            0.4444444444444444,
                            "#bd3786"
                          ],
                          [
                            0.5555555555555556,
                            "#d8576b"
                          ],
                          [
                            0.6666666666666666,
                            "#ed7953"
                          ],
                          [
                            0.7777777777777778,
                            "#fb9f3a"
                          ],
                          [
                            0.8888888888888888,
                            "#fdca26"
                          ],
                          [
                            1,
                            "#f0f921"
                          ]
                        ],
                        "type": "histogram2dcontour"
                      }
                    ],
                    "mesh3d": [
                      {
                        "colorbar": {
                          "outlinewidth": 0,
                          "ticks": ""
                        },
                        "type": "mesh3d"
                      }
                    ],
                    "parcoords": [
                      {
                        "line": {
                          "colorbar": {
                            "outlinewidth": 0,
                            "ticks": ""
                          }
                        },
                        "type": "parcoords"
                      }
                    ],
                    "pie": [
                      {
                        "automargin": true,
                        "type": "pie"
                      }
                    ],
                    "scatter": [
                      {
                        "fillpattern": {
                          "fillmode": "overlay",
                          "size": 10,
                          "solidity": 0.2
                        },
                        "type": "scatter"
                      }
                    ],
                    "scatter3d": [
                      {
                        "line": {
                          "colorbar": {
                            "outlinewidth": 0,
                            "ticks": ""
                          }
                        },
                        "marker": {
                          "colorbar": {
                            "outlinewidth": 0,
                            "ticks": ""
                          }
                        },
                        "type": "scatter3d"
                      }
                    ],
                    "scattercarpet": [
                      {
                        "marker": {
                          "colorbar": {
                            "outlinewidth": 0,
                            "ticks": ""
                          }
                        },
                        "type": "scattercarpet"
                      }
                    ],
                    "scattergeo": [
                      {
                        "marker": {
                          "colorbar": {
                            "outlinewidth": 0,
                            "ticks": ""
                          }
                        },
                        "type": "scattergeo"
                      }
                    ],
                    "scattergl": [
                      {
                        "marker": {
                          "colorbar": {
                            "outlinewidth": 0,
                            "ticks": ""
                          }
                        },
                        "type": "scattergl"
                      }
                    ],
                    "scattermapbox": [
                      {
                        "marker": {
                          "colorbar": {
                            "outlinewidth": 0,
                            "ticks": ""
                          }
                        },
                        "type": "scattermapbox"
                      }
                    ],
                    "scatterpolar": [
                      {
                        "marker": {
                          "colorbar": {
                            "outlinewidth": 0,
                            "ticks": ""
                          }
                        },
                        "type": "scatterpolar"
                      }
                    ],
                    "scatterpolargl": [
                      {
                        "marker": {
                          "colorbar": {
                            "outlinewidth": 0,
                            "ticks": ""
                          }
                        },
                        "type": "scatterpolargl"
                      }
                    ],
                    "scatterternary": [
                      {
                        "marker": {
                          "colorbar": {
                            "outlinewidth": 0,
                            "ticks": ""
                          }
                        },
                        "type": "scatterternary"
                      }
                    ],
                    "surface": [
                      {
                        "colorbar": {
                          "outlinewidth": 0,
                          "ticks": ""
                        },
                        "colorscale": [
                          [
                            0,
                            "#0d0887"
                          ],
                          [
                            0.1111111111111111,
                            "#46039f"
                          ],
                          [
                            0.2222222222222222,
                            "#7201a8"
                          ],
                          [
                            0.3333333333333333,
                            "#9c179e"
                          ],
                          [
                            0.4444444444444444,
                            "#bd3786"
                          ],
                          [
                            0.5555555555555556,
                            "#d8576b"
                          ],
                          [
                            0.6666666666666666,
                            "#ed7953"
                          ],
                          [
                            0.7777777777777778,
                            "#fb9f3a"
                          ],
                          [
                            0.8888888888888888,
                            "#fdca26"
                          ],
                          [
                            1,
                            "#f0f921"
                          ]
                        ],
                        "type": "surface"
                      }
                    ],
                    "table": [
                      {
                        "cells": {
                          "fill": {
                            "color": "#EBF0F8"
                          },
                          "line": {
                            "color": "white"
                          }
                        },
                        "header": {
                          "fill": {
                            "color": "#C8D4E3"
                          },
                          "line": {
                            "color": "white"
                          }
                        },
                        "type": "table"
                      }
                    ]
                  },
                  "layout": {
                    "annotationdefaults": {
                      "arrowcolor": "#2a3f5f",
                      "arrowhead": 0,
                      "arrowwidth": 1
                    },
                    "autotypenumbers": "strict",
                    "coloraxis": {
                      "colorbar": {
                        "outlinewidth": 0,
                        "ticks": ""
                      }
                    },
                    "colorscale": {
                      "diverging": [
                        [
                          0,
                          "#8e0152"
                        ],
                        [
                          0.1,
                          "#c51b7d"
                        ],
                        [
                          0.2,
                          "#de77ae"
                        ],
                        [
                          0.3,
                          "#f1b6da"
                        ],
                        [
                          0.4,
                          "#fde0ef"
                        ],
                        [
                          0.5,
                          "#f7f7f7"
                        ],
                        [
                          0.6,
                          "#e6f5d0"
                        ],
                        [
                          0.7,
                          "#b8e186"
                        ],
                        [
                          0.8,
                          "#7fbc41"
                        ],
                        [
                          0.9,
                          "#4d9221"
                        ],
                        [
                          1,
                          "#276419"
                        ]
                      ],
                      "sequential": [
                        [
                          0,
                          "#0d0887"
                        ],
                        [
                          0.1111111111111111,
                          "#46039f"
                        ],
                        [
                          0.2222222222222222,
                          "#7201a8"
                        ],
                        [
                          0.3333333333333333,
                          "#9c179e"
                        ],
                        [
                          0.4444444444444444,
                          "#bd3786"
                        ],
                        [
                          0.5555555555555556,
                          "#d8576b"
                        ],
                        [
                          0.6666666666666666,
                          "#ed7953"
                        ],
                        [
                          0.7777777777777778,
                          "#fb9f3a"
                        ],
                        [
                          0.8888888888888888,
                          "#fdca26"
                        ],
                        [
                          1,
                          "#f0f921"
                        ]
                      ],
                      "sequentialminus": [
                        [
                          0,
                          "#0d0887"
                        ],
                        [
                          0.1111111111111111,
                          "#46039f"
                        ],
                        [
                          0.2222222222222222,
                          "#7201a8"
                        ],
                        [
                          0.3333333333333333,
                          "#9c179e"
                        ],
                        [
                          0.4444444444444444,
                          "#bd3786"
                        ],
                        [
                          0.5555555555555556,
                          "#d8576b"
                        ],
                        [
                          0.6666666666666666,
                          "#ed7953"
                        ],
                        [
                          0.7777777777777778,
                          "#fb9f3a"
                        ],
                        [
                          0.8888888888888888,
                          "#fdca26"
                        ],
                        [
                          1,
                          "#f0f921"
                        ]
                      ]
                    },
                    "colorway": [
                      "#636efa",
                      "#EF553B",
                      "#00cc96",
                      "#ab63fa",
                      "#FFA15A",
                      "#19d3f3",
                      "#FF6692",
                      "#B6E880",
                      "#FF97FF",
                      "#FECB52"
                    ],
                    "font": {
                      "color": "#2a3f5f"
                    },
                    "geo": {
                      "bgcolor": "white",
                      "lakecolor": "white",
                      "landcolor": "#E5ECF6",
                      "showlakes": true,
                      "showland": true,
                      "subunitcolor": "white"
                    },
                    "hoverlabel": {
                      "align": "left"
                    },
                    "hovermode": "closest",
                    "mapbox": {
                      "style": "light"
                    },
                    "paper_bgcolor": "white",
                    "plot_bgcolor": "#E5ECF6",
                    "polar": {
                      "angularaxis": {
                        "gridcolor": "white",
                        "linecolor": "white",
                        "ticks": ""
                      },
                      "bgcolor": "#E5ECF6",
                      "radialaxis": {
                        "gridcolor": "white",
                        "linecolor": "white",
                        "ticks": ""
                      }
                    },
                    "scene": {
                      "xaxis": {
                        "backgroundcolor": "#E5ECF6",
                        "gridcolor": "white",
                        "gridwidth": 2,
                        "linecolor": "white",
                        "showbackground": true,
                        "ticks": "",
                        "zerolinecolor": "white"
                      },
                      "yaxis": {
                        "backgroundcolor": "#E5ECF6",
                        "gridcolor": "white",
                        "gridwidth": 2,
                        "linecolor": "white",
                        "showbackground": true,
                        "ticks": "",
                        "zerolinecolor": "white"
                      },
                      "zaxis": {
                        "backgroundcolor": "#E5ECF6",
                        "gridcolor": "white",
                        "gridwidth": 2,
                        "linecolor": "white",
                        "showbackground": true,
                        "ticks": "",
                        "zerolinecolor": "white"
                      }
                    },
                    "shapedefaults": {
                      "line": {
                        "color": "#2a3f5f"
                      }
                    },
                    "ternary": {
                      "aaxis": {
                        "gridcolor": "white",
                        "linecolor": "white",
                        "ticks": ""
                      },
                      "baxis": {
                        "gridcolor": "white",
                        "linecolor": "white",
                        "ticks": ""
                      },
                      "bgcolor": "#E5ECF6",
                      "caxis": {
                        "gridcolor": "white",
                        "linecolor": "white",
                        "ticks": ""
                      }
                    },
                    "title": {
                      "x": 0.05
                    },
                    "xaxis": {
                      "automargin": true,
                      "gridcolor": "white",
                      "linecolor": "white",
                      "ticks": "",
                      "title": {
                        "standoff": 15
                      },
                      "zerolinecolor": "white",
                      "zerolinewidth": 2
                    },
                    "yaxis": {
                      "automargin": true,
                      "gridcolor": "white",
                      "linecolor": "white",
                      "ticks": "",
                      "title": {
                        "standoff": 15
                      },
                      "zerolinecolor": "white",
                      "zerolinewidth": 2
                    }
                  }
                }
              }
            }
          },
          "metadata": {},
          "output_type": "display_data"
        }
      ],
      "source": [
        "import plotly.graph_objects as go\n",
        "import random\n",
        "\n",
        "def thresh(x,threshold=0.6):\n",
        "    if x > threshold:\n",
        "        return 1\n",
        "    else:\n",
        "        return 0\n",
        "    \n",
        "point_graph = go.Scatter3d(\n",
        "        x=xs,\n",
        "        y=ys,\n",
        "        z=zs,\n",
        "\n",
        "        mode='markers',\n",
        "\n",
        "        marker=dict(\n",
        "            color=[tuple(clrs[i].tolist()) for i in range(len(sizes))],\n",
        "            size = 0.3,\n",
        "        \n",
        "        ))\n",
        "\n",
        "cameras = go.Scatter3d(\n",
        "        x=cams[:,0],\n",
        "        y=cams[:,1],\n",
        "        z=cams[:,2],\n",
        "\n",
        "        mode='markers',\n",
        "\n",
        "        marker=dict(\n",
        "            size = 3,\n",
        "        \n",
        "        ))\n",
        "\n",
        "# layout = go.Layout(\n",
        "#     scene = {\n",
        "#     'xaxis': {'range': [-2, 2], 'rangemode': 'tozero', 'tickmode': \"linear\", 'tick0': -5, 'dtick': 1},\n",
        "#     'yaxis': {'range': [-2, 2], 'rangemode': 'tozero', 'tickmode': \"linear\", 'tick0': -5, 'dtick': 1},\n",
        "#     'zaxis': {'range': [-2, 2], 'rangemode': 'tozero', 'tickmode': \"linear\", 'tick0': -5, 'dtick': 1},\n",
        "#     'aspectmode': 'cube'\n",
        "#     }\n",
        "# )\n",
        "fig = go.Figure(data=[point_graph])\n",
        "fig.show()"
      ]
    },
    {
      "attachments": {},
      "cell_type": "markdown",
      "metadata": {},
      "source": [
        "# Open3D"
      ]
    },
    {
      "attachments": {},
      "cell_type": "markdown",
      "metadata": {},
      "source": [
        "Write an algorithm that considers importance value in calculations\n",
        "\n",
        "Do this by looking at the Open3D outlier algorithm.\n",
        "\n",
        "Adapt the code !!"
      ]
    },
    {
      "cell_type": "code",
      "execution_count": 95,
      "metadata": {},
      "outputs": [],
      "source": [
        "import open3d as o3d\n",
        "import numpy as np\n",
        "\n",
        "colors = torch.stack(clrs).cpu().numpy()\n",
        "pcl = o3d.geometry.PointCloud()\n",
        "pcl.points = o3d.utility.Vector3dVector(real_pts)\n",
        "pcl.colors = o3d.utility.Vector3dVector(colors)\n",
        "o3d.visualization.draw_geometries([pcl])\n",
        "\n",
        "def display_inlier_outlier(cloud, ind):\n",
        "    inlier_cloud = cloud.select_by_index(ind)\n",
        "    outlier_cloud = cloud.select_by_index(ind, invert=True)\n",
        "\n",
        "    print(\"Showing outliers (red) and inliers (gray): \")\n",
        "    outlier_cloud.paint_uniform_color([1, 0, 0])\n",
        "    inlier_cloud.paint_uniform_color([0.8, 0.8, 0.8])\n",
        "    o3d.visualization.draw_geometries([inlier_cloud, outlier_cloud])"
      ]
    },
    {
      "cell_type": "code",
      "execution_count": null,
      "metadata": {},
      "outputs": [],
      "source": [
        "o3d.visualization.draw_geometries([pcl])"
      ]
    },
    {
      "cell_type": "code",
      "execution_count": null,
      "metadata": {},
      "outputs": [
        {
          "name": "stdout",
          "output_type": "stream",
          "text": [
            "Radius oulier removal\n",
            "Showing outliers (red) and inliers (gray): \n"
          ]
        }
      ],
      "source": [
        "print(\"Radius oulier removal\")\n",
        "cl, ind = pcl.remove_radius_outlier(nb_points=20, radius=0.1)\n",
        "display_inlier_outlier(pcl,ind)"
      ]
    },
    {
      "cell_type": "code",
      "execution_count": 81,
      "metadata": {},
      "outputs": [
        {
          "ename": "KeyboardInterrupt",
          "evalue": "",
          "output_type": "error",
          "traceback": [
            "\u001b[1;31m---------------------------------------------------------------------------\u001b[0m",
            "\u001b[1;31mKeyboardInterrupt\u001b[0m                         Traceback (most recent call last)",
            "Cell \u001b[1;32mIn[81], line 2\u001b[0m\n\u001b[0;32m      1\u001b[0m inlier_cloud \u001b[39m=\u001b[39m pcl\u001b[39m.\u001b[39mselect_by_index(ind)\n\u001b[1;32m----> 2\u001b[0m o3d\u001b[39m.\u001b[39mvisualization\u001b[39m.\u001b[39mdraw_geometries([inlier_cloud])\n",
            "File \u001b[1;32mc:\\ProgramData\\Miniconda3\\envs\\nerfresearch\\lib\\site-packages\\IPython\\core\\displayhook.py:258\u001b[0m, in \u001b[0;36mDisplayHook.__call__\u001b[1;34m(self, result)\u001b[0m\n\u001b[0;32m    255\u001b[0m     sys\u001b[39m.\u001b[39mstdout\u001b[39m.\u001b[39mwrite(\u001b[39mself\u001b[39m\u001b[39m.\u001b[39mshell\u001b[39m.\u001b[39mseparate_out2)\n\u001b[0;32m    256\u001b[0m     sys\u001b[39m.\u001b[39mstdout\u001b[39m.\u001b[39mflush()\n\u001b[1;32m--> 258\u001b[0m \u001b[39mdef\u001b[39;00m \u001b[39m__call__\u001b[39m(\u001b[39mself\u001b[39m, result\u001b[39m=\u001b[39m\u001b[39mNone\u001b[39;00m):\n\u001b[0;32m    259\u001b[0m \u001b[39m    \u001b[39m\u001b[39m\"\"\"Printing with history cache management.\u001b[39;00m\n\u001b[0;32m    260\u001b[0m \n\u001b[0;32m    261\u001b[0m \u001b[39m    This is invoked every time the interpreter needs to print, and is\u001b[39;00m\n\u001b[0;32m    262\u001b[0m \u001b[39m    activated by setting the variable sys.displayhook to it.\u001b[39;00m\n\u001b[0;32m    263\u001b[0m \u001b[39m    \"\"\"\u001b[39;00m\n\u001b[0;32m    264\u001b[0m     \u001b[39mself\u001b[39m\u001b[39m.\u001b[39mcheck_for_underscore()\n",
            "\u001b[1;31mKeyboardInterrupt\u001b[0m: "
          ]
        }
      ],
      "source": [
        "inlier_cloud = pcl.select_by_index(ind)\n",
        "o3d.visualization.draw_geometries([inlier_cloud])"
      ]
    },
    {
      "attachments": {},
      "cell_type": "markdown",
      "metadata": {},
      "source": [
        "## Point Pruning"
      ]
    },
    {
      "cell_type": "code",
      "execution_count": null,
      "metadata": {},
      "outputs": [],
      "source": [
        "import os\n",
        "import sys\n",
        "import torch\n",
        "import pytorch3d"
      ]
    },
    {
      "cell_type": "code",
      "execution_count": null,
      "metadata": {},
      "outputs": [],
      "source": [
        "import os\n",
        "import torch\n",
        "import torch.nn.functional as F\n",
        "import matplotlib.pyplot as plt\n",
        "\n",
        "# Util function for loading point clouds|\n",
        "import numpy as np\n",
        "\n",
        "# Data structures and functions for rendering\n",
        "from pytorch3d.structures import Pointclouds\n",
        "from pytorch3d.vis.plotly_vis import AxisArgs, plot_batch_individually, plot_scene\n",
        "from pytorch3d.renderer import (\n",
        "    look_at_view_transform,\n",
        "    FoVOrthographicCameras, \n",
        "    PointsRasterizationSettings,\n",
        "    PointsRenderer,\n",
        "    PulsarPointsRenderer,\n",
        "    PointsRasterizer,\n",
        "    AlphaCompositor,\n",
        "    NormWeightedCompositor\n",
        ")"
      ]
    },
    {
      "cell_type": "code",
      "execution_count": null,
      "metadata": {},
      "outputs": [],
      "source": [
        "# Setup\n",
        "if torch.cuda.is_available():\n",
        "    device = torch.device(\"cuda:0\")\n",
        "    torch.cuda.set_device(device)\n",
        "else:\n",
        "    device = torch.device(\"cpu\")\n",
        "\n",
        "# Set paths\n",
        "DATA_DIR = \"./data\"\n",
        "\n",
        "# Load point cloud\n",
        "# pointcloud = np.load(obj_filename)\n",
        "# verts = torch.Tensor(pointcloud['verts']).to(device)\n",
        "        \n",
        "# rgb = torch.Tensor(pointcloud['rgb']).to(device)\n",
        "\n",
        "point_cloud = Pointclouds(points=[torch.Tensor(real_pts)],features=[torch.stack(clrs)])"
      ]
    },
    {
      "cell_type": "code",
      "execution_count": null,
      "metadata": {},
      "outputs": [],
      "source": [
        "from pytorch3d.renderer import OrthographicCameras\n",
        "def interpret_blender_cameras(\n",
        "    poses, focal):\n",
        "    \"\"\"\n",
        "    Convert 4x4 matrices representing cameras in blender format\n",
        "    to PyTorch3D format.\n",
        "\n",
        "    Args:\n",
        "        poses: N x 3 x 4 camera matrices\n",
        "        focal: ndc space focal length\n",
        "    \"\"\"\n",
        "    pose_target_cameras = []\n",
        "    for pose_target in poses:\n",
        "        pose_target = pose_target[:3, :4]\n",
        "        mtx = torch.eye(4, dtype=pose_target.dtype)\n",
        "        mtx[:3, :3] = pose_target[:3, :3].t()\n",
        "        mtx[3, :3] = pose_target[:, 3]\n",
        "        mtx = mtx.inverse()\n",
        "\n",
        "        # flip the XZ coordinates.\n",
        "        mtx[:, [0, 2]] *= -1.0\n",
        "\n",
        "        Rpt3, Tpt3 = mtx[:, :3].split([3, 1], dim=0)\n",
        "\n",
        "        focal_length_pt3 = torch.FloatTensor([[focal, focal]])\n",
        "        principal_point_pt3 = torch.FloatTensor([[0.0, 0.0]])\n",
        "\n",
        "        cameras = OrthographicCameras(\n",
        "            focal_length=focal_length_pt3,\n",
        "            principal_point=principal_point_pt3,\n",
        "            R=Rpt3[None],\n",
        "            T=Tpt3\n",
        "        )\n",
        "        pose_target_cameras.append(cameras)\n",
        "    return pose_target_cameras\n",
        "\n",
        "focal_ndc = 2 * focal_length / min(100, 100)\n",
        "\n",
        "cams = interpret_blender_cameras(tform_cam2world[0].unsqueeze(0),focal_ndc)"
      ]
    },
    {
      "cell_type": "code",
      "execution_count": null,
      "metadata": {},
      "outputs": [],
      "source": [
        "# Initialize a camera.\n",
        "num = random.randint(1,100)\n",
        "cams = interpret_blender_cameras(tform_cam2world[num].unsqueeze(0),focal_ndc)\n",
        "cameras = cams[0]\n",
        "\n",
        "# Define the settings for rasterization and shading. Here we set the output image to be of size\n",
        "# 512x512. As we are rendering images for visualization purposes only we will set faces_per_pixel=1\n",
        "# and blur_radius=0.0. Refer to raster_points.py for explanations of these parameters. \n",
        "raster_settings = PointsRasterizationSettings(\n",
        "    image_size=100, \n",
        "    radius = 0.01,\n",
        "    points_per_pixel = 10\n",
        "    \n",
        ")\n",
        "\n",
        "\n",
        "# Create a points renderer by compositing points using an alpha compositor (nearer points\n",
        "# are weighted more heavily). See [1] for an explanation.\n",
        "rasterizer = PointsRasterizer(cameras=cameras, raster_settings=raster_settings)\n",
        "# rasterizer = PointsRasterizer(cameras=cameras)\n",
        "renderer = PointsRenderer(\n",
        "    rasterizer=rasterizer,\n",
        "    compositor=AlphaCompositor()\n",
        ")\n",
        "\n",
        "imgs = renderer(point_cloud)\n",
        "f, ax = plt.subplots(1,2)\n",
        "ax[0].imshow(imgs[0, ..., :3].cpu().numpy())\n",
        "ax[1].imshow(images[num])\n",
        "plt.axis(\"off\");"
      ]
    },
    {
      "attachments": {},
      "cell_type": "markdown",
      "metadata": {},
      "source": [
        "# Use Depth Estimation"
      ]
    },
    {
      "attachments": {},
      "cell_type": "markdown",
      "metadata": {},
      "source": [
        "## Clip Segmentation"
      ]
    },
    {
      "cell_type": "code",
      "execution_count": null,
      "metadata": {},
      "outputs": [],
      "source": [
        "from transformers import CLIPSegProcessor, CLIPSegForImageSegmentation\n",
        "\n",
        "processor = CLIPSegProcessor.from_pretrained(\"CIDAS/clipseg-rd64-refined\",device_map = torch.device(device))\n",
        "clipseg = CLIPSegForImageSegmentation.from_pretrained(\"CIDAS/clipseg-rd64-refined\", device_map = torch.device(device))"
      ]
    },
    {
      "cell_type": "code",
      "execution_count": null,
      "metadata": {},
      "outputs": [],
      "source": [
        "# ! a ray can be expressed as the ray direction and ray origin\n",
        "from IPython.display import clear_output\n",
        "# ray origin, ray  direction, importance\n",
        "important_rays = []\n",
        "point_colors = []\n",
        "try:\n",
        "  imgs = (images).astype(np.uint8)\n",
        "except:\n",
        "  imgs = (images.cpu().numpy()*255).astype(np.uint8)\n",
        "prompts = [\"chair\" for i in range(len(imgs))]\n",
        "inputs = processor(text=prompts, images=imgs, return_tensors=\"pt\").to(device)\n",
        "print(\"done\")\n",
        "with torch.no_grad():\n",
        "  outputs = clipseg(**inputs)\n",
        "\n",
        "segmented = outputs.logits.unsqueeze(1)"
      ]
    },
    {
      "cell_type": "code",
      "execution_count": null,
      "metadata": {},
      "outputs": [],
      "source": [
        "torch.cuda.get_device_name()"
      ]
    },
    {
      "cell_type": "code",
      "execution_count": null,
      "metadata": {},
      "outputs": [],
      "source": [
        "plt.imshow(segmented[3].cpu().reshape(352,352,1))"
      ]
    },
    {
      "attachments": {},
      "cell_type": "markdown",
      "metadata": {},
      "source": [
        "## Depth Estimation"
      ]
    },
    {
      "cell_type": "code",
      "execution_count": null,
      "metadata": {},
      "outputs": [],
      "source": [
        "import cv2\n",
        "import torch\n",
        "import urllib.request\n",
        "import matplotlib.pyplot as plt\n",
        "from PIL import Image\n",
        "\n",
        "model_type = \"DPT_Large\"  \n",
        "midas = torch.hub.load(\"intel-isl/MiDaS\", model_type)\n",
        "\n",
        "device = torch.device(\"cuda\") if torch.cuda.is_available() else torch.device(\"cpu\")\n",
        "midas.to(device)\n",
        "# midas.eval()\n",
        "\n",
        "midas_transforms = torch.hub.load(\"intel-isl/MiDaS\", \"transforms\")\n",
        "\n",
        "if model_type == \"DPT_Large\" or model_type == \"DPT_Hybrid\":\n",
        "    transform = midas_transforms.dpt_transform\n",
        "else:\n",
        "    transform = midas_transforms.small_transform"
      ]
    },
    {
      "cell_type": "code",
      "execution_count": null,
      "metadata": {},
      "outputs": [],
      "source": [
        "midas_transforms.dpt_transform"
      ]
    },
    {
      "cell_type": "code",
      "execution_count": null,
      "metadata": {},
      "outputs": [],
      "source": [
        "# for i, input in enumerate(inputs):\n",
        "#   dm_tmp = dir_tmp+basename(input)+'_depthmap'+path_ext(input)\n",
        "#   dm_file = output_dir+basename(input)+'_depthmap'+path_ext(input)\n",
        "#   disp_dm_file = dm_file.replace(drive_root, '')\n",
        "#   if os.path.isfile(dm_file) and skip_existing is True:\n",
        "#     op(c.warn, 'File already exists, skipping', disp_dm_file)\n",
        "#   else:\n",
        "# img = cv2.imread(input)\n",
        "# img = cv2.cvtColor(img, cv2.COLOR_BGR2RGB)\n",
        "depth = []\n",
        "counter = 0\n",
        "for image in images:\n",
        "    counter += 1\n",
        "    img = image.cpu().numpy()*255\n",
        "    input_batch = transform(img).to(device)\n",
        "    with torch.no_grad():\n",
        "        prediction = midas(input_batch)\n",
        "        prediction = torch.nn.functional.interpolate(\n",
        "            prediction.unsqueeze(1),\n",
        "            size=img.shape[:2],\n",
        "            mode=\"bicubic\",\n",
        "            align_corners=False,\n",
        "        ).squeeze() \n",
        "    print(\"Image {}\".format(counter))\n",
        "    if counter % 10 == 0:\n",
        "        clear_output()\n",
        "    depth.append(prediction.cpu().numpy())"
      ]
    },
    {
      "cell_type": "code",
      "execution_count": null,
      "metadata": {},
      "outputs": [],
      "source": [
        "depth[0].shape"
      ]
    },
    {
      "cell_type": "code",
      "execution_count": null,
      "metadata": {},
      "outputs": [],
      "source": [
        "plt.imshow(depth[3].reshape(depth[0].shape[0],depth[0].shape[1],1),cmap = \"binary\")\n",
        "plt.colorbar()\n",
        "plt.show()\n",
        "\n",
        "# ! given depth estimation, use inverse depth to place point"
      ]
    },
    {
      "attachments": {},
      "cell_type": "markdown",
      "metadata": {},
      "source": [
        "## Open 3D Visualisation"
      ]
    },
    {
      "cell_type": "code",
      "execution_count": null,
      "metadata": {},
      "outputs": [],
      "source": [
        "from PIL import Image\n",
        "import numpy as np\n",
        "color = Image.open(r\"C:\\Users\\victo\\Desktop\\Files\\Tech\\Data\\nerf_synthetic\\nerf_synthetic\\chair\\test\\r_11.png\")\n",
        "depth = Image.open(r\"C:\\Users\\victo\\Desktop\\Files\\Tech\\Data\\nerf_synthetic\\nerf_synthetic\\chair\\test\\r_11_depth_0000.png\")\n",
        "color = np.array(color.getdata())\n",
        "depth = np.array(depth.getdata())"
      ]
    },
    {
      "cell_type": "code",
      "execution_count": null,
      "metadata": {},
      "outputs": [],
      "source": [
        "import open3d"
      ]
    },
    {
      "cell_type": "code",
      "execution_count": null,
      "metadata": {},
      "outputs": [],
      "source": [
        "depth_map = depth[3]\n",
        "plt.imshow(depth_map)\n",
        "camera = open3d.camera.PinholeCameraIntrinsic()\n",
        "camera.set_intrinsics(width = 100,height = 100, fx = focal_length.item(),fy = 10, cx = 0, cy = 0)"
      ]
    },
    {
      "cell_type": "code",
      "execution_count": null,
      "metadata": {},
      "outputs": [],
      "source": [
        "pcd = []\n",
        "CX_DEPTH = 0\n",
        "CY_DEPTH = 0\n",
        "\n",
        "FX_DEPTH = focal_length.item()\n",
        "FY_DEPTH = focal_length.item()\n",
        "height, width = depth_map.shape\n",
        "for i in range(height):\n",
        "   for j in range(width):\n",
        "       z = depth_map[i][j]\n",
        "       x = (j - CX_DEPTH) * z / FX_DEPTH\n",
        "       y = (i - CY_DEPTH) * z / FY_DEPTH\n",
        "       pcd.append([x, y, z])"
      ]
    },
    {
      "cell_type": "code",
      "execution_count": null,
      "metadata": {},
      "outputs": [],
      "source": [
        "points = torch.tensor(pcd)"
      ]
    },
    {
      "cell_type": "code",
      "execution_count": null,
      "metadata": {},
      "outputs": [],
      "source": [
        "import plotly.graph_objects as go\n",
        "import random\n",
        "\n",
        "def thresh(x,threshold=0.6):\n",
        "    if x > threshold:\n",
        "        return 1\n",
        "    else:\n",
        "        return 0\n",
        "    \n",
        "\n",
        "point_graph = go.Scatter3d(\n",
        "        x=points[:,0],\n",
        "        y=points[:,1],\n",
        "        z=points[:,2],\n",
        "\n",
        "        mode='markers',\n",
        "\n",
        "        marker=dict(\n",
        "            size = 3,\n",
        "        \n",
        "        ))\n",
        "\n",
        "# layout = go.Layout(\n",
        "#     scene = {\n",
        "#     'xaxis': {'range': [-2, 2], 'rangemode': 'tozero', 'tickmode': \"linear\", 'tick0': -5, 'dtick': 1},\n",
        "#     'yaxis': {'range': [-2, 2], 'rangemode': 'tozero', 'tickmode': \"linear\", 'tick0': -5, 'dtick': 1},\n",
        "#     'zaxis': {'range': [-2, 2], 'rangemode': 'tozero', 'tickmode': \"linear\", 'tick0': -5, 'dtick': 1},\n",
        "#     'aspectmode': 'cube'\n",
        "#     }\n",
        "# )\n",
        "fig = go.Figure(data=point_graph)\n",
        "fig.show()"
      ]
    },
    {
      "attachments": {},
      "cell_type": "markdown",
      "metadata": {},
      "source": [
        "## Depth Map Visualisation"
      ]
    },
    {
      "cell_type": "code",
      "execution_count": null,
      "metadata": {},
      "outputs": [],
      "source": [
        "idx = np.random.randint(1,len(images))\n",
        "# idx = 26\n",
        "depth_map = torch.Tensor(depth[idx])\n",
        "print(torch.min(depth_map))\n",
        "depth_map -= torch.min(depth_map)\n",
        "depth_map /= torch.max(depth_map)\n",
        "plt.imshow(depth_map)\n",
        "plt.colorbar()"
      ]
    },
    {
      "cell_type": "code",
      "execution_count": null,
      "metadata": {},
      "outputs": [],
      "source": [
        "from torchvision.utils import save_image\n",
        "idx = 0\n",
        "depth_map = torch.Tensor(depth[idx])\n",
        "print(torch.min(depth_map))\n",
        "depth_map -= torch.min(depth_map)\n",
        "depth_map /= torch.max(depth_map)\n",
        "plt.imshow(depth_map)\n",
        "save_image(img, 'chair_depth.png')"
      ]
    },
    {
      "cell_type": "code",
      "execution_count": null,
      "metadata": {},
      "outputs": [],
      "source": [
        "import math\n",
        "transform = tform_cam2world[idx]\n",
        "image = images[idx]\n",
        "ray_origins, ray_directions = get_ray_bundle(height, width, focal_length,\n",
        "                                               transform)\n",
        "origin = ray_origins[0][0]\n",
        "direction = ray_directions[0][0]\n",
        "\n",
        "pts = []\n",
        "clrs = []\n",
        "for x in range(len(depth_map)):\n",
        "    for y in range(len(depth_map[0])):\n",
        "        if not (image[x][y] == torch.Tensor([0,0,0])).all():\n",
        "            direction = ray_directions[x][y]\n",
        "            \n",
        "            depth_val = 1-depth_map[x][y]\n",
        "            point = origin + direction * (2+(6-2)*depth_val)\n",
        "            # print(point)\n",
        "            clrs.append(image[x][y])\n",
        "            pts.append(point)"
      ]
    },
    {
      "cell_type": "code",
      "execution_count": null,
      "metadata": {},
      "outputs": [],
      "source": [
        "import plotly.graph_objects as go\n",
        "import random\n",
        "\n",
        "points = torch.stack(pts)\n",
        "\n",
        "def thresh(x,threshold=0.6):\n",
        "    if x > threshold:\n",
        "        return 1\n",
        "    else:\n",
        "        return 0\n",
        "    \n",
        "\n",
        "point_graph = go.Scatter3d(\n",
        "        x=points[:,0],\n",
        "        y=points[:,1],\n",
        "        z=points[:,2],\n",
        "\n",
        "        mode='markers',\n",
        "\n",
        "        marker=dict(\n",
        "            size = 3,\n",
        "            color=[tuple(clrs[i].tolist()) for i in range(len(pts))]\n",
        "        ))\n",
        "\n",
        "cameras = go.Scatter3d(\n",
        "        x=np.array(origin.cpu().numpy()[0]),\n",
        "        y=np.array(origin.cpu().numpy()[1]),\n",
        "        z=np.array(origin.cpu().numpy()[2]),\n",
        "\n",
        "        mode='markers',\n",
        "\n",
        "        marker=dict(\n",
        "            size = 10,\n",
        "        \n",
        "        ))\n",
        "\n",
        "# layout = go.Layout(\n",
        "#     scene = {\n",
        "#     'xaxis': {'range': [-2, 2], 'rangemode': 'tozero', 'tickmode': \"linear\", 'tick0': -5, 'dtick': 1},\n",
        "#     'yaxis': {'range': [-2, 2], 'rangemode': 'tozero', 'tickmode': \"linear\", 'tick0': -5, 'dtick': 1},\n",
        "#     'zaxis': {'range': [-2, 2], 'rangemode': 'tozero', 'tickmode': \"linear\", 'tick0': -5, 'dtick': 1},\n",
        "#     'aspectmode': 'cube'\n",
        "#     }\n",
        "# )\n",
        "# layout = go.Layout(\n",
        "#     scene = {\n",
        "#     'xaxis': {'range': [-2, 2], 'rangemode': 'tozero', 'tickmode': \"linear\", 'tick0': -5, 'dtick': 1},\n",
        "#     'yaxis': {'range': [-2, 2], 'rangemode': 'tozero', 'tickmode': \"linear\", 'tick0': -5, 'dtick': 1},\n",
        "#     'zaxis': {'range': [-2, 2], 'rangemode': 'tozero', 'tickmode': \"linear\", 'tick0': -5, 'dtick': 1},\n",
        "#     'aspectmode': 'cube'\n",
        "#     }\n",
        "# )\n",
        "fig = go.Figure(data=[point_graph,cameras])\n",
        "fig.show()"
      ]
    },
    {
      "attachments": {},
      "cell_type": "markdown",
      "metadata": {},
      "source": [
        "## Find Points"
      ]
    },
    {
      "cell_type": "code",
      "execution_count": null,
      "metadata": {},
      "outputs": [],
      "source": [
        "# ! a ray can be expressed as the ray direction and ray origin\n",
        "from IPython.display import clear_output\n",
        "from skimage.transform import resize\n",
        "depth_samples_per_ray = 10\n",
        "cams = []\n",
        "\n",
        "dec = 2\n",
        "for i in range(len(images)):\n",
        "    image = images[i]\n",
        "    transform = tform_cam2world[i]\n",
        "    ray_origins, ray_directions = get_ray_bundle(H, W, focal,\n",
        "                                               transform)\n",
        "    # print(ray_origins[0][0])\n",
        "    cams.append(ray_origins[0][0])\n",
        "cams = torch.stack(cams)"
      ]
    },
    {
      "cell_type": "code",
      "execution_count": null,
      "metadata": {},
      "outputs": [],
      "source": [
        "import plotly.graph_objects as go\n",
        "import random\n",
        "\n",
        "def thresh(x,threshold=0.6):\n",
        "    if x > threshold:\n",
        "        return 1\n",
        "    else:\n",
        "        return 0\n",
        "    \n",
        "\n",
        "point_graph = go.Scatter3d(\n",
        "        x=cams[:,0],\n",
        "        y=cams[:,1],\n",
        "        z=cams[:,2],\n",
        "\n",
        "        mode='markers',\n",
        "\n",
        "        marker=dict(\n",
        "            size = 3,\n",
        "        \n",
        "        ))\n",
        "\n",
        "\n",
        "\n",
        "# layout = go.Layout(\n",
        "#     scene = {\n",
        "#     'xaxis': {'range': [-2, 2], 'rangemode': 'tozero', 'tickmode': \"linear\", 'tick0': -5, 'dtick': 1},\n",
        "#     'yaxis': {'range': [-2, 2], 'rangemode': 'tozero', 'tickmode': \"linear\", 'tick0': -5, 'dtick': 1},\n",
        "#     'zaxis': {'range': [-2, 2], 'rangemode': 'tozero', 'tickmode': \"linear\", 'tick0': -5, 'dtick': 1},\n",
        "#     'aspectmode': 'cube'\n",
        "#     }\n",
        "# )\n",
        "fig = go.Figure(data=point_graph)\n",
        "fig.show()"
      ]
    },
    {
      "cell_type": "code",
      "execution_count": null,
      "metadata": {},
      "outputs": [],
      "source": [
        "# ! a ray can be expressed as the ray direction and ray origin\n",
        "from IPython.display import clear_output\n",
        "from skimage.transform import resize\n",
        "import time\n",
        "depth_samples_per_ray = 100\n",
        "\n",
        "threshold = 0.1\n",
        "# ! for some reason the \n",
        "clrs = []\n",
        "pts = []\n",
        "\n",
        "dec = 2\n",
        "# ! to upodate!!!\n",
        "for i in range(len(images)):\n",
        "    start = time.time()\n",
        "    # print(len(record_pts.keys()))\n",
        "    image = images[i].to(device)\n",
        "    transform = tform_cam2world[i].to(device)\n",
        "    ray_origins, ray_directions = get_ray_bundle(height, width, focal_length,\n",
        "                                               transform)\n",
        "    cleaned_grads = resize(torch.sigmoid(segmented[i].cpu()).reshape(352,352,1).numpy(),image.shape)\n",
        "    print(cleaned_grads.shape)\n",
        "    depth_map = torch.Tensor(depth[i])\n",
        "    depth_map -= torch.min(depth_map)\n",
        "    depth_map /= torch.max(depth_map)\n",
        "    relevant_pixels = 0\n",
        "    \n",
        "    ray_origin = ray_origins[0][0]\n",
        "    for x in range(cleaned_grads.shape[0]):\n",
        "        for y in range(cleaned_grads.shape[1]):\n",
        "            if sum(cleaned_grads[x][y]) > threshold:\n",
        "                relevant_pixels += 1\n",
        "                # pixel x,y is semantically important\n",
        "                # ray = query_points[x][y]\n",
        "                depth_val = 1 - depth_map[x][y]\n",
        "                \n",
        "                # ray_origin = ray_origins[0][0]\n",
        "                ray_direction = ray_directions[x][y]\n",
        "                \n",
        "                point = ray_origin + ray_direction * (2+(6-2)*depth_val)\n",
        "                # print(point)\n",
        "                # print(depth_val)\n",
        "                # # point = tuple(torch.round(point,decimals = 3).tolist())\n",
        "                # if not(point in pts):\n",
        "                pts.append(point,2)\n",
        "                clrs.append(image[x][y])\n",
        "    plt.imshow(image.cpu().numpy())\n",
        "    plt.imshow(cleaned_grads,alpha = 0.6,cmap = \"binary\")\n",
        "    plt.imshow(1/depth_map, alpha = 0.2, cmap = \"magma\")\n",
        "    plt.show()\n",
        "    print(\"Image:\",i+1)\n",
        "    print(\"Relevant Pixels:\",relevant_pixels)\n",
        "    print(\"Retrieved Points:\",len(pts))\n",
        "    # print(pts)\n",
        "    print(\"Processing Time:\",time.time()-start)\n",
        "    \n",
        "    if i % 10 == 0 and i != 0:\n",
        "        clear_output()"
      ]
    },
    {
      "cell_type": "code",
      "execution_count": null,
      "metadata": {},
      "outputs": [],
      "source": [
        "len(pts),len(clrs)"
      ]
    },
    {
      "cell_type": "code",
      "execution_count": null,
      "metadata": {},
      "outputs": [],
      "source": [
        "for point in pts:\n",
        "    if pts[point] "
      ]
    },
    {
      "cell_type": "code",
      "execution_count": null,
      "metadata": {},
      "outputs": [],
      "source": [
        "len(clrs)"
      ]
    },
    {
      "cell_type": "code",
      "execution_count": null,
      "metadata": {},
      "outputs": [],
      "source": [
        "import plotly.graph_objects as go\n",
        "import random\n",
        "    \n",
        "points = torch.stack(pts[:len(clrs)]).cpu()[:160000]\n",
        "point_graph = go.Scatter3d(\n",
        "        x=[pt[0] for pt in points],\n",
        "        y=[pt[1] for pt in points],\n",
        "        z=[pt[2] for pt in points],\n",
        "\n",
        "        mode='markers',\n",
        "\n",
        "        marker=dict(\n",
        "            color=[tuple(clrs[i].tolist()) for i in range(len(points))],\n",
        "            size = 1,\n",
        "        \n",
        "        ))\n",
        "\n",
        "cameras = go.Scatter3d(\n",
        "        x=cams[:,0],\n",
        "        y=cams[:,1],\n",
        "        z=cams[:,2],\n",
        "\n",
        "        mode='markers',\n",
        "\n",
        "        marker=dict(\n",
        "            size = 5,\n",
        "        \n",
        "        ))\n",
        "\n",
        "# # layout = go.Layout(\n",
        "# #     scene = {\n",
        "# #     'xaxis': {'range': [-2, 2], 'rangemode': 'tozero', 'tickmode': \"linear\", 'tick0': -5, 'dtick': 1},\n",
        "# #     'yaxis': {'range': [-2, 2], 'rangemode': 'tozero', 'tickmode': \"linear\", 'tick0': -5, 'dtick': 1},\n",
        "# #     'zaxis': {'range': [-2, 2], 'rangemode': 'tozero', 'tickmode': \"linear\", 'tick0': -5, 'dtick': 1},\n",
        "# #     'aspectmode': 'cube'\n",
        "# #     }\n",
        "# # )\n",
        "fig = go.Figure(data=[point_graph,cameras])\n",
        "fig.show()"
      ]
    },
    {
      "cell_type": "code",
      "execution_count": null,
      "metadata": {},
      "outputs": [],
      "source": [
        "clrs"
      ]
    },
    {
      "cell_type": "code",
      "execution_count": null,
      "metadata": {},
      "outputs": [],
      "source": [
        "pts[30000]"
      ]
    },
    {
      "attachments": {},
      "cell_type": "markdown",
      "metadata": {},
      "source": [
        "# Misc"
      ]
    },
    {
      "attachments": {},
      "cell_type": "markdown",
      "metadata": {},
      "source": [
        "## Depth Estimation"
      ]
    },
    {
      "cell_type": "code",
      "execution_count": null,
      "metadata": {},
      "outputs": [],
      "source": [
        "import cv2\n",
        "import torch\n",
        "import urllib.request\n",
        "import matplotlib.pyplot as plt\n",
        "from PIL import Image\n",
        "\n",
        "model_type = \"DPT_Large\"  \n",
        "midas = torch.hub.load(\"intel-isl/MiDaS\", model_type)\n",
        "\n",
        "device = torch.device(\"cuda\") if torch.cuda.is_available() else torch.device(\"cpu\")\n",
        "midas.to(device)\n",
        "# midas.eval()\n",
        "\n",
        "midas_transforms = torch.hub.load(\"intel-isl/MiDaS\", \"transforms\")\n",
        "\n",
        "if model_type == \"DPT_Large\" or model_type == \"DPT_Hybrid\":\n",
        "    transform = midas_transforms.dpt_transform\n",
        "else:\n",
        "    transform = midas_transforms.small_transform"
      ]
    },
    {
      "cell_type": "code",
      "execution_count": null,
      "metadata": {},
      "outputs": [],
      "source": [
        "midas_transforms.dpt_transform"
      ]
    },
    {
      "cell_type": "code",
      "execution_count": null,
      "metadata": {},
      "outputs": [],
      "source": [
        "plt.imshow(images[11])"
      ]
    },
    {
      "cell_type": "code",
      "execution_count": null,
      "metadata": {},
      "outputs": [],
      "source": [
        "images[11][0]"
      ]
    },
    {
      "cell_type": "code",
      "execution_count": null,
      "metadata": {},
      "outputs": [],
      "source": [
        "\n",
        "\n",
        "# for i, input in enumerate(inputs):\n",
        "#   dm_tmp = dir_tmp+basename(input)+'_depthmap'+path_ext(input)\n",
        "#   dm_file = output_dir+basename(input)+'_depthmap'+path_ext(input)\n",
        "#   disp_dm_file = dm_file.replace(drive_root, '')\n",
        "#   if os.path.isfile(dm_file) and skip_existing is True:\n",
        "#     op(c.warn, 'File already exists, skipping', disp_dm_file)\n",
        "#   else:\n",
        "# img = cv2.imread(input)\n",
        "# img = cv2.cvtColor(img, cv2.COLOR_BGR2RGB)\n",
        "img = images[12].numpy()*255\n",
        "input_batch = transform(img).to(device)\n",
        "with torch.no_grad():\n",
        "    prediction = midas(input_batch)\n",
        "    # prediction = torch.nn.functional.interpolate(\n",
        "    #     prediction.unsqueeze(1),\n",
        "    #     size=img.shape[:2],\n",
        "    #     mode=\"bicubic\",\n",
        "    #     align_corners=False,\n",
        "    # ).squeeze()\n",
        "\n",
        "output = prediction.cpu().numpy()"
      ]
    },
    {
      "cell_type": "code",
      "execution_count": null,
      "metadata": {},
      "outputs": [],
      "source": [
        "plt.imshow(output.reshape(384,384,1),cmap = \"binary\")\n",
        "plt.colorbar()\n",
        "plt.show()\n",
        "\n",
        "# ! given depth estimation, use inverse depth to place point"
      ]
    },
    {
      "attachments": {},
      "cell_type": "markdown",
      "metadata": {},
      "source": [
        "## Point Cloud Rendering"
      ]
    },
    {
      "cell_type": "code",
      "execution_count": null,
      "metadata": {},
      "outputs": [],
      "source": [
        "import os\n",
        "import sys\n",
        "import torch\n",
        "import pytorch3d"
      ]
    },
    {
      "cell_type": "code",
      "execution_count": null,
      "metadata": {},
      "outputs": [],
      "source": [
        "import os\n",
        "import torch\n",
        "import torch.nn.functional as F\n",
        "import matplotlib.pyplot as plt\n",
        "\n",
        "# Util function for loading point clouds|\n",
        "import numpy as np\n",
        "\n",
        "# Data structures and functions for rendering\n",
        "from pytorch3d.structures import Pointclouds\n",
        "from pytorch3d.vis.plotly_vis import AxisArgs, plot_batch_individually, plot_scene\n",
        "from pytorch3d.renderer import (\n",
        "    look_at_view_transform,\n",
        "    FoVOrthographicCameras, \n",
        "    PointsRasterizationSettings,\n",
        "    PointsRenderer,\n",
        "    PulsarPointsRenderer,\n",
        "    PointsRasterizer,\n",
        "    AlphaCompositor,\n",
        "    NormWeightedCompositor\n",
        ")"
      ]
    },
    {
      "cell_type": "code",
      "execution_count": null,
      "metadata": {},
      "outputs": [],
      "source": [
        "# Setup\n",
        "if torch.cuda.is_available():\n",
        "    device = torch.device(\"cuda:0\")\n",
        "    torch.cuda.set_device(device)\n",
        "else:\n",
        "    device = torch.device(\"cpu\")\n",
        "\n",
        "# Set paths\n",
        "DATA_DIR = \"./data\"\n",
        "\n",
        "# Load point cloud\n",
        "# pointcloud = np.load(obj_filename)\n",
        "# verts = torch.Tensor(pointcloud['verts']).to(device)\n",
        "        \n",
        "# rgb = torch.Tensor(pointcloud['rgb']).to(device)\n",
        "\n",
        "point_cloud = Pointclouds(points=[torch.Tensor(real_pts)],features=[torch.stack(clrs)])"
      ]
    },
    {
      "cell_type": "code",
      "execution_count": null,
      "metadata": {},
      "outputs": [],
      "source": [
        "from pytorch3d.renderer import OrthographicCameras\n",
        "def interpret_blender_cameras(\n",
        "    poses, focal):\n",
        "    \"\"\"\n",
        "    Convert 4x4 matrices representing cameras in blender format\n",
        "    to PyTorch3D format.\n",
        "\n",
        "    Args:\n",
        "        poses: N x 3 x 4 camera matrices\n",
        "        focal: ndc space focal length\n",
        "    \"\"\"\n",
        "    pose_target_cameras = []\n",
        "    for pose_target in poses:\n",
        "        pose_target = pose_target[:3, :4]\n",
        "        mtx = torch.eye(4, dtype=pose_target.dtype)\n",
        "        mtx[:3, :3] = pose_target[:3, :3].t()\n",
        "        mtx[3, :3] = pose_target[:, 3]\n",
        "        mtx = mtx.inverse()\n",
        "\n",
        "        # flip the XZ coordinates.\n",
        "        mtx[:, [0, 2]] *= -1.0\n",
        "\n",
        "        Rpt3, Tpt3 = mtx[:, :3].split([3, 1], dim=0)\n",
        "\n",
        "        focal_length_pt3 = torch.FloatTensor([[focal, focal]])\n",
        "        principal_point_pt3 = torch.FloatTensor([[0.0, 0.0]])\n",
        "\n",
        "        cameras = OrthographicCameras(\n",
        "            focal_length=focal_length_pt3,\n",
        "            principal_point=principal_point_pt3,\n",
        "            R=Rpt3[None],\n",
        "            T=Tpt3\n",
        "        )\n",
        "        pose_target_cameras.append(cameras)\n",
        "    return pose_target_cameras\n",
        "\n",
        "focal_ndc = 2 * focal_length / min(100, 100)\n",
        "\n",
        "cams = interpret_blender_cameras(tform_cam2world[0].unsqueeze(0),focal_ndc)"
      ]
    },
    {
      "cell_type": "code",
      "execution_count": null,
      "metadata": {},
      "outputs": [],
      "source": [
        "cams[0].R"
      ]
    },
    {
      "cell_type": "code",
      "execution_count": null,
      "metadata": {},
      "outputs": [],
      "source": [
        "# Initialize a camera.\n",
        "num = random.randint(1,100)\n",
        "cams = interpret_blender_cameras(tform_cam2world[num].unsqueeze(0),focal_ndc)\n",
        "cameras = cams[0]\n",
        "\n",
        "# Define the settings for rasterization and shading. Here we set the output image to be of size\n",
        "# 512x512. As we are rendering images for visualization purposes only we will set faces_per_pixel=1\n",
        "# and blur_radius=0.0. Refer to raster_points.py for explanations of these parameters. \n",
        "raster_settings = PointsRasterizationSettings(\n",
        "    image_size=100, \n",
        "    radius = 0.01,\n",
        "    points_per_pixel = 10\n",
        "    \n",
        ")\n",
        "\n",
        "\n",
        "# Create a points renderer by compositing points using an alpha compositor (nearer points\n",
        "# are weighted more heavily). See [1] for an explanation.\n",
        "rasterizer = PointsRasterizer(cameras=cameras, raster_settings=raster_settings)\n",
        "# rasterizer = PointsRasterizer(cameras=cameras)\n",
        "renderer = PointsRenderer(\n",
        "    rasterizer=rasterizer,\n",
        "    compositor=AlphaCompositor()\n",
        ")\n",
        "\n",
        "imgs = renderer(point_cloud)\n",
        "f, ax = plt.subplots(1,2)\n",
        "ax[0].imshow(imgs[0, ..., :3].cpu().numpy())\n",
        "ax[1].imshow(images[num])\n",
        "plt.axis(\"off\");"
      ]
    },
    {
      "cell_type": "code",
      "execution_count": null,
      "metadata": {},
      "outputs": [],
      "source": [
        "renderer = PulsarPointsRenderer(\n",
        "    rasterizer=PointsRasterizer(cameras=cameras, raster_settings=raster_settings),\n",
        "    n_channels=4\n",
        ").to(device)\n",
        "\n",
        "images = renderer(point_cloud, gamma=(1e-4,),\n",
        "                  bg_col=torch.tensor([0.0, 1.0, 0.0, 1.0], dtype=torch.float32, device=device))\n",
        "plt.figure(figsize=(10, 10))\n",
        "plt.imshow(images[0, ..., :3].cpu().numpy())\n",
        "plt.axis(\"off\");"
      ]
    },
    {
      "cell_type": "code",
      "execution_count": null,
      "metadata": {},
      "outputs": [],
      "source": [
        "imgs[0].shape"
      ]
    },
    {
      "cell_type": "code",
      "execution_count": null,
      "metadata": {},
      "outputs": [],
      "source": [
        "raster_settings"
      ]
    },
    {
      "cell_type": "code",
      "execution_count": null,
      "metadata": {},
      "outputs": [],
      "source": [
        "rendered = []\n",
        "\n",
        "for i in range(len(images)):\n",
        "    cams = interpret_blender_cameras(tform_cam2world[i].unsqueeze(0),focal_ndc)[0]\n",
        "    \n",
        "    rasterizer = PointsRasterizer(cameras=cams, raster_settings=raster_settings)\n",
        "    renderer = PointsRenderer(\n",
        "        rasterizer=rasterizer,\n",
        "        compositor=AlphaCompositor()\n",
        "    )\n",
        "    img = renderer(point_cloud)[0]\n",
        "    rendered.append(img.numpy())\n",
        "    print(\"Rendered Image:\",i)\n",
        "# imgs"
      ]
    },
    {
      "attachments": {},
      "cell_type": "markdown",
      "metadata": {},
      "source": [
        "## Keras Model"
      ]
    },
    {
      "cell_type": "code",
      "execution_count": null,
      "metadata": {},
      "outputs": [],
      "source": [
        "from keras.layers import Input,Dense,Conv2D,Conv2DTranspose,MaxPool2D\n",
        "from keras import Model\n",
        "import tensorflow as tf\n",
        "\n",
        "input_layer = Input((100,100,3))\n",
        "x = Conv2D(64,2,strides = 2, activation = \"relu\")(input_layer)\n",
        "# x = MaxPool2D(2,2)(x)\n",
        "x = Conv2D(64,2,strides = 2, activation = \"relu\")(x)\n",
        "\n",
        "x = Conv2DTranspose(64,2,strides = 2, activation = \"relu\")(x)\n",
        "x = Conv2DTranspose(3,2,strides = 2, activation = \"relu\")(x)\n",
        "# x.shape"
      ]
    },
    {
      "cell_type": "code",
      "execution_count": null,
      "metadata": {},
      "outputs": [],
      "source": [
        "from keras.layers import Input,Dense,Conv2D,Conv2DTranspose,MaxPool2D,Flatten,Reshape\n",
        "from keras import Model\n",
        "\n",
        "input_layer = Input((100,100,3))\n",
        "x = Flatten()(input_layer)\n",
        "x = Dense(32)(x)\n",
        "x = Dense(64)(x)\n",
        "x = Dense(128)(x)\n",
        "x = Dense(30000)(x)\n",
        "x = Reshape((100,100,3))(x)"
      ]
    },
    {
      "cell_type": "code",
      "execution_count": null,
      "metadata": {},
      "outputs": [],
      "source": [
        "from keras.layers import Input,Dense,Conv2D,Conv2DTranspose,MaxPool2D\n",
        "from keras import Model\n",
        "import tensorflow as tf\n",
        "\n",
        "# input_layer = Input((100,100,3))\n",
        "# x = Conv2D(64,2,strides = 2, activation = \"relu\")(input_layer)\n",
        "# # x = MaxPool2D(2,2)(x)\n",
        "# x = Conv2D(64,2,strides = 2, activation = \"relu\")(x)\n",
        "\n",
        "# x = Conv2DTranspose(64,3,strides = 2, activation = \"relu\")(x)\n",
        "# x = Conv2DTranspose(64,3,strides = 2, activation = \"relu\")(x)\n",
        "# x = Conv2DTranspose(64,2,strides = 2, activation = \"relu\")(x)\n",
        "# x = Conv2D(3,3)(x)\n",
        "\n",
        "model = Model(input_layer,x)\n",
        "\n",
        "model(np.random.randn(1,100,100,3))\n",
        "model.compile(optimizer = \"adam\",loss = \"mse\")\n",
        "\n",
        "\n",
        "model.fit(np.array(rendered),images.numpy(),epochs = 100)"
      ]
    },
    {
      "cell_type": "code",
      "execution_count": null,
      "metadata": {},
      "outputs": [],
      "source": [
        "pred = model(rendered[30].reshape(1,100,100,3))[0]\n",
        "plt.imshow(pred)"
      ]
    },
    {
      "cell_type": "code",
      "execution_count": null,
      "metadata": {},
      "outputs": [],
      "source": [
        "tform_cam2world[i+1]"
      ]
    },
    {
      "cell_type": "code",
      "execution_count": null,
      "metadata": {},
      "outputs": [],
      "source": [
        "\n",
        "R, T = look_at_view_transform(100, 30, 40)\n",
        "cams = FoVOrthographicCameras(device=device, R=R, T=T, znear=0.01)\n",
        "\n",
        "    \n",
        "rasterizer = PointsRasterizer(cameras=cams, raster_settings=raster_settings)\n",
        "renderer = PointsRenderer(\n",
        "    rasterizer=rasterizer,\n",
        "    compositor=AlphaCompositor()\n",
        ")\n",
        "img = np.array(renderer(point_cloud)[0])\n",
        "pred = model(img.reshape(1,100,100,3))[0]\n",
        "plt.imshow(pred)\n",
        "plt.imshow(img,alpha = 0.4)"
      ]
    },
    {
      "cell_type": "code",
      "execution_count": null,
      "metadata": {},
      "outputs": [],
      "source": [
        "plt.imshow(img)"
      ]
    },
    {
      "attachments": {},
      "cell_type": "markdown",
      "metadata": {},
      "source": [
        "## Pytorch Model"
      ]
    },
    {
      "cell_type": "code",
      "execution_count": null,
      "metadata": {},
      "outputs": [],
      "source": [
        "import time \n",
        "num_iters = 100\n",
        "\n",
        "# model = ConvAutoencoder()\n",
        "optimizer = torch.optim.Adam(model.parameters())\n",
        "\n",
        "loss_fn = torch.nn.MSELoss()\n",
        "losses = []\n",
        "\n",
        "for x in range(num_iters):\n",
        "    iter_loss = 0\n",
        "    for i in range(len(images)):\n",
        "        label = images[i]\n",
        "        render = rendered[i].reshape(3,100,100)\n",
        "        # print(render.shape)\n",
        "        \n",
        "        optimizer.zero_grad()\n",
        "        \n",
        "        pred = model.forward(render).reshape(100,100,3)\n",
        "        \n",
        "        loss = loss_fn(pred,label)\n",
        "        loss.backward()\n",
        "        \n",
        "        optimizer.step()\n",
        "        iter_loss += loss.item()\n",
        "    print(\"Iteration:\",x)\n",
        "    losses.append(iter_loss/len(images))"
      ]
    },
    {
      "cell_type": "code",
      "execution_count": null,
      "metadata": {},
      "outputs": [],
      "source": [
        "plt.imshow(pred.detach().numpy())"
      ]
    },
    {
      "cell_type": "code",
      "execution_count": null,
      "metadata": {},
      "outputs": [],
      "source": [
        "num = random.randint(1,100)\n",
        "plt.imshow(images[num])\n",
        "plt.imshow(rendered[num],alpha=0.8)"
      ]
    },
    {
      "attachments": {},
      "cell_type": "markdown",
      "metadata": {},
      "source": [
        "## Using the Point Cloud"
      ]
    },
    {
      "attachments": {},
      "cell_type": "markdown",
      "metadata": {},
      "source": [
        "use the point cloud to prime the nerf model\n",
        "- model should also have the importance values as a fifth value? or just as the density value\n",
        "- fifth value may be more relevant as then can plot heatmap of more important points\n",
        "- try to code the average colour value and set the importance to initial\n",
        "- set the points on the ray apart from these points as being low density"
      ]
    },
    {
      "cell_type": "code",
      "execution_count": null,
      "metadata": {},
      "outputs": [],
      "source": [
        "\n",
        "# Number of functions used in the positional encoding (Be sure to update the \n",
        "# model if this number changes).\n",
        "num_encoding_functions = 6\n",
        "# Specify encoding function.\n",
        "encode = lambda x: positional_encoding(x, num_encoding_functions=num_encoding_functions)\n",
        "# Number of depth samples along each ray.\n",
        "depth_samples_per_ray = 32\n",
        "\n",
        "# Chunksize (Note: this isn't batchsize in the conventional sense. This only\n",
        "# specifies the number of rays to be queried in one go. Backprop still happens\n",
        "# only after all rays from the current \"bundle\" are queried and rendered).\n",
        "chunksize = 16384  # Use chunksize of about 4096 to fit in ~1.4 GB of GPU memory.\n",
        "\n",
        "# Optimizer parameters\n",
        "lr = 5e-3\n",
        "num_iters = 1000\n",
        "\n",
        "# Misc parameters\n",
        "display_every = 100  # Number of iters after which stats are displayed"
      ]
    },
    {
      "cell_type": "code",
      "execution_count": null,
      "metadata": {},
      "outputs": [],
      "source": [
        "from torch import nn\n",
        "\n",
        "def zero(layer):\n",
        "    nn.init.zeros_(layer.weight)\n",
        "    nn.init.zeros_(layer.bias)\n",
        "class VeryTinyNerfModel(torch.nn.Module):\n",
        "    r\"\"\"Define a \"very tiny\" NeRF model comprising three fully connected layers.\n",
        "    \"\"\"\n",
        "    def __init__(self, filter_size=256, num_encoding_functions=6):\n",
        "        super(VeryTinyNerfModel, self).__init__()\n",
        "        # Input layer (default: 39 -> 128)\n",
        "        self.layer1 = torch.nn.Linear(3 + 3 * 2 * num_encoding_functions, filter_size)\n",
        "        \n",
        "        # Layer 2 (default: 128 -> 128)\n",
        "        self.layer2 = torch.nn.Linear(filter_size, filter_size)\n",
        "        # nn.init.constant_(self.layer2.weight,0)\n",
        "        # Layer 3 (default: 128 -> 4)\n",
        "        self.layer3 = torch.nn.Linear(filter_size, 4)\n",
        "        # nn.init.constant_(self.layer3.weight,0)\n",
        "        # Short hand for torch.nn.functional.relu\n",
        "        self.relu = torch.nn.functional.relu\n",
        "\n",
        "    def forward(self, x):\n",
        "        x = self.relu(self.layer1(x))\n",
        "        x = self.relu(self.layer2(x))\n",
        "        x = self.layer3(x)\n",
        "        return x\n",
        "    \n",
        "    def zero_params(self):\n",
        "        zero(self.layer1)\n",
        "        zero(self.layer2)\n",
        "        zero(self.layer3)\n",
        "\n"
      ]
    },
    {
      "cell_type": "code",
      "execution_count": null,
      "metadata": {},
      "outputs": [],
      "source": [
        "model = VeryTinyNerfModel(num_encoding_functions=6)\n",
        "model.to(device)\n",
        "# model.zero_params()\n",
        "\n",
        "\n",
        "pts = torch.rand(10,3)\n",
        "encoded_points = encode(torch.Tensor(pts))\n",
        "\n",
        "model.forward(encoded_points).shape"
      ]
    },
    {
      "cell_type": "code",
      "execution_count": null,
      "metadata": {},
      "outputs": [],
      "source": [
        "from torch import nn \n",
        "losses = []\n",
        "iters = 200\n",
        "\n",
        "# num_empty = 100000\n",
        "# empty_pts = [empty[i] for i in range(num_empty)]\n",
        "# model = VeryTinyNerfModel(num_encoding_functions=num_encoding_functions)\n",
        "# model.to(device)\n",
        "optimizer = torch.optim.Adam(model.parameters(), lr=lr)\n",
        "# clrs = [val.tolist() for val in clrs] if type(clrs[0]) == torch.Tensor else clrs\n",
        "\n",
        "# # y_true = [clrs[i]+[1] for i in range(len(real_pts))] + [[0,0,0,0] for i in range(num_empty)]\n",
        "# real_clrs = [clrs[i] for i in range(len(real_pts))]\n",
        "# rgb = torch.tensor(real_clrs).to(torch.float32)\n",
        "pt = torch.tensor([0,0,0])\n",
        "print(\"prep\")\n",
        "for n in range(100):\n",
        "    # real_pts = torch.Tensor(real_pts)\n",
        "    # encoded_points = encode(torch.Tensor(real_pts+empty_pts))\n",
        "    encoded_points = encode(torch.Tensor(pt))\n",
        "    \n",
        "    y_hat = model(encoded_points).to(torch.float32)\n",
        "    rgb_pred = torch.sigmoid(y_hat[..., :3])\n",
        "    \n",
        "    loss = nn.MSELoss()\n",
        "    \n",
        "    rgb_loss = loss(rgb_pred,torch.tensor([1.0]))\n",
        "    density_loss = loss(y_hat[..., -1], torch.ones(1))\n",
        "    \n",
        "    err = rgb_loss + density_loss\n",
        "    losses.append(err.item())\n",
        "    err.backward()\n",
        "    optimizer.step()\n",
        "    optimizer.zero_grad()\n",
        "    print(\"Iteration {}:\".format(n))\n",
        "    print(\" RGB loss:{}\".format(rgb_loss.item()))\n",
        "    print(\" density loss:{}\".format(density_loss.item()))\n",
        "    if n % 10 == 0:\n",
        "        clear_output()\n",
        "\n",
        "# batches = get_minibatches(encoded_points, chunksize=chunksize)\n",
        "\n",
        "# y_hat = []\n",
        "# for batch in batches:\n",
        "#     y_hat.append(model(batch))\n",
        "# y_hat = torch.Tensor(y_hat)\n",
        "plt.plot(losses)"
      ]
    },
    {
      "cell_type": "code",
      "execution_count": null,
      "metadata": {},
      "outputs": [],
      "source": [
        "target_img_idx = np.random.randint(images.shape[0])\n",
        "target_img = images[target_img_idx].to(device)\n",
        "target_tform_cam2world = tform_cam2world[target_img_idx].to(device)\n",
        "\n",
        "# Run one iteration of TinyNeRF and get the rendered RGB image.\n",
        "rgb_predicted = run_one_iter_of_tinynerf(height, width, focal_length,\n",
        "                                        target_tform_cam2world, near_thresh,\n",
        "                                        far_thresh, depth_samples_per_ray,\n",
        "                                        encode, get_minibatches)\n",
        "\n",
        "plt.imshow(rgb_predicted.detach().numpy())"
      ]
    },
    {
      "cell_type": "code",
      "execution_count": null,
      "metadata": {},
      "outputs": [],
      "source": [
        "real_clrs = [clrs[i] for i in range(len(record_pts))]\n",
        "rgb = torch.stack(real_clrs)\n",
        "print(rgb.shape)\n",
        "encoded_points = encode(torch.Tensor(record_pts))\n",
        "print(encoded_points.shape)\n",
        "    \n",
        "y_hat = model(encoded_points)\n",
        "rgb_pred = torch.sigmoid(y_hat[..., :3])\n",
        "\n",
        "loss = nn.MSELoss()\n",
        "\n",
        "rgb_loss = loss(rgb_pred,rgb)\n",
        "density_loss = loss(y_hat[..., -1], torch.ones(len(record_pts)))\n",
        "\n",
        "err = rgb_loss + density_loss\n",
        "err"
      ]
    },
    {
      "cell_type": "code",
      "execution_count": null,
      "metadata": {},
      "outputs": [],
      "source": [
        "rgb,rgb_pred"
      ]
    },
    {
      "cell_type": "code",
      "execution_count": null,
      "metadata": {},
      "outputs": [],
      "source": [
        "rgb_pred,rgb"
      ]
    },
    {
      "cell_type": "code",
      "execution_count": null,
      "metadata": {},
      "outputs": [],
      "source": [
        "from torch import nn \n",
        "losses = []\n",
        "iters = 200\n",
        "\n",
        "# num_empty = 100000\n",
        "# empty_pts = [empty[i] for i in range(num_empty)]\n",
        "# model = VeryTinyNerfModel(num_encoding_functions=num_encoding_functions)\n",
        "# model.to(device)\n",
        "optimizer = torch.optim.Adam(model.parameters(), lr=lr)\n",
        "clrs = [val.tolist() for val in clrs] if type(clrs[0]) == torch.Tensor else clrs\n",
        "\n",
        "# y_true = [clrs[i]+[1] for i in range(len(real_pts))] + [[0,0,0,0] for i in range(num_empty)]\n",
        "real_clrs = [clrs[i] for i in range(len(record_pts))]\n",
        "rgb = torch.tensor(real_clrs).to(torch.float32)\n",
        "print(\"prep\")\n",
        "for n in range(iters):\n",
        "    # real_pts = torch.Tensor(real_pts)\n",
        "    # encoded_points = encode(torch.Tensor(real_pts+empty_pts))\n",
        "    encoded_points = encode(torch.Tensor(record_pts))\n",
        "    \n",
        "    y_hat = model(encoded_points).to(torch.float32)\n",
        "    rgb_pred = torch.sigmoid(y_hat[..., :3])\n",
        "    \n",
        "    loss = nn.MSELoss()\n",
        "    \n",
        "    rgb_loss = loss(rgb_pred,rgb)\n",
        "    density_loss = loss(y_hat[..., -1], torch.ones(len(record_pts)))\n",
        "    \n",
        "    err = rgb_loss + density_loss\n",
        "    losses.append(err.item())\n",
        "    err.backward()\n",
        "    optimizer.step()\n",
        "    optimizer.zero_grad()\n",
        "    print(\"Iteration {}:\".format(n))\n",
        "    print(\" RGB loss:{}\".format(rgb_loss.item()))\n",
        "    print(\" density loss:{}\".format(density_loss.item()))\n",
        "    if n % 10 == 0:\n",
        "        clear_output()\n",
        "\n",
        "# batches = get_minibatches(encoded_points, chunksize=chunksize)\n",
        "\n",
        "# y_hat = []\n",
        "# for batch in batches:\n",
        "#     y_hat.append(model(batch))\n",
        "# y_hat = torch.Tensor(y_hat)\n",
        "plt.plot(losses)"
      ]
    },
    {
      "cell_type": "code",
      "execution_count": null,
      "metadata": {},
      "outputs": [],
      "source": [
        "y_hat"
      ]
    },
    {
      "cell_type": "code",
      "execution_count": null,
      "metadata": {},
      "outputs": [],
      "source": [
        "y_true"
      ]
    },
    {
      "cell_type": "code",
      "execution_count": null,
      "metadata": {},
      "outputs": [],
      "source": [
        "target_img_idx = np.random.randint(images.shape[0])\n",
        "target_img = images[target_img_idx].to(device)\n",
        "target_tform_cam2world = tform_cam2world[target_img_idx].to(device)\n",
        "\n",
        "# Run one iteration of TinyNeRF and get the rendered RGB image.\n",
        "rgb_predicted = run_one_iter_of_tinynerf(height, width, focal_length,\n",
        "                                        target_tform_cam2world, near_thresh,\n",
        "                                        far_thresh, depth_samples_per_ray,\n",
        "                                        encode, get_minibatches)\n",
        "\n",
        "plt.imshow(rgb_predicted.detach().numpy())"
      ]
    },
    {
      "cell_type": "code",
      "execution_count": null,
      "metadata": {},
      "outputs": [],
      "source": [
        "# Lists to log metrics etc.\n",
        "psnrs = []\n",
        "iternums = []\n",
        "optimizer = torch.optim.Adam(model.parameters(), lr=lr)\n",
        "num_iters = 100\n",
        "display_every = 2\n",
        "for i in range(num_iters):\n",
        "  print(i)\n",
        "\n",
        "  # Randomly pick an image as the target.\n",
        "  target_img_idx = np.random.randint(images.shape[0])\n",
        "  target_img = images[target_img_idx].to(device)\n",
        "  target_tform_cam2world = tform_cam2world[target_img_idx].to(device)\n",
        "\n",
        "  # Run one iteration of TinyNeRF and get the rendered RGB image.\n",
        "  rgb_predicted = run_one_iter_of_tinynerf(height, width, focal_length,\n",
        "                                           target_tform_cam2world, near_thresh,\n",
        "                                           far_thresh, depth_samples_per_ray,\n",
        "                                           encode, get_minibatches)\n",
        "\n",
        "  # Compute mean-squared error between the predicted and target images. Backprop!\n",
        "  loss = torch.nn.functional.mse_loss(rgb_predicted, target_img)\n",
        "  loss.backward()\n",
        "  optimizer.step()\n",
        "  optimizer.zero_grad()\n",
        "\n",
        "  # Display images/plots/stats\n",
        "  if i % display_every == 0:\n",
        "    # Render the held-out view\n",
        "    rgb_predicted = run_one_iter_of_tinynerf(height, width, focal_length,\n",
        "                                             testpose, near_thresh,\n",
        "                                             far_thresh, depth_samples_per_ray,\n",
        "                                             encode, get_minibatches)\n",
        "    loss = torch.nn.functional.mse_loss(rgb_predicted, target_img)\n",
        "    print(\"Loss:\", loss.item())\n",
        "    psnr = -10. * torch.log10(loss)\n",
        "    \n",
        "    psnrs.append(psnr.item())\n",
        "    iternums.append(i)\n",
        "\n",
        "    plt.figure(figsize=(10, 4))\n",
        "    plt.subplot(121)\n",
        "    plt.imshow(rgb_predicted.detach().cpu().numpy())\n",
        "    plt.title(f\"Iteration {i}\")\n",
        "    plt.subplot(122)\n",
        "    plt.plot(iternums, psnrs)\n",
        "    plt.title(\"PSNR\")\n",
        "    plt.show()\n",
        "\n",
        "print('Done!')"
      ]
    },
    {
      "cell_type": "code",
      "execution_count": null,
      "metadata": {},
      "outputs": [],
      "source": [
        "# find closest point for two given rays.\n",
        "# most likely to be the point of intersection (i.e point of reality)\n",
        "# increase density of that point and points around it,\n",
        "\n",
        "# seems more effective, maybe just add points from rays and then calculate later\n",
        "# its simply not worth it to redo all teh calculations one by one\n",
        "from numpy import array, cross\n",
        "from numpy.linalg import solve, norm\n",
        "\n",
        "def closest_point(ray_1,ray_2,clampAll=False,clampA0=False,clampA1=False,clampB0=False,clampB1=False):\n",
        "\n",
        "    ''' Given two lines defined by numpy.array pairs (a0,a1,b0,b1)\n",
        "        Return the closest points on each segment and their distance\n",
        "    '''\n",
        "\n",
        "    o_1,d_1 = ray_1\n",
        "    o_2,d_2 = ray_2\n",
        "    \n",
        "    o_1,d_1 = np.array(o_1),np.array(d_1)\n",
        "    o_2,d_2 = np.array(o_2),np.array(d_2)\n",
        "    \n",
        "    a0 = o_1\n",
        "    a1 = o_1+d_1\n",
        "    \n",
        "    b0 = o_2\n",
        "    b1 = o_2+d_2\n",
        "    # If clampAll=True, set all clamps to True\n",
        "    if clampAll:\n",
        "        clampA0=True\n",
        "        clampA1=True\n",
        "        clampB0=True\n",
        "        clampB1=True\n",
        "\n",
        "\n",
        "    # Calculate denomitator\n",
        "    A = a1 - a0\n",
        "    B = b1 - b0\n",
        "    magA = np.linalg.norm(A)\n",
        "    magB = np.linalg.norm(B)\n",
        "    \n",
        "    _A = A / magA\n",
        "    _B = B / magB\n",
        "    \n",
        "    cross = np.cross(_A, _B);\n",
        "    denom = np.linalg.norm(cross)**2\n",
        "    \n",
        "    \n",
        "    # If lines are parallel (denom=0) test if lines overlap.\n",
        "    # If they don't overlap then there is a closest point solution.\n",
        "    # If they do overlap, there are infinite closest positions, but there is a closest distance\n",
        "    if not denom:\n",
        "        d0 = np.dot(_A,(b0-a0))\n",
        "        \n",
        "        # Overlap only possible with clamping\n",
        "        if clampA0 or clampA1 or clampB0 or clampB1:\n",
        "            d1 = np.dot(_A,(b1-a0))\n",
        "            \n",
        "            # Is segment B before A?\n",
        "            if d0 <= 0 >= d1:\n",
        "                if clampA0 and clampB1:\n",
        "                    if np.absolute(d0) < np.absolute(d1):\n",
        "                        midpoint = (a0+b0)/2\n",
        "                        return midpoint,abs(np.linalg.norm(midpoint- (o_1 + d_1 * midpoint[0])))+abs(np.linalg.norm(midpoint- (o_2 + d_2 * midpoint[0])))\n",
        "                    midpoint = (a0+b1)/2\n",
        "                    return midpoint,abs(np.linalg.norm(midpoint- (o_1 + d_1 * midpoint[0])))+abs(np.linalg.norm(midpoint- (o_2 + d_2 * midpoint[0])))\n",
        "                \n",
        "                \n",
        "            # Is segment B after A?\n",
        "            elif d0 >= magA <= d1:\n",
        "                if clampA1 and clampB0:\n",
        "                    if np.absolute(d0) < np.absolute(d1):\n",
        "                        midpoint = (a1+b0)/2\n",
        "                        return midpoint,abs(np.linalg.norm(midpoint- (o_1 + d_1 * midpoint[0])))+abs(np.linalg.norm(midpoint- (o_2 + d_2 * midpoint[0])))\n",
        "                    midpoint = (a1+b1)/2\n",
        "                    return (a1+b1)/2,abs(np.linalg.norm(midpoint- (o_1 + d_1 * midpoint[0])))+abs(np.linalg.norm(midpoint- (o_2 + d_2 * midpoint[0])))\n",
        "                \n",
        "                \n",
        "        # Segments overlap, return distance between parallel segments\n",
        "        return None,0\n",
        "        \n",
        "    \n",
        "    \n",
        "    # Lines criss-cross: Calculate the projected closest points\n",
        "    t = (b0 - a0);\n",
        "    detA = np.linalg.det([t, _B, cross])\n",
        "    detB = np.linalg.det([t, _A, cross])\n",
        "\n",
        "    t0 = detA/denom;\n",
        "    t1 = detB/denom;\n",
        "\n",
        "    pA = a0 + (_A * t0) # Projected closest point on segment A\n",
        "    pB = b0 + (_B * t1) # Projected closest point on segment B\n",
        "\n",
        "\n",
        "    # Clamp projections\n",
        "    if clampA0 or clampA1 or clampB0 or clampB1:\n",
        "        if clampA0 and t0 < 0:\n",
        "            pA = a0\n",
        "        elif clampA1 and t0 > magA:\n",
        "            pA = a1\n",
        "        \n",
        "        if clampB0 and t1 < 0:\n",
        "            pB = b0\n",
        "        elif clampB1 and t1 > magB:\n",
        "            pB = b1\n",
        "            \n",
        "        # Clamp projection A\n",
        "        if (clampA0 and t0 < 0) or (clampA1 and t0 > magA):\n",
        "            dot = np.dot(_B,(pA-b0))\n",
        "            if clampB0 and dot < 0:\n",
        "                dot = 0\n",
        "            elif clampB1 and dot > magB:\n",
        "                dot = magB\n",
        "            pB = b0 + (_B * dot)\n",
        "    \n",
        "        # Clamp projection B\n",
        "        if (clampB0 and t1 < 0) or (clampB1 and t1 > magB):\n",
        "            dot = np.dot(_A,(pB-a0))\n",
        "            if clampA0 and dot < 0:\n",
        "                dot = 0\n",
        "            elif clampA1 and dot > magA:\n",
        "                dot = magA\n",
        "            pA = a0 + (_A * dot)\n",
        "\n",
        "    midpoint = (pA+pB)/2\n",
        "    return midpoint,abs(np.linalg.norm(midpoint- (o_1 + d_1 * midpoint[0])))+abs(np.linalg.norm(midpoint- (o_2 + d_2 * midpoint[0])))\n",
        "\n",
        "def get_ray(origin,direction,num_pts=10):\n",
        "    origin = np.array(origin)\n",
        "    direction = np.array(direction)\n",
        "    pts = ray_origins[x]\n",
        "    # Data for a three-dimensional line\n",
        "    pts = [origin+direction*i for i in range(num_pts)]\n",
        "    xdata = [pt[0] for pt in pts]\n",
        "    ydata =  [pt[1] for pt in pts]\n",
        "    zdata = [pt[2] for pt in pts]\n",
        "    return xdata,ydata,zdata"
      ]
    },
    {
      "cell_type": "code",
      "execution_count": null,
      "metadata": {},
      "outputs": [],
      "source": [
        "import random\n",
        "import csv\n",
        "diff = 0.3\n",
        "num_stochastic = 10\n",
        "real_pts = []\n",
        "importances = []\n",
        "real_clrs = []\n",
        "\n",
        "xs = []\n",
        "ys = []\n",
        "zs = []\n",
        "\n",
        "for img_1 in range(len(important_rays)):\n",
        "    print(\"On Image\",img_1)\n",
        "    with open('xs.csv', 'w') as f:\n",
        "        write = csv.writer(f)\n",
        "        write.writerow(xs)\n",
        "    with open('ys.csv', 'w') as f:\n",
        "        write = csv.writer(f)\n",
        "        write.writerow(ys)\n",
        "    with open('zs.csv', 'w') as f:\n",
        "        write = csv.writer(f)\n",
        "        write.writerow(zs)\n",
        "    for idx_1 in range(len(important_rays[img_1])):\n",
        "        ray_1 = important_rays[img_1][idx_1]\n",
        "        for img_2 in range(len(important_rays)):\n",
        "            x = None\n",
        "            y= None\n",
        "            z= None\n",
        "            colours = None\n",
        "            for idx_2 in range(num_stochastic):\n",
        "                if important_rays[img_2]:\n",
        "                    idx_2 = random.randint(0,len(important_rays[img_2])-1)\n",
        "                    ray_2 = important_rays[img_2][idx_2]\n",
        "                    color_diff = abs(sum(point_colors[img_1][idx_1]-point_colors[img_2][idx_2]))\n",
        "                    if color_diff > diff or 0 in point_colors[img_2][idx_2] or 0 in point_colors[img_1][idx_1]:\n",
        "                        pass\n",
        "                    else:\n",
        "                        intersection_point,distance = closest_point(ray_1,ray_2)\n",
        "                        #print(distance)\n",
        "                        if type(intersection_point) != type(None) and not intersection_point.tolist() in real_pts and distance < 0.5:\n",
        "                            x = intersection_point[0]\n",
        "                            y = intersection_point[1]\n",
        "                            z = intersection_point[2]\n",
        "                            colours = [point_colors[img_1][idx_1],point_colors[img_2][idx_2]]\n",
        "            if x:\n",
        "                xs.append(x)\n",
        "                ys.append(y)\n",
        "                zs.append(z)\n",
        "                real_clrs.append(colours)\n",
        "                break\n",
        "            print(img_1,idx_1,img_2,idx_2,len(real_clrs))\n",
        "            if img_2 % 100 == 0:\n",
        "                clear_output()"
      ]
    },
    {
      "cell_type": "code",
      "execution_count": null,
      "metadata": {},
      "outputs": [],
      "source": [
        "import plotly.graph_objects as go\n",
        "import random\n",
        "\n",
        "point_graph = go.Scatter3d(\n",
        "        x=xs,\n",
        "        y=ys,\n",
        "        z=zs,\n",
        "\n",
        "        mode='markers',\n",
        "\n",
        "        marker=dict(\n",
        "            # color=['rgb{}'.format(tuple(clr*255)) for clr in real_clrs],\n",
        "            color=['rgb{}'.format(tuple(torch.round(((clr[0]+clr[1])/2*255)).tolist())) for clr in real_clrs],\n",
        "            opacity=0.3,\n",
        "        ))\n",
        "\n",
        "layout = go.Layout(\n",
        "    scene = {\n",
        "    'xaxis': {'range': [-5, 5], 'rangemode': 'tozero', 'tickmode': \"linear\", 'tick0': -5, 'dtick': 1},\n",
        "    'yaxis': {'range': [-5, 5], 'rangemode': 'tozero', 'tickmode': \"linear\", 'tick0': -5, 'dtick': 1},\n",
        "    'zaxis': {'range': [-5, 5], 'rangemode': 'tozero', 'tickmode': \"linear\", 'tick0': -5, 'dtick': 1},\n",
        "    'aspectmode': 'cube'\n",
        "    }\n",
        ")\n",
        "fig = go.Figure(data=point_graph,layout = layout)\n",
        "fig.show()"
      ]
    },
    {
      "cell_type": "code",
      "execution_count": null,
      "metadata": {},
      "outputs": [],
      "source": [
        "print(\"hello\")"
      ]
    },
    {
      "cell_type": "code",
      "execution_count": null,
      "metadata": {},
      "outputs": [],
      "source": [
        "clr = real_clrs[0]\n",
        "torch.round(((clr[0]+clr[1])/2*255)).tolist()"
      ]
    },
    {
      "cell_type": "code",
      "execution_count": null,
      "metadata": {},
      "outputs": [],
      "source": []
    }
  ],
  "metadata": {
    "accelerator": "GPU",
    "colab": {
      "name": "tiny_nerf_pytorch",
      "provenance": []
    },
    "kernelspec": {
      "display_name": "Python 3.9.12 ('base')",
      "language": "python",
      "name": "python3"
    },
    "language_info": {
      "codemirror_mode": {
        "name": "ipython",
        "version": 3
      },
      "file_extension": ".py",
      "mimetype": "text/x-python",
      "name": "python",
      "nbconvert_exporter": "python",
      "pygments_lexer": "ipython3",
      "version": "3.9.18"
    },
    "vscode": {
      "interpreter": {
        "hash": "19d1d53a962d236aa061289c2ac16dc8e6d9648c89fe79f459ae9a3493bc67b4"
      }
    }
  },
  "nbformat": 4,
  "nbformat_minor": 0
}
